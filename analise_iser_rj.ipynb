{
 "cells": [
  {
   "cell_type": "markdown",
   "id": "9147f6a9",
   "metadata": {},
   "source": [
    "<h1><center> Análise de dados intolerância religiosa Rio de Janeiro</center></h1>"
   ]
  },
  {
   "cell_type": "code",
   "execution_count": 20,
   "id": "cdc8e800",
   "metadata": {},
   "outputs": [],
   "source": [
    "import pandas as pd\n",
    "import numpy as np\n",
    "import matplotlib.pyplot as plt\n",
    "\n",
    "plt.style.use(\"ggplot\")\n",
    "%matplotlib inline"
   ]
  },
  {
   "cell_type": "code",
   "execution_count": 3,
   "id": "48a01cab",
   "metadata": {},
   "outputs": [],
   "source": [
    "dados = pd.read_csv('bases/dados_rj.csv')"
   ]
  },
  {
   "cell_type": "markdown",
   "id": "6cbff3bf",
   "metadata": {},
   "source": [
    "Pela metodologia dos dados enviados há linhas duplicadas relacionadas ao mesmo boletim de ocorrência, para uma análise apenas das denúncias a duplicação pode ser exclusa pela variável controle."
   ]
  },
  {
   "cell_type": "code",
   "execution_count": 3,
   "id": "df23dbaa",
   "metadata": {
    "collapsed": true
   },
   "outputs": [
    {
     "data": {
      "text/html": [
       "<div>\n",
       "<style scoped>\n",
       "    .dataframe tbody tr th:only-of-type {\n",
       "        vertical-align: middle;\n",
       "    }\n",
       "\n",
       "    .dataframe tbody tr th {\n",
       "        vertical-align: top;\n",
       "    }\n",
       "\n",
       "    .dataframe thead th {\n",
       "        text-align: right;\n",
       "    }\n",
       "</style>\n",
       "<table border=\"1\" class=\"dataframe\">\n",
       "  <thead>\n",
       "    <tr style=\"text-align: right;\">\n",
       "      <th></th>\n",
       "      <th>controle</th>\n",
       "      <th>ano</th>\n",
       "      <th>MES</th>\n",
       "      <th>titulo</th>\n",
       "      <th>lei</th>\n",
       "      <th>conteudo</th>\n",
       "      <th>DP</th>\n",
       "      <th>cisp</th>\n",
       "      <th>data_com</th>\n",
       "      <th>data_fato</th>\n",
       "      <th>...</th>\n",
       "      <th>local</th>\n",
       "      <th>sexo</th>\n",
       "      <th>data_nasc</th>\n",
       "      <th>idade</th>\n",
       "      <th>cor</th>\n",
       "      <th>escolaridade</th>\n",
       "      <th>profissao</th>\n",
       "      <th>relacao</th>\n",
       "      <th>bairro_vit</th>\n",
       "      <th>municipio_vit</th>\n",
       "    </tr>\n",
       "  </thead>\n",
       "  <tbody>\n",
       "    <tr>\n",
       "      <th>0</th>\n",
       "      <td>11038441-2021</td>\n",
       "      <td>2021</td>\n",
       "      <td>janeiro</td>\n",
       "      <td>Injúria por preconceito</td>\n",
       "      <td>Não</td>\n",
       "      <td>vítimas</td>\n",
       "      <td>065a. Magé</td>\n",
       "      <td>065a. Magé</td>\n",
       "      <td>01/02/2021</td>\n",
       "      <td>01/02/2021</td>\n",
       "      <td>...</td>\n",
       "      <td>Residência</td>\n",
       "      <td>feminino</td>\n",
       "      <td>12/28/2001</td>\n",
       "      <td>19.0</td>\n",
       "      <td>parda</td>\n",
       "      <td>2º Grau incompleto</td>\n",
       "      <td>Estudante</td>\n",
       "      <td>Nenhuma</td>\n",
       "      <td>Jardim nova marilha</td>\n",
       "      <td>Mage</td>\n",
       "    </tr>\n",
       "    <tr>\n",
       "      <th>1</th>\n",
       "      <td>51803051-2021</td>\n",
       "      <td>2021</td>\n",
       "      <td>janeiro</td>\n",
       "      <td>Injúria por preconceito</td>\n",
       "      <td>Lei Maria da Penha</td>\n",
       "      <td>vítimas</td>\n",
       "      <td>Delegacia de Atendimento à Mulher - Campos</td>\n",
       "      <td>146a. Guarus</td>\n",
       "      <td>01/02/2021</td>\n",
       "      <td>01/01/2021</td>\n",
       "      <td>...</td>\n",
       "      <td>Residência</td>\n",
       "      <td>feminino</td>\n",
       "      <td>3/14/1942</td>\n",
       "      <td>78.0</td>\n",
       "      <td>branca</td>\n",
       "      <td>2º Grau completo</td>\n",
       "      <td>Aposentado(a)</td>\n",
       "      <td>Filho(a)</td>\n",
       "      <td>Pq vicente goncalves dias</td>\n",
       "      <td>Campos dos goytacazes</td>\n",
       "    </tr>\n",
       "    <tr>\n",
       "      <th>2</th>\n",
       "      <td>91094111-2021</td>\n",
       "      <td>2021</td>\n",
       "      <td>janeiro</td>\n",
       "      <td>Injúria por preconceito</td>\n",
       "      <td>Não</td>\n",
       "      <td>vítimas</td>\n",
       "      <td>013a. Ipanema</td>\n",
       "      <td>013a. Ipanema</td>\n",
       "      <td>01/02/2021</td>\n",
       "      <td>01/01/2021</td>\n",
       "      <td>...</td>\n",
       "      <td>Estabelecimento hoteleiro</td>\n",
       "      <td>masculino</td>\n",
       "      <td>03/07/1996</td>\n",
       "      <td>24.0</td>\n",
       "      <td>parda</td>\n",
       "      <td>Doutorado</td>\n",
       "      <td>Advogado(a)</td>\n",
       "      <td>Nenhuma</td>\n",
       "      <td>Centro</td>\n",
       "      <td>Belo horizonte</td>\n",
       "    </tr>\n",
       "    <tr>\n",
       "      <th>3</th>\n",
       "      <td>91711641-2021</td>\n",
       "      <td>2021</td>\n",
       "      <td>janeiro</td>\n",
       "      <td>Injúria por preconceito</td>\n",
       "      <td>Lei Maria da Penha</td>\n",
       "      <td>vítimas</td>\n",
       "      <td>081a. Itaipú</td>\n",
       "      <td>151a. Nova Friburgo</td>\n",
       "      <td>01/02/2021</td>\n",
       "      <td>12/20/2020</td>\n",
       "      <td>...</td>\n",
       "      <td>Residência</td>\n",
       "      <td>feminino</td>\n",
       "      <td>5/30/1959</td>\n",
       "      <td>61.0</td>\n",
       "      <td>branca</td>\n",
       "      <td>3º Grau completo</td>\n",
       "      <td>Bancário(a)</td>\n",
       "      <td>Ex-companheiro(a)</td>\n",
       "      <td>Camboinhas</td>\n",
       "      <td>Niteroi</td>\n",
       "    </tr>\n",
       "    <tr>\n",
       "      <th>4</th>\n",
       "      <td>97709781-2021</td>\n",
       "      <td>2021</td>\n",
       "      <td>janeiro</td>\n",
       "      <td>Injúria por preconceito</td>\n",
       "      <td>Lei Maria da Penha</td>\n",
       "      <td>vítimas</td>\n",
       "      <td>Delegacia de Atendimento à Mulher - Volta Redonda</td>\n",
       "      <td>093a. Volta Redonda</td>\n",
       "      <td>01/02/2021</td>\n",
       "      <td>01/02/2021</td>\n",
       "      <td>...</td>\n",
       "      <td>Residência</td>\n",
       "      <td>feminino</td>\n",
       "      <td>2/22/1987</td>\n",
       "      <td>33.0</td>\n",
       "      <td>negra</td>\n",
       "      <td>1º Grau incompleto</td>\n",
       "      <td>Não possui</td>\n",
       "      <td>Companheiro(a)</td>\n",
       "      <td>Retiro - morro da macumba</td>\n",
       "      <td>Volta redonda</td>\n",
       "    </tr>\n",
       "  </tbody>\n",
       "</table>\n",
       "<p>5 rows × 26 columns</p>\n",
       "</div>"
      ],
      "text/plain": [
       "        controle   ano      MES                   titulo                 lei  \\\n",
       "0  11038441-2021  2021  janeiro  Injúria por preconceito                 Não   \n",
       "1  51803051-2021  2021  janeiro  Injúria por preconceito  Lei Maria da Penha   \n",
       "2  91094111-2021  2021  janeiro  Injúria por preconceito                 Não   \n",
       "3  91711641-2021  2021  janeiro  Injúria por preconceito  Lei Maria da Penha   \n",
       "4  97709781-2021  2021  janeiro  Injúria por preconceito  Lei Maria da Penha   \n",
       "\n",
       "  conteudo                                                 DP  \\\n",
       "0  vítimas                                         065a. Magé   \n",
       "1  vítimas         Delegacia de Atendimento à Mulher - Campos   \n",
       "2  vítimas                                      013a. Ipanema   \n",
       "3  vítimas                                       081a. Itaipú   \n",
       "4  vítimas  Delegacia de Atendimento à Mulher - Volta Redonda   \n",
       "\n",
       "                  cisp    data_com   data_fato  ...  \\\n",
       "0           065a. Magé  01/02/2021  01/02/2021  ...   \n",
       "1         146a. Guarus  01/02/2021  01/01/2021  ...   \n",
       "2        013a. Ipanema  01/02/2021  01/01/2021  ...   \n",
       "3  151a. Nova Friburgo  01/02/2021  12/20/2020  ...   \n",
       "4  093a. Volta Redonda  01/02/2021  01/02/2021  ...   \n",
       "\n",
       "                       local       sexo   data_nasc idade     cor  \\\n",
       "0                 Residência   feminino  12/28/2001  19.0   parda   \n",
       "1                 Residência   feminino   3/14/1942  78.0  branca   \n",
       "2  Estabelecimento hoteleiro  masculino  03/07/1996  24.0   parda   \n",
       "3                 Residência   feminino   5/30/1959  61.0  branca   \n",
       "4                 Residência   feminino   2/22/1987  33.0   negra   \n",
       "\n",
       "         escolaridade      profissao            relacao  \\\n",
       "0  2º Grau incompleto      Estudante            Nenhuma   \n",
       "1    2º Grau completo  Aposentado(a)           Filho(a)   \n",
       "2           Doutorado    Advogado(a)            Nenhuma   \n",
       "3    3º Grau completo    Bancário(a)  Ex-companheiro(a)   \n",
       "4  1º Grau incompleto     Não possui     Companheiro(a)   \n",
       "\n",
       "                  bairro_vit          municipio_vit  \n",
       "0        Jardim nova marilha                   Mage  \n",
       "1  Pq vicente goncalves dias  Campos dos goytacazes  \n",
       "2                     Centro         Belo horizonte  \n",
       "3                 Camboinhas                Niteroi  \n",
       "4  Retiro - morro da macumba          Volta redonda  \n",
       "\n",
       "[5 rows x 26 columns]"
      ]
     },
     "execution_count": 3,
     "metadata": {},
     "output_type": "execute_result"
    }
   ],
   "source": [
    "dados.head()"
   ]
  },
  {
   "cell_type": "code",
   "execution_count": 4,
   "id": "fafef004",
   "metadata": {
    "collapsed": true
   },
   "outputs": [
    {
     "name": "stdout",
     "output_type": "stream",
     "text": [
      "<class 'pandas.core.frame.DataFrame'>\n",
      "RangeIndex: 3903 entries, 0 to 3902\n",
      "Data columns (total 26 columns):\n",
      " #   Column          Non-Null Count  Dtype  \n",
      "---  ------          --------------  -----  \n",
      " 0   controle        3903 non-null   object \n",
      " 1   ano             3903 non-null   int64  \n",
      " 2   MES             3903 non-null   object \n",
      " 3   titulo          3903 non-null   object \n",
      " 4   lei             3903 non-null   object \n",
      " 5   conteudo        3903 non-null   object \n",
      " 6   DP              3903 non-null   object \n",
      " 7   cisp            3903 non-null   object \n",
      " 8   data_com        3903 non-null   object \n",
      " 9   data_fato       3903 non-null   object \n",
      " 10  hora_com        3903 non-null   object \n",
      " 11  hora_fato       3903 non-null   object \n",
      " 12  bairro_fato     3903 non-null   object \n",
      " 13  municipio_fato  3903 non-null   object \n",
      " 14  AISP            3903 non-null   object \n",
      " 15  RISP            3903 non-null   object \n",
      " 16  local           3903 non-null   object \n",
      " 17  sexo            3825 non-null   object \n",
      " 18  data_nasc       3445 non-null   object \n",
      " 19  idade           3445 non-null   float64\n",
      " 20  cor             3825 non-null   object \n",
      " 21  escolaridade    3825 non-null   object \n",
      " 22  profissao       3825 non-null   object \n",
      " 23  relacao         3825 non-null   object \n",
      " 24  bairro_vit      3825 non-null   object \n",
      " 25  municipio_vit   3820 non-null   object \n",
      "dtypes: float64(1), int64(1), object(24)\n",
      "memory usage: 792.9+ KB\n"
     ]
    }
   ],
   "source": [
    "dados.info()"
   ]
  },
  {
   "cell_type": "code",
   "execution_count": 4,
   "id": "a185c6fe",
   "metadata": {},
   "outputs": [],
   "source": [
    "# Excluindo os duplicados\n",
    "dados.drop_duplicates(subset ='controle',\n",
    "                     keep = False, inplace = True)"
   ]
  },
  {
   "cell_type": "markdown",
   "id": "6394bb2d",
   "metadata": {},
   "source": [
    "Foram registrados 3240 denúncias de intolerância religiosa entre 2019 e 2021, 2019 e 2020 concentram 70% das denúncias como mostrado na tabela 1. Ao observar por  mês Janeiro concentra o maior número de registros, 368, seguido de fevereiro (305) e agosto (305) [mostrar tabela]\n",
    " "
   ]
  },
  {
   "cell_type": "code",
   "execution_count": 7,
   "id": "a2b4e65f",
   "metadata": {
    "collapsed": true
   },
   "outputs": [
    {
     "name": "stdout",
     "output_type": "stream",
     "text": [
      "<class 'pandas.core.frame.DataFrame'>\n",
      "Int64Index: 3240 entries, 0 to 3902\n",
      "Data columns (total 26 columns):\n",
      " #   Column          Non-Null Count  Dtype  \n",
      "---  ------          --------------  -----  \n",
      " 0   controle        3240 non-null   object \n",
      " 1   ano             3240 non-null   int64  \n",
      " 2   MES             3240 non-null   object \n",
      " 3   titulo          3240 non-null   object \n",
      " 4   lei             3240 non-null   object \n",
      " 5   conteudo        3240 non-null   object \n",
      " 6   DP              3240 non-null   object \n",
      " 7   cisp            3240 non-null   object \n",
      " 8   data_com        3240 non-null   object \n",
      " 9   data_fato       3240 non-null   object \n",
      " 10  hora_com        3240 non-null   object \n",
      " 11  hora_fato       3240 non-null   object \n",
      " 12  bairro_fato     3240 non-null   object \n",
      " 13  municipio_fato  3240 non-null   object \n",
      " 14  AISP            3240 non-null   object \n",
      " 15  RISP            3240 non-null   object \n",
      " 16  local           3240 non-null   object \n",
      " 17  sexo            3164 non-null   object \n",
      " 18  data_nasc       2838 non-null   object \n",
      " 19  idade           2838 non-null   float64\n",
      " 20  cor             3164 non-null   object \n",
      " 21  escolaridade    3164 non-null   object \n",
      " 22  profissao       3164 non-null   object \n",
      " 23  relacao         3164 non-null   object \n",
      " 24  bairro_vit      3164 non-null   object \n",
      " 25  municipio_vit   3161 non-null   object \n",
      "dtypes: float64(1), int64(1), object(24)\n",
      "memory usage: 683.4+ KB\n"
     ]
    }
   ],
   "source": [
    "dados.info()"
   ]
  },
  {
   "cell_type": "code",
   "execution_count": 8,
   "id": "ce6c112e",
   "metadata": {
    "collapsed": true
   },
   "outputs": [
    {
     "data": {
      "text/plain": [
       "2020    1136\n",
       "2019    1120\n",
       "2021     984\n",
       "Name: ano, dtype: int64"
      ]
     },
     "execution_count": 8,
     "metadata": {},
     "output_type": "execute_result"
    }
   ],
   "source": [
    "dados['ano'].value_counts()"
   ]
  },
  {
   "cell_type": "code",
   "execution_count": 9,
   "id": "f1b3cb37",
   "metadata": {
    "collapsed": true
   },
   "outputs": [
    {
     "data": {
      "text/plain": [
       "2020    35.061728\n",
       "2019    34.567901\n",
       "2021    30.370370\n",
       "Name: ano, dtype: float64"
      ]
     },
     "execution_count": 9,
     "metadata": {},
     "output_type": "execute_result"
    }
   ],
   "source": [
    "dados['ano'].value_counts()*100/3240"
   ]
  },
  {
   "cell_type": "code",
   "execution_count": null,
   "id": "64b376a3",
   "metadata": {},
   "outputs": [],
   "source": []
  },
  {
   "cell_type": "code",
   "execution_count": 10,
   "id": "01bc12ec",
   "metadata": {
    "collapsed": true
   },
   "outputs": [
    {
     "data": {
      "text/plain": [
       "False    3240\n",
       "Name: ano, dtype: int64"
      ]
     },
     "execution_count": 10,
     "metadata": {},
     "output_type": "execute_result"
    }
   ],
   "source": [
    "dados['ano'].isnull().value_counts()"
   ]
  },
  {
   "cell_type": "code",
   "execution_count": 22,
   "id": "8ab2e0e3",
   "metadata": {
    "collapsed": true
   },
   "outputs": [
    {
     "data": {
      "text/plain": [
       "janeiro      368\n",
       "fevereiro    305\n",
       "agosto       302\n",
       "setembro     301\n",
       "julho        283\n",
       "junho        274\n",
       "março        268\n",
       "abril        234\n",
       "maio         234\n",
       "outubro      232\n",
       "dezembro     229\n",
       "novembro     210\n",
       "Name: MES, dtype: int64"
      ]
     },
     "execution_count": 22,
     "metadata": {},
     "output_type": "execute_result"
    }
   ],
   "source": [
    "dados['MES'].value_counts()"
   ]
  },
  {
   "cell_type": "code",
   "execution_count": 48,
   "id": "2b38ea79",
   "metadata": {
    "collapsed": true
   },
   "outputs": [
    {
     "data": {
      "image/png": "[encoded data removed]",
      "text/plain": [
       "<Figure size 864x576 with 1 Axes>"
      ]
     },
     "metadata": {
      "needs_background": "light"
     },
     "output_type": "display_data"
    }
   ],
   "source": [
    "# gráfico\n",
    "x = np.array(dados['MES'].unique())\n",
    "y = [368, 305, 268, 234, 234, 274,283, 302, 301, 232, 210, 229]\n",
    "plt.figure(figsize=(12,8))\n",
    "plt.bar(x,y, color='Gray')\n",
    "plt.xlabel('Mês')\n",
    "plt.ylabel('Quatidade')\n",
    "plt.show()\n"
   ]
  },
  {
   "cell_type": "markdown",
   "id": "dd291f23",
   "metadata": {},
   "source": [
    "A maioria das denúncias são denominadas como injúria e aproximadamente 2% é titulada como Ultraje a Culto e Impedimento ou Perturbação de Ato a ele Relativo. Mais de 90% das denúncias não estão direcionadas a uma lei e 7% se enquada na Maria da Penha. \n"
   ]
  },
  {
   "cell_type": "code",
   "execution_count": 50,
   "id": "fa176482",
   "metadata": {
    "scrolled": true
   },
   "outputs": [
    {
     "data": {
      "text/plain": [
       "Injúria por preconceito                                               88.425926\n",
       "Preconceito de Raça ou de Cor                                          9.413580\n",
       "Ultraje a Culto e Impedimento ou Perturbação de Ato a ele Relativo     2.160494\n",
       "Name: titulo, dtype: float64"
      ]
     },
     "execution_count": 50,
     "metadata": {},
     "output_type": "execute_result"
    }
   ],
   "source": [
    "dados['titulo'].value_counts()*100/3240"
   ]
  },
  {
   "cell_type": "code",
   "execution_count": 52,
   "id": "f6469b51",
   "metadata": {},
   "outputs": [],
   "source": [
    "titulo = ['Injúria por preconceito', 'Preconceito de Raça ou de Cor',\n",
    "       'Ultraje a Culto e Impedimento ou Perturbação de Ato a ele Relativo']"
   ]
  },
  {
   "cell_type": "code",
   "execution_count": 59,
   "id": "0e98399a",
   "metadata": {
    "collapsed": true
   },
   "outputs": [
    {
     "data": {
      "image/png": "[encoded data removed]",
      "text/plain": [
       "<Figure size 432x288 with 1 Axes>"
      ]
     },
     "metadata": {
      "needs_background": "light"
     },
     "output_type": "display_data"
    }
   ],
   "source": [
    "titulo = ['Injúria por preconceito', 'Preconceito de Raça ou de Cor',\n",
    "       'Ultraje a Culto e Impedimento ou Perturbação de Ato a ele Relativo']\n",
    "y2 = [88.4, 9.4, 2.2]\n",
    "plt.barh(titulo, y2,color='Gray')\n",
    "plt.title(\"Percentual por títuluarização das denúncias\")\n",
    "plt.xlabel('Percentual')\n",
    "plt.show()"
   ]
  },
  {
   "cell_type": "code",
   "execution_count": 62,
   "id": "86783429",
   "metadata": {
    "scrolled": true
   },
   "outputs": [
    {
     "data": {
      "text/plain": [
       "Não                   91.111111\n",
       "Lei Maria da Penha     7.129630\n",
       "Lei 9.099/95           1.759259\n",
       "Name: lei, dtype: float64"
      ]
     },
     "execution_count": 62,
     "metadata": {},
     "output_type": "execute_result"
    }
   ],
   "source": [
    "dados['lei'].value_counts()*100/3240"
   ]
  },
  {
   "cell_type": "code",
   "execution_count": 96,
   "id": "1dcd94d0",
   "metadata": {
    "collapsed": true
   },
   "outputs": [
    {
     "data": {
      "image/png": "[encoded data removed]",
      "text/plain": [
       "<Figure size 432x288 with 1 Axes>"
      ]
     },
     "metadata": {
      "needs_background": "light"
     },
     "output_type": "display_data"
    }
   ],
   "source": [
    "lei = ['Não', 'Lei Maria da Penha', 'Lei 9.099/95' ]\n",
    "y4 = [91, 7, 2]\n",
    "plt.bar(lei, y4,color='Gray')\n",
    "plt.title(\"Percentual por lei das denúncias\")\n",
    "plt.xlabel('Percentual')\n",
    "plt.show()"
   ]
  },
  {
   "cell_type": "markdown",
   "id": "e32c4601",
   "metadata": {},
   "source": [
    "Grande parte dos crimes de intolerância religiosa nessa janela temporal ocorreram no Centro-RJ , mas 157 não foram informado o bairro e 90 não tinha o bairro cadastro nos sistemas de delegacia. \n",
    "\n",
    "51% das denúncias são do municipio do Rio de Janeiro, seguido de 5% Niterói e 4% Nova Iguaçu.\n",
    "  \n",
    "O local do crime é predominate em residência da vítima, mas 17% é em via pública e 13% em outros locais não definidos. [gráfico dos 20 locais com maior número denuncia]\n",
    "  \n",
    "Apenas 387 das denúnicas são feitas em delegacias específicas ao combate de crimes raciais e delitos de intolerância. \n",
    "  \n",
    "  [Gráficos com o bairro e municipio os 20 com maior número de denuncia e os 20 com menor número]"
   ]
  },
  {
   "cell_type": "code",
   "execution_count": null,
   "id": "0613318e",
   "metadata": {},
   "outputs": [],
   "source": []
  },
  {
   "cell_type": "code",
   "execution_count": 79,
   "id": "6b315905",
   "metadata": {
    "collapsed": true
   },
   "outputs": [
    {
     "data": {
      "text/plain": [
       "<AxesSubplot:title={'center':'Os 10 bairros com mair número de fatos'}>"
      ]
     },
     "execution_count": 79,
     "metadata": {},
     "output_type": "execute_result"
    },
    {
     "data": {
      "image/png": "[encoded data removed]",
      "text/plain": [
       "<Figure size 432x288 with 1 Axes>"
      ]
     },
     "metadata": {
      "needs_background": "light"
     },
     "output_type": "display_data"
    }
   ],
   "source": [
    "dados['bairro_fato'].value_counts().head(10).plot(kind='barh', color='gray', title='Os 10 bairros com mair número de fatos')"
   ]
  },
  {
   "cell_type": "code",
   "execution_count": 81,
   "id": "296ca17d",
   "metadata": {},
   "outputs": [],
   "source": [
    "mun = pd.DataFrame(dados['municipio_fato'].value_counts().head(10))"
   ]
  },
  {
   "cell_type": "code",
   "execution_count": 83,
   "id": "758a05d4",
   "metadata": {},
   "outputs": [],
   "source": [
    "mun['Percent'] = mun['municipio_fato']*100/3240"
   ]
  },
  {
   "cell_type": "code",
   "execution_count": 84,
   "id": "1a2d34a4",
   "metadata": {
    "collapsed": true
   },
   "outputs": [
    {
     "data": {
      "text/html": [
       "<div>\n",
       "<style scoped>\n",
       "    .dataframe tbody tr th:only-of-type {\n",
       "        vertical-align: middle;\n",
       "    }\n",
       "\n",
       "    .dataframe tbody tr th {\n",
       "        vertical-align: top;\n",
       "    }\n",
       "\n",
       "    .dataframe thead th {\n",
       "        text-align: right;\n",
       "    }\n",
       "</style>\n",
       "<table border=\"1\" class=\"dataframe\">\n",
       "  <thead>\n",
       "    <tr style=\"text-align: right;\">\n",
       "      <th></th>\n",
       "      <th>municipio_fato</th>\n",
       "      <th>Percent</th>\n",
       "    </tr>\n",
       "  </thead>\n",
       "  <tbody>\n",
       "    <tr>\n",
       "      <th>Rio de Janeiro</th>\n",
       "      <td>1664</td>\n",
       "      <td>51.358025</td>\n",
       "    </tr>\n",
       "    <tr>\n",
       "      <th>Niterói</th>\n",
       "      <td>150</td>\n",
       "      <td>4.629630</td>\n",
       "    </tr>\n",
       "    <tr>\n",
       "      <th>Nova Iguaçu</th>\n",
       "      <td>130</td>\n",
       "      <td>4.012346</td>\n",
       "    </tr>\n",
       "    <tr>\n",
       "      <th>Duque de Caxias</th>\n",
       "      <td>99</td>\n",
       "      <td>3.055556</td>\n",
       "    </tr>\n",
       "    <tr>\n",
       "      <th>São Gonçalo</th>\n",
       "      <td>91</td>\n",
       "      <td>2.808642</td>\n",
       "    </tr>\n",
       "    <tr>\n",
       "      <th>Petrópolis</th>\n",
       "      <td>63</td>\n",
       "      <td>1.944444</td>\n",
       "    </tr>\n",
       "    <tr>\n",
       "      <th>Nova Friburgo</th>\n",
       "      <td>58</td>\n",
       "      <td>1.790123</td>\n",
       "    </tr>\n",
       "    <tr>\n",
       "      <th>Volta Redonda</th>\n",
       "      <td>51</td>\n",
       "      <td>1.574074</td>\n",
       "    </tr>\n",
       "    <tr>\n",
       "      <th>Teresópolis</th>\n",
       "      <td>45</td>\n",
       "      <td>1.388889</td>\n",
       "    </tr>\n",
       "    <tr>\n",
       "      <th>São João de Meriti</th>\n",
       "      <td>43</td>\n",
       "      <td>1.327160</td>\n",
       "    </tr>\n",
       "  </tbody>\n",
       "</table>\n",
       "</div>"
      ],
      "text/plain": [
       "                    municipio_fato    Percent\n",
       "Rio de Janeiro                1664  51.358025\n",
       "Niterói                        150   4.629630\n",
       "Nova Iguaçu                    130   4.012346\n",
       "Duque de Caxias                 99   3.055556\n",
       "São Gonçalo                     91   2.808642\n",
       "Petrópolis                      63   1.944444\n",
       "Nova Friburgo                   58   1.790123\n",
       "Volta Redonda                   51   1.574074\n",
       "Teresópolis                     45   1.388889\n",
       "São João de Meriti              43   1.327160"
      ]
     },
     "execution_count": 84,
     "metadata": {},
     "output_type": "execute_result"
    }
   ],
   "source": [
    "mun"
   ]
  },
  {
   "cell_type": "code",
   "execution_count": 25,
   "id": "f7875526",
   "metadata": {
    "collapsed": true
   },
   "outputs": [
    {
     "data": {
      "text/plain": [
       "False    3240\n",
       "Name: municipio_fato, dtype: int64"
      ]
     },
     "execution_count": 25,
     "metadata": {},
     "output_type": "execute_result"
    }
   ],
   "source": [
    "dados['municipio_fato'].isnull().value_counts()"
   ]
  },
  {
   "cell_type": "code",
   "execution_count": 27,
   "id": "2ba2c789",
   "metadata": {
    "collapsed": true
   },
   "outputs": [
    {
     "data": {
      "text/plain": [
       "Residência                            26.635802\n",
       "Via pública                           17.098765\n",
       "Outros                                12.623457\n",
       "Ambiente virtual                       8.549383\n",
       "Estabelecimento comercial              7.901235\n",
       "Condomínio                             6.296296\n",
       "Ignorado                               2.993827\n",
       "Hospital                               2.345679\n",
       "Bar/restaurante                        1.697531\n",
       "Instituição religiosa                  1.512346\n",
       "Estabelecimento de ensino              1.481481\n",
       "Estab. público municipal               1.358025\n",
       "Shopping center                        1.234568\n",
       "Supermercado                           1.018519\n",
       "Vila                                   0.833333\n",
       "Sem informação                         0.740741\n",
       "Estabelecimento financeiro             0.648148\n",
       "Estabelecimento hoteleiro              0.493827\n",
       "Estab. público estadual                0.401235\n",
       "Escritório                             0.370370\n",
       "Estab. público federal                 0.370370\n",
       "Interior de coletivo                   0.339506\n",
       "Praia                                  0.339506\n",
       "Conjunto habitacional                  0.277778\n",
       "Clube/instituição desportiva           0.216049\n",
       "Posto de gasolina                      0.185185\n",
       "Interior de transporte alternativo     0.154321\n",
       "Estádio                                0.154321\n",
       "Estação ferroviária                    0.154321\n",
       "Delegacia policial                     0.154321\n",
       "Estação metroviária                    0.123457\n",
       "Parque                                 0.123457\n",
       "Sítio                                  0.123457\n",
       "Estabelecimento prisional              0.123457\n",
       "Estação rodoviária                     0.092593\n",
       "Interior de táxi                       0.092593\n",
       "Boate                                  0.092593\n",
       "Estacionamento                         0.092593\n",
       "Morro                                  0.061728\n",
       "Floresta                               0.061728\n",
       "Rio                                    0.061728\n",
       "Favela                                 0.061728\n",
       "Interior de composição metroviária     0.061728\n",
       "Teatro                                 0.030864\n",
       "Estabelecimento militar                0.030864\n",
       "Mar                                    0.030864\n",
       "Estabelecimento industrial             0.030864\n",
       "Aeroporto                              0.030864\n",
       "Caixa eletrônico                       0.030864\n",
       "Casa de show                           0.030864\n",
       "Campo                                  0.030864\n",
       "Name: local, dtype: float64"
      ]
     },
     "execution_count": 27,
     "metadata": {},
     "output_type": "execute_result"
    }
   ],
   "source": [
    "dados['local'].value_counts()*100/3240"
   ]
  },
  {
   "cell_type": "code",
   "execution_count": 28,
   "id": "346d26de",
   "metadata": {
    "collapsed": true
   },
   "outputs": [
    {
     "data": {
      "text/plain": [
       "Delegacia de Combate a Crimes Raciais e Delitos de Intolerância    387\n",
       "032a. Taquara                                                       83\n",
       "016a. Barra da Tijuca                                               76\n",
       "035a. Campo Grande                                                  61\n",
       "042a. Recreio                                                       52\n",
       "                                                                  ... \n",
       "098a. Paulo de Frontin                                               1\n",
       "140a. Natividade                                                     1\n",
       "Delegacia de Atendimento ao Turista                                  1\n",
       "135a. Itaocara                                                       1\n",
       "121a. Casimiro de Abreu                                              1\n",
       "Name: DP, Length: 161, dtype: int64"
      ]
     },
     "execution_count": 28,
     "metadata": {},
     "output_type": "execute_result"
    }
   ],
   "source": [
    "dados['DP'].value_counts()"
   ]
  },
  {
   "cell_type": "code",
   "execution_count": 30,
   "id": "a63092d8",
   "metadata": {},
   "outputs": [],
   "source": [
    "for (row, col) in dados.iterrows():\n",
    "    if col.RISP == 'RISP 01':\n",
    "        dados['RISP'].replace(to_replace=col.RISP, value='Capital (Zona Sul, Centro e parte da Norte)', inplace=True)\n",
    "    if col.RISP == 'RISP 02':\n",
    "        dados['RISP'].replace(to_replace=col.RISP, value='Capital (Zona Oeste e parte da Norte)', inplace=True)\n",
    "    if col.RISP == 'RISP 03':\n",
    "        dados['RISP'].replace(to_replace=col.RISP, value='Baixada Fluminense', inplace=True)\n",
    "    if col.RISP == 'RISP 04':\n",
    "        dados['RISP'].replace(to_replace=col.RISP, value='Grande Niterói e Região dos Lagos', inplace=True)\n",
    "    if col.RISP == 'RISP 05':\n",
    "        dados['RISP'].replace(to_replace=col.RISP, value='Sul Fluminense', inplace=True)\n",
    "    if col.RISP == 'RISP 06':\n",
    "        dados['RISP'].replace(to_replace=col.RISP, value='Norte Fluminense e Noroeste', inplace=True)\n",
    "    if col.RISP == 'RISP 07':\n",
    "        dados['RISP'].replace(to_replace=col.RISP, value='Região Serrana', inplace=True)\n",
    "   "
   ]
  },
  {
   "cell_type": "code",
   "execution_count": 31,
   "id": "4cfb3ade",
   "metadata": {
    "collapsed": true
   },
   "outputs": [
    {
     "data": {
      "text/plain": [
       "Capital (Zona Sul, Centro e parte da Norte)    889\n",
       "Capital (Zona Oeste e parte da Norte)          775\n",
       "Grande Niterói e Região dos Lagos              459\n",
       "Baixada Fluminense                             452\n",
       "Sul Fluminense                                 262\n",
       "Região Serrana                                 229\n",
       "Norte Fluminense e Noroeste                    174\n",
       "Name: RISP, dtype: int64"
      ]
     },
     "execution_count": 31,
     "metadata": {},
     "output_type": "execute_result"
    }
   ],
   "source": [
    "dados['RISP'].value_counts()"
   ]
  },
  {
   "cell_type": "markdown",
   "id": "6c31a1c7",
   "metadata": {},
   "source": [
    "Recorte para o crimes que se enquadra em \n",
    " - Ultraje a Culto e Impedimento ou Perturbação de Ato a ele Relativo"
   ]
  },
  {
   "cell_type": "markdown",
   "id": "bdc03915",
   "metadata": {},
   "source": [
    "Entre 2019 e 2021 há 70 denúncias para o título enquadrado em Ultraje a Culto e Impedimento ou Perturbação de Ato a ele Relativo, destes 41% é de 2019 e os mês que mais engloba denúncias nos três anos é Outubro com 13%, janeiro com 11% e abril é o mês com menor número denuncias, 3%.\n",
    "\n",
    "56 denúncias das 70 está direcionada a Lei 9.099/95, \n",
    "\n",
    "Quanto a localidade  a maioria dos fatos acontecem Centro-RJ, com 8% não tendo o bairro cadastrado. Quando observamos dados de município do fato Rio de Janeiro tem registrado metade das denúncias.\n",
    "\n",
    "Diferente dados geral, temos que o local que mais ocorre o crime contra Ultraje ... é Instituções religiosas,41% e residência da vítima 23%.\n",
    "\n",
    "Como em geral a delegacia que mais recebe denuncias dessa titularização é a DECRADI. "
   ]
  },
  {
   "cell_type": "code",
   "execution_count": 85,
   "id": "3662ee26",
   "metadata": {},
   "outputs": [],
   "source": [
    "dados2 = pd.DataFrame(dados.loc[dados['titulo'] == 'Ultraje a Culto e Impedimento ou Perturbação de Ato a ele Relativo'])"
   ]
  },
  {
   "cell_type": "code",
   "execution_count": 34,
   "id": "1b6d6dec",
   "metadata": {
    "collapsed": true
   },
   "outputs": [
    {
     "name": "stdout",
     "output_type": "stream",
     "text": [
      "<class 'pandas.core.frame.DataFrame'>\n",
      "Int64Index: 70 entries, 39 to 3884\n",
      "Data columns (total 26 columns):\n",
      " #   Column          Non-Null Count  Dtype  \n",
      "---  ------          --------------  -----  \n",
      " 0   controle        70 non-null     object \n",
      " 1   ano             70 non-null     int64  \n",
      " 2   MES             70 non-null     object \n",
      " 3   titulo          70 non-null     object \n",
      " 4   lei             70 non-null     object \n",
      " 5   conteudo        70 non-null     object \n",
      " 6   DP              70 non-null     object \n",
      " 7   cisp            70 non-null     object \n",
      " 8   data_com        70 non-null     object \n",
      " 9   data_fato       70 non-null     object \n",
      " 10  hora_com        70 non-null     object \n",
      " 11  hora_fato       70 non-null     object \n",
      " 12  bairro_fato     70 non-null     object \n",
      " 13  municipio_fato  70 non-null     object \n",
      " 14  AISP            70 non-null     object \n",
      " 15  RISP            70 non-null     object \n",
      " 16  local           70 non-null     object \n",
      " 17  sexo            70 non-null     object \n",
      " 18  data_nasc       0 non-null      object \n",
      " 19  idade           0 non-null      float64\n",
      " 20  cor             70 non-null     object \n",
      " 21  escolaridade    70 non-null     object \n",
      " 22  profissao       70 non-null     object \n",
      " 23  relacao         70 non-null     object \n",
      " 24  bairro_vit      70 non-null     object \n",
      " 25  municipio_vit   70 non-null     object \n",
      "dtypes: float64(1), int64(1), object(24)\n",
      "memory usage: 14.8+ KB\n"
     ]
    }
   ],
   "source": [
    "dados2.info()"
   ]
  },
  {
   "cell_type": "code",
   "execution_count": 86,
   "id": "b751cc49",
   "metadata": {},
   "outputs": [
    {
     "data": {
      "text/plain": [
       "2019    29\n",
       "2020    22\n",
       "2021    19\n",
       "Name: ano, dtype: int64"
      ]
     },
     "execution_count": 86,
     "metadata": {},
     "output_type": "execute_result"
    }
   ],
   "source": [
    "# Gráfico\n",
    "dados2['ano'].value_counts()"
   ]
  },
  {
   "cell_type": "code",
   "execution_count": 93,
   "id": "025e9009",
   "metadata": {
    "collapsed": true
   },
   "outputs": [
    {
     "data": {
      "text/plain": [
       "<AxesSubplot:title={'center':'Denúncias por mês de 2019 a 2021'}>"
      ]
     },
     "execution_count": 93,
     "metadata": {},
     "output_type": "execute_result"
    },
    {
     "data": {
      "image/png": "[encoded data removed]",
      "text/plain": [
       "<Figure size 432x288 with 1 Axes>"
      ]
     },
     "metadata": {
      "needs_background": "light"
     },
     "output_type": "display_data"
    }
   ],
   "source": [
    "dados2['MES'].value_counts().plot(kind='barh', color='gray', title=('Denúncias por mês de 2019 a 2021'))"
   ]
  },
  {
   "cell_type": "code",
   "execution_count": 38,
   "id": "b250981b",
   "metadata": {},
   "outputs": [
    {
     "data": {
      "text/plain": [
       "Lei 9.099/95          56\n",
       "Não                   13\n",
       "Lei Maria da Penha     1\n",
       "Name: lei, dtype: int64"
      ]
     },
     "execution_count": 38,
     "metadata": {},
     "output_type": "execute_result"
    }
   ],
   "source": [
    "# Gráfico\n",
    "dados2['lei'].value_counts()"
   ]
  },
  {
   "cell_type": "code",
   "execution_count": 95,
   "id": "a1b9a9c9",
   "metadata": {
    "collapsed": true
   },
   "outputs": [
    {
     "data": {
      "image/png": "[encoded data removed]",
      "text/plain": [
       "<Figure size 432x288 with 1 Axes>"
      ]
     },
     "metadata": {
      "needs_background": "light"
     },
     "output_type": "display_data"
    }
   ],
   "source": [
    "lei = ['Não', 'Lei Maria da Penha', 'Lei 9.099/95' ]\n",
    "y5 = [13, 1, 56]\n",
    "plt.bar(lei, y5,color='Gray')\n",
    "plt.title(\"Percentual por lei das denúncias\")\n",
    "plt.xlabel('Percentual')\n",
    "plt.show()"
   ]
  },
  {
   "cell_type": "code",
   "execution_count": 39,
   "id": "3d7be212",
   "metadata": {
    "collapsed": true
   },
   "outputs": [
    {
     "data": {
      "text/plain": [
       "casos    70\n",
       "Name: conteudo, dtype: int64"
      ]
     },
     "execution_count": 39,
     "metadata": {},
     "output_type": "execute_result"
    }
   ],
   "source": [
    "dados2['conteudo'].value_counts()"
   ]
  },
  {
   "cell_type": "code",
   "execution_count": 98,
   "id": "43c3c3a0",
   "metadata": {
    "collapsed": true
   },
   "outputs": [
    {
     "data": {
      "text/plain": [
       "<AxesSubplot:title={'center':'Os 10 bairros do fato com maior número de denúncias'}>"
      ]
     },
     "execution_count": 98,
     "metadata": {},
     "output_type": "execute_result"
    },
    {
     "data": {
      "image/png": "[encoded data removed]",
      "text/plain": [
       "<Figure size 432x288 with 1 Axes>"
      ]
     },
     "metadata": {
      "needs_background": "light"
     },
     "output_type": "display_data"
    }
   ],
   "source": [
    "# Gráfico\n",
    "dados2['bairro_fato'].value_counts().head(10).plot(kind='barh',color='gray', title='Os 10 bairros do fato com maior número de denúncias')"
   ]
  },
  {
   "cell_type": "code",
   "execution_count": 104,
   "id": "99d1d4ae",
   "metadata": {},
   "outputs": [],
   "source": [
    "mun_recorte = pd.DataFrame(dados2['municipio_fato'].value_counts().head(10))"
   ]
  },
  {
   "cell_type": "code",
   "execution_count": 105,
   "id": "93f48201",
   "metadata": {},
   "outputs": [],
   "source": [
    "mun_recorte['Percent %'] = mun_recorte['municipio_fato']*100/70"
   ]
  },
  {
   "cell_type": "code",
   "execution_count": 106,
   "id": "8c0c0dfe",
   "metadata": {
    "collapsed": true
   },
   "outputs": [
    {
     "data": {
      "text/html": [
       "<div>\n",
       "<style scoped>\n",
       "    .dataframe tbody tr th:only-of-type {\n",
       "        vertical-align: middle;\n",
       "    }\n",
       "\n",
       "    .dataframe tbody tr th {\n",
       "        vertical-align: top;\n",
       "    }\n",
       "\n",
       "    .dataframe thead th {\n",
       "        text-align: right;\n",
       "    }\n",
       "</style>\n",
       "<table border=\"1\" class=\"dataframe\">\n",
       "  <thead>\n",
       "    <tr style=\"text-align: right;\">\n",
       "      <th></th>\n",
       "      <th>municipio_fato</th>\n",
       "      <th>Percent %</th>\n",
       "    </tr>\n",
       "  </thead>\n",
       "  <tbody>\n",
       "    <tr>\n",
       "      <th>Rio de Janeiro</th>\n",
       "      <td>35</td>\n",
       "      <td>50.000000</td>\n",
       "    </tr>\n",
       "    <tr>\n",
       "      <th>Saquarema</th>\n",
       "      <td>3</td>\n",
       "      <td>4.285714</td>\n",
       "    </tr>\n",
       "    <tr>\n",
       "      <th>Maricá</th>\n",
       "      <td>3</td>\n",
       "      <td>4.285714</td>\n",
       "    </tr>\n",
       "    <tr>\n",
       "      <th>Petrópolis</th>\n",
       "      <td>3</td>\n",
       "      <td>4.285714</td>\n",
       "    </tr>\n",
       "    <tr>\n",
       "      <th>Nova Iguaçu</th>\n",
       "      <td>2</td>\n",
       "      <td>2.857143</td>\n",
       "    </tr>\n",
       "    <tr>\n",
       "      <th>São Gonçalo</th>\n",
       "      <td>2</td>\n",
       "      <td>2.857143</td>\n",
       "    </tr>\n",
       "    <tr>\n",
       "      <th>São João de Meriti</th>\n",
       "      <td>2</td>\n",
       "      <td>2.857143</td>\n",
       "    </tr>\n",
       "    <tr>\n",
       "      <th>Volta Redonda</th>\n",
       "      <td>2</td>\n",
       "      <td>2.857143</td>\n",
       "    </tr>\n",
       "    <tr>\n",
       "      <th>Niterói</th>\n",
       "      <td>2</td>\n",
       "      <td>2.857143</td>\n",
       "    </tr>\n",
       "    <tr>\n",
       "      <th>Macaé</th>\n",
       "      <td>1</td>\n",
       "      <td>1.428571</td>\n",
       "    </tr>\n",
       "  </tbody>\n",
       "</table>\n",
       "</div>"
      ],
      "text/plain": [
       "                    municipio_fato  Percent %\n",
       "Rio de Janeiro                  35  50.000000\n",
       "Saquarema                        3   4.285714\n",
       "Maricá                           3   4.285714\n",
       "Petrópolis                       3   4.285714\n",
       "Nova Iguaçu                      2   2.857143\n",
       "São Gonçalo                      2   2.857143\n",
       "São João de Meriti               2   2.857143\n",
       "Volta Redonda                    2   2.857143\n",
       "Niterói                          2   2.857143\n",
       "Macaé                            1   1.428571"
      ]
     },
     "execution_count": 106,
     "metadata": {},
     "output_type": "execute_result"
    }
   ],
   "source": [
    "mun_recorte"
   ]
  },
  {
   "cell_type": "code",
   "execution_count": 107,
   "id": "a95223dd",
   "metadata": {},
   "outputs": [],
   "source": [
    "local_recorte = pd.DataFrame(dados2['local'].value_counts()*100/70)"
   ]
  },
  {
   "cell_type": "code",
   "execution_count": 108,
   "id": "aeb827a3",
   "metadata": {
    "collapsed": true
   },
   "outputs": [
    {
     "data": {
      "text/html": [
       "<div>\n",
       "<style scoped>\n",
       "    .dataframe tbody tr th:only-of-type {\n",
       "        vertical-align: middle;\n",
       "    }\n",
       "\n",
       "    .dataframe tbody tr th {\n",
       "        vertical-align: top;\n",
       "    }\n",
       "\n",
       "    .dataframe thead th {\n",
       "        text-align: right;\n",
       "    }\n",
       "</style>\n",
       "<table border=\"1\" class=\"dataframe\">\n",
       "  <thead>\n",
       "    <tr style=\"text-align: right;\">\n",
       "      <th></th>\n",
       "      <th>local</th>\n",
       "    </tr>\n",
       "  </thead>\n",
       "  <tbody>\n",
       "    <tr>\n",
       "      <th>Instituição religiosa</th>\n",
       "      <td>41.428571</td>\n",
       "    </tr>\n",
       "    <tr>\n",
       "      <th>Residência</th>\n",
       "      <td>22.857143</td>\n",
       "    </tr>\n",
       "    <tr>\n",
       "      <th>Outros</th>\n",
       "      <td>14.285714</td>\n",
       "    </tr>\n",
       "    <tr>\n",
       "      <th>Via pública</th>\n",
       "      <td>10.000000</td>\n",
       "    </tr>\n",
       "    <tr>\n",
       "      <th>Condomínio</th>\n",
       "      <td>2.857143</td>\n",
       "    </tr>\n",
       "    <tr>\n",
       "      <th>Estab. público estadual</th>\n",
       "      <td>1.428571</td>\n",
       "    </tr>\n",
       "    <tr>\n",
       "      <th>Ignorado</th>\n",
       "      <td>1.428571</td>\n",
       "    </tr>\n",
       "    <tr>\n",
       "      <th>Ambiente virtual</th>\n",
       "      <td>1.428571</td>\n",
       "    </tr>\n",
       "    <tr>\n",
       "      <th>Estabelecimento comercial</th>\n",
       "      <td>1.428571</td>\n",
       "    </tr>\n",
       "    <tr>\n",
       "      <th>Estab. público municipal</th>\n",
       "      <td>1.428571</td>\n",
       "    </tr>\n",
       "    <tr>\n",
       "      <th>Floresta</th>\n",
       "      <td>1.428571</td>\n",
       "    </tr>\n",
       "  </tbody>\n",
       "</table>\n",
       "</div>"
      ],
      "text/plain": [
       "                               local\n",
       "Instituição religiosa      41.428571\n",
       "Residência                 22.857143\n",
       "Outros                     14.285714\n",
       "Via pública                10.000000\n",
       "Condomínio                  2.857143\n",
       "Estab. público estadual     1.428571\n",
       "Ignorado                    1.428571\n",
       "Ambiente virtual            1.428571\n",
       "Estabelecimento comercial   1.428571\n",
       "Estab. público municipal    1.428571\n",
       "Floresta                    1.428571"
      ]
     },
     "execution_count": 108,
     "metadata": {},
     "output_type": "execute_result"
    }
   ],
   "source": [
    "local_recorte"
   ]
  },
  {
   "cell_type": "code",
   "execution_count": 113,
   "id": "36542762",
   "metadata": {},
   "outputs": [],
   "source": [
    "x = local_recorte.index.tolist()\n",
    "y =local_recorte['local'].tolist()"
   ]
  },
  {
   "cell_type": "code",
   "execution_count": 116,
   "id": "d7d3ae5f",
   "metadata": {
    "collapsed": true
   },
   "outputs": [
    {
     "data": {
      "text/plain": [
       "<BarContainer object of 11 artists>"
      ]
     },
     "execution_count": 116,
     "metadata": {},
     "output_type": "execute_result"
    },
    {
     "data": {
      "image/png": "[encoded data removed]",
      "text/plain": [
       "<Figure size 432x288 with 1 Axes>"
      ]
     },
     "metadata": {
      "needs_background": "light"
     },
     "output_type": "display_data"
    }
   ],
   "source": [
    "plt.barh(x,y, color='gray')"
   ]
  },
  {
   "cell_type": "code",
   "execution_count": 118,
   "id": "031e524f",
   "metadata": {},
   "outputs": [],
   "source": [
    "#gráfico\n",
    "dp_recorte = pd.DataFrame(dados2['DP'].value_counts().head(10))"
   ]
  },
  {
   "cell_type": "code",
   "execution_count": 120,
   "id": "33b937de",
   "metadata": {},
   "outputs": [],
   "source": [
    "dp_recorte['Percent'] = dp_recorte['DP']*100/70"
   ]
  },
  {
   "cell_type": "code",
   "execution_count": 121,
   "id": "6dad78d4",
   "metadata": {},
   "outputs": [
    {
     "data": {
      "text/html": [
       "<div>\n",
       "<style scoped>\n",
       "    .dataframe tbody tr th:only-of-type {\n",
       "        vertical-align: middle;\n",
       "    }\n",
       "\n",
       "    .dataframe tbody tr th {\n",
       "        vertical-align: top;\n",
       "    }\n",
       "\n",
       "    .dataframe thead th {\n",
       "        text-align: right;\n",
       "    }\n",
       "</style>\n",
       "<table border=\"1\" class=\"dataframe\">\n",
       "  <thead>\n",
       "    <tr style=\"text-align: right;\">\n",
       "      <th></th>\n",
       "      <th>DP</th>\n",
       "      <th>Percent</th>\n",
       "    </tr>\n",
       "  </thead>\n",
       "  <tbody>\n",
       "    <tr>\n",
       "      <th>Delegacia de Combate a Crimes Raciais e Delitos de Intolerância</th>\n",
       "      <td>13</td>\n",
       "      <td>18.571429</td>\n",
       "    </tr>\n",
       "    <tr>\n",
       "      <th>082a. Maricá</th>\n",
       "      <td>3</td>\n",
       "      <td>4.285714</td>\n",
       "    </tr>\n",
       "    <tr>\n",
       "      <th>026a. Todos os Santos</th>\n",
       "      <td>3</td>\n",
       "      <td>4.285714</td>\n",
       "    </tr>\n",
       "    <tr>\n",
       "      <th>124a. Saquarema</th>\n",
       "      <td>3</td>\n",
       "      <td>4.285714</td>\n",
       "    </tr>\n",
       "    <tr>\n",
       "      <th>105a. Petrópolis</th>\n",
       "      <td>3</td>\n",
       "      <td>4.285714</td>\n",
       "    </tr>\n",
       "    <tr>\n",
       "      <th>043a. Pedra de Guaratiba</th>\n",
       "      <td>2</td>\n",
       "      <td>2.857143</td>\n",
       "    </tr>\n",
       "    <tr>\n",
       "      <th>076a. Niterói - Centro</th>\n",
       "      <td>2</td>\n",
       "      <td>2.857143</td>\n",
       "    </tr>\n",
       "    <tr>\n",
       "      <th>036a. Santa Cruz</th>\n",
       "      <td>2</td>\n",
       "      <td>2.857143</td>\n",
       "    </tr>\n",
       "    <tr>\n",
       "      <th>030a. Marechal Hermes</th>\n",
       "      <td>2</td>\n",
       "      <td>2.857143</td>\n",
       "    </tr>\n",
       "    <tr>\n",
       "      <th>004a. Praça da República</th>\n",
       "      <td>2</td>\n",
       "      <td>2.857143</td>\n",
       "    </tr>\n",
       "  </tbody>\n",
       "</table>\n",
       "</div>"
      ],
      "text/plain": [
       "                                                    DP    Percent\n",
       "Delegacia de Combate a Crimes Raciais e Delitos...  13  18.571429\n",
       "082a. Maricá                                         3   4.285714\n",
       "026a. Todos os Santos                                3   4.285714\n",
       "124a. Saquarema                                      3   4.285714\n",
       "105a. Petrópolis                                     3   4.285714\n",
       "043a. Pedra de Guaratiba                             2   2.857143\n",
       "076a. Niterói - Centro                               2   2.857143\n",
       "036a. Santa Cruz                                     2   2.857143\n",
       "030a. Marechal Hermes                                2   2.857143\n",
       "004a. Praça da República                             2   2.857143"
      ]
     },
     "execution_count": 121,
     "metadata": {},
     "output_type": "execute_result"
    }
   ],
   "source": [
    "dp_recorte"
   ]
  },
  {
   "cell_type": "code",
   "execution_count": 44,
   "id": "e468d437",
   "metadata": {
    "collapsed": true
   },
   "outputs": [
    {
     "data": {
      "text/plain": [
       "Capital (Zona Sul, Centro e parte da Norte)    20\n",
       "Capital (Zona Oeste e parte da Norte)          15\n",
       "Grande Niterói e Região dos Lagos              14\n",
       "Baixada Fluminense                              8\n",
       "Sul Fluminense                                  5\n",
       "Região Serrana                                  4\n",
       "Norte Fluminense e Noroeste                     4\n",
       "Name: RISP, dtype: int64"
      ]
     },
     "execution_count": 44,
     "metadata": {},
     "output_type": "execute_result"
    }
   ],
   "source": [
    "# talvez um mapa\n",
    "dados2['RISP'].value_counts()"
   ]
  },
  {
   "cell_type": "markdown",
   "id": "c8f48eab",
   "metadata": {},
   "source": [
    "Vítimas\n",
    "\n",
    "Para a análise de vítimas foram considerados todas as linhas do arquivo recebido. Assim tem 3903 registros de 2019 a 2020, destes 3826 é vítima e 77 casos.\n",
    "\n",
    "52% das vítimas são do sexo feminino, a média idade das vítimas é de  33 anos e 72% delas são negras.\n",
    "\n",
    "[Gráficos]\n",
    "\n",
    "24% das vítmas possuem o ensino médio completo\n",
    "[gráfico]\n",
    "\n",
    "28% das vítmas ignorou o campo profissão, 9% definiu com outros  e 8% definiu como estudante.\n",
    "\n",
    "[gráfico 20 mais respondido]\n",
    "\n",
    "Quanto ao bairro a maior foi ignorado e o quanto ao municipio 44% das vitimas são da cidade do Rio de Janeiro[Gráficos]"
   ]
  },
  {
   "cell_type": "code",
   "execution_count": 53,
   "id": "d1deac08",
   "metadata": {},
   "outputs": [],
   "source": [
    "dados_vit = pd.read_csv('bases/dados_rj.csv')"
   ]
  },
  {
   "cell_type": "code",
   "execution_count": 54,
   "id": "e1e2f903",
   "metadata": {
    "collapsed": true
   },
   "outputs": [
    {
     "name": "stdout",
     "output_type": "stream",
     "text": [
      "<class 'pandas.core.frame.DataFrame'>\n",
      "RangeIndex: 3903 entries, 0 to 3902\n",
      "Data columns (total 26 columns):\n",
      " #   Column          Non-Null Count  Dtype  \n",
      "---  ------          --------------  -----  \n",
      " 0   controle        3903 non-null   object \n",
      " 1   ano             3903 non-null   int64  \n",
      " 2   MES             3903 non-null   object \n",
      " 3   titulo          3903 non-null   object \n",
      " 4   lei             3903 non-null   object \n",
      " 5   conteudo        3903 non-null   object \n",
      " 6   DP              3903 non-null   object \n",
      " 7   cisp            3903 non-null   object \n",
      " 8   data_com        3903 non-null   object \n",
      " 9   data_fato       3903 non-null   object \n",
      " 10  hora_com        3903 non-null   object \n",
      " 11  hora_fato       3903 non-null   object \n",
      " 12  bairro_fato     3903 non-null   object \n",
      " 13  municipio_fato  3903 non-null   object \n",
      " 14  AISP            3903 non-null   object \n",
      " 15  RISP            3903 non-null   object \n",
      " 16  local           3903 non-null   object \n",
      " 17  sexo            3825 non-null   object \n",
      " 18  data_nasc       3445 non-null   object \n",
      " 19  idade           3445 non-null   float64\n",
      " 20  cor             3825 non-null   object \n",
      " 21  escolaridade    3825 non-null   object \n",
      " 22  profissao       3825 non-null   object \n",
      " 23  relacao         3825 non-null   object \n",
      " 24  bairro_vit      3825 non-null   object \n",
      " 25  municipio_vit   3820 non-null   object \n",
      "dtypes: float64(1), int64(1), object(24)\n",
      "memory usage: 792.9+ KB\n"
     ]
    }
   ],
   "source": [
    "dados_vit .info()"
   ]
  },
  {
   "cell_type": "code",
   "execution_count": 55,
   "id": "ed29dbb0",
   "metadata": {
    "collapsed": true
   },
   "outputs": [
    {
     "data": {
      "text/plain": [
       "vítimas    3826\n",
       "casos        77\n",
       "Name: conteudo, dtype: int64"
      ]
     },
     "execution_count": 55,
     "metadata": {},
     "output_type": "execute_result"
    }
   ],
   "source": [
    "dados_vit['conteudo'].value_counts()"
   ]
  },
  {
   "cell_type": "markdown",
   "id": "db852514",
   "metadata": {},
   "source": [
    "Todos nulos, sem informações e não se aplica foram substituidos por ignorados"
   ]
  },
  {
   "cell_type": "code",
   "execution_count": 61,
   "id": "754b6524",
   "metadata": {},
   "outputs": [
    {
     "data": {
      "text/plain": [
       "False    3903\n",
       "Name: sexo, dtype: int64"
      ]
     },
     "execution_count": 61,
     "metadata": {},
     "output_type": "execute_result"
    }
   ],
   "source": [
    "dados_vit['sexo'].isnull().value_counts()"
   ]
  },
  {
   "cell_type": "code",
   "execution_count": 66,
   "id": "1ad57aef",
   "metadata": {},
   "outputs": [],
   "source": [
    "dados_vit.fillna('ignorado', inplace=True)"
   ]
  },
  {
   "cell_type": "code",
   "execution_count": 69,
   "id": "08abbbad",
   "metadata": {},
   "outputs": [],
   "source": [
    "dados_vit = dados_vit.replace('não se aplica', 'ignorado')"
   ]
  },
  {
   "cell_type": "code",
   "execution_count": 70,
   "id": "edc4625f",
   "metadata": {},
   "outputs": [],
   "source": [
    "dados_vit = dados_vit.replace('sem informação', 'ignorado')"
   ]
  },
  {
   "cell_type": "code",
   "execution_count": 71,
   "id": "931f037b",
   "metadata": {
    "collapsed": true
   },
   "outputs": [
    {
     "data": {
      "text/plain": [
       "feminino     2018\n",
       "masculino    1561\n",
       "ignorado      324\n",
       "Name: sexo, dtype: int64"
      ]
     },
     "execution_count": 71,
     "metadata": {},
     "output_type": "execute_result"
    }
   ],
   "source": [
    "dados_vit['sexo'].value_counts()"
   ]
  },
  {
   "cell_type": "code",
   "execution_count": 74,
   "id": "bae0d23e",
   "metadata": {
    "collapsed": true
   },
   "outputs": [
    {
     "data": {
      "text/plain": [
       "feminino     51.703818\n",
       "masculino    39.994876\n",
       "ignorado      8.301307\n",
       "Name: sexo, dtype: float64"
      ]
     },
     "execution_count": 74,
     "metadata": {},
     "output_type": "execute_result"
    }
   ],
   "source": [
    "#Grafico\n",
    "dados_vit['sexo'].value_counts()*100/3903"
   ]
  },
  {
   "cell_type": "code",
   "execution_count": 82,
   "id": "c4865fbd",
   "metadata": {
    "collapsed": true
   },
   "outputs": [
    {
     "data": {
      "text/plain": [
       "count    3903.000000\n",
       "mean       33.226492\n",
       "std        19.124211\n",
       "min         0.000000\n",
       "25%        23.000000\n",
       "50%        33.000000\n",
       "75%        45.000000\n",
       "max        90.000000\n",
       "Name: idade, dtype: float64"
      ]
     },
     "execution_count": 82,
     "metadata": {},
     "output_type": "execute_result"
    }
   ],
   "source": [
    "dados_vit['idade'].describe()"
   ]
  },
  {
   "cell_type": "code",
   "execution_count": 81,
   "id": "bebe2d21",
   "metadata": {
    "collapsed": true
   },
   "outputs": [
    {
     "data": {
      "text/plain": [
       "array([19., 78., 24., 61., 33., 64., 63., 68., 45., 23., 39., 46., 37.,\n",
       "       27., 29.,  0., 32., 59., 18., 31., 28., 25., 69., 21., 66., 50.,\n",
       "       11., 51., 55., 17., 56., 22.,  9., 13., 41., 49., 36., 38., 47.,\n",
       "        5., 20., 40., 35., 34., 71., 26., 42., 43., 87., 57., 70., 89.,\n",
       "       30., 58., 65., 60., 67., 10., 48., 12., 79., 54., 74., 76., 62.,\n",
       "       15.,  8., 86., 75., 16., 53., 52., 44., 72., 14.,  4., 77., 85.,\n",
       "        7., 80.,  3., 73.,  2., 81., 82., 84., 83.,  6., 90.,  1., 88.])"
      ]
     },
     "execution_count": 81,
     "metadata": {},
     "output_type": "execute_result"
    }
   ],
   "source": [
    "dados_vit['idade'].unique()"
   ]
  },
  {
   "cell_type": "code",
   "execution_count": 80,
   "id": "2b939a10",
   "metadata": {},
   "outputs": [],
   "source": [
    "dados_vit['idade'] = dados_vit['idade'].replace('ignorado', 0)"
   ]
  },
  {
   "cell_type": "code",
   "execution_count": 83,
   "id": "78611553",
   "metadata": {
    "collapsed": true
   },
   "outputs": [
    {
     "data": {
      "text/plain": [
       "<AxesSubplot:>"
      ]
     },
     "execution_count": 83,
     "metadata": {},
     "output_type": "execute_result"
    },
    {
     "data": {
      "image/png": "[encoded data removed]",
      "text/plain": [
       "<Figure size 432x288 with 1 Axes>"
      ]
     },
     "metadata": {
      "needs_background": "light"
     },
     "output_type": "display_data"
    }
   ],
   "source": [
    "# melhorar histograma\n",
    "dados_vit['idade'].hist()"
   ]
  },
  {
   "cell_type": "code",
   "execution_count": 84,
   "id": "d8b0fdf7",
   "metadata": {},
   "outputs": [],
   "source": [
    "for (row, col) in dados_vit.iterrows():\n",
    "    if col.cor == 'parda':\n",
    "        dados_vit['cor'].replace(to_replace=col.cor, value='negra', inplace=True)\n",
    "   "
   ]
  },
  {
   "cell_type": "code",
   "execution_count": 86,
   "id": "32aedaa2",
   "metadata": {
    "collapsed": true
   },
   "outputs": [
    {
     "data": {
      "text/plain": [
       "negra       71.611581\n",
       "branca      17.038176\n",
       "ignorado    11.017166\n",
       "amarela      0.256213\n",
       "índio        0.076864\n",
       "Name: cor, dtype: float64"
      ]
     },
     "execution_count": 86,
     "metadata": {},
     "output_type": "execute_result"
    }
   ],
   "source": [
    "dados_vit['cor'].value_counts()*100/3903"
   ]
  },
  {
   "cell_type": "code",
   "execution_count": 88,
   "id": "d0ba3544",
   "metadata": {
    "collapsed": true
   },
   "outputs": [
    {
     "data": {
      "text/plain": [
       "<AxesSubplot:>"
      ]
     },
     "execution_count": 88,
     "metadata": {},
     "output_type": "execute_result"
    },
    {
     "data": {
      "image/png": "[encoded data removed]",
      "text/plain": [
       "<Figure size 432x288 with 1 Axes>"
      ]
     },
     "metadata": {
      "needs_background": "light"
     },
     "output_type": "display_data"
    }
   ],
   "source": [
    "#melhorar gráfico\n",
    "dados_vit['cor'].value_counts().plot(kind='barh')"
   ]
  },
  {
   "cell_type": "code",
   "execution_count": 91,
   "id": "62104946",
   "metadata": {
    "collapsed": true
   },
   "outputs": [
    {
     "data": {
      "text/plain": [
       "2º Grau completo       23.750961\n",
       "Sem informação         14.681015\n",
       "Ignorado               13.297463\n",
       "1º Grau incompleto     12.451960\n",
       "3º Grau completo        9.684858\n",
       "3º Grau incompleto      6.789649\n",
       "2º Grau incompleto      6.789649\n",
       "1º Grau completo        5.559826\n",
       "ignorado                3.971304\n",
       "Não alfabetizado(a)     1.024853\n",
       "Alfabetizado(a)         1.024853\n",
       "Especialização          0.691776\n",
       "Mestrado                0.153728\n",
       "Doutorado               0.128107\n",
       "Name: escolaridade, dtype: float64"
      ]
     },
     "execution_count": 91,
     "metadata": {},
     "output_type": "execute_result"
    }
   ],
   "source": [
    "dados_vit['escolaridade'].value_counts()*100/3903"
   ]
  },
  {
   "cell_type": "code",
   "execution_count": 95,
   "id": "1103edc2",
   "metadata": {
    "collapsed": true
   },
   "outputs": [
    {
     "data": {
      "text/plain": [
       "ignorado                     28.900846\n",
       "Outros                        9.326159\n",
       "Estudante                     7.660774\n",
       "Do lar                        5.201127\n",
       "Aposentado(a)                 3.458878\n",
       "                               ...    \n",
       "Físico(a)                     0.025621\n",
       "Oficial de justiça            0.025621\n",
       "Operador(a) financeiro(a)     0.025621\n",
       "Sociólogo(a)                  0.025621\n",
       "Locutor(a) de rádio           0.025621\n",
       "Name: profissao, Length: 215, dtype: float64"
      ]
     },
     "execution_count": 95,
     "metadata": {},
     "output_type": "execute_result"
    }
   ],
   "source": [
    "#gráfico\n",
    "dados_vit['profissao'].value_counts()*100/3903"
   ]
  },
  {
   "cell_type": "code",
   "execution_count": 93,
   "id": "3230e2f3",
   "metadata": {},
   "outputs": [],
   "source": [
    "dados_vit['profissao'] = dados_vit['profissao'].replace('Ignorado', 'ignorado')"
   ]
  },
  {
   "cell_type": "code",
   "execution_count": 103,
   "id": "fe6c08dd",
   "metadata": {
    "collapsed": true
   },
   "outputs": [
    {
     "data": {
      "text/plain": [
       "Nenhuma               1354\n",
       "ignorado               678\n",
       "Vizinho(a)             607\n",
       "Outra                  573\n",
       "Colega de trabalho     104\n",
       "Cliente                102\n",
       "Ex-companheiro(a)       50\n",
       "Cunhado(a)              40\n",
       "Filho(a)                33\n",
       "Companheiro(a)          30\n",
       "Amigo(a)                27\n",
       "Empregado(a)            26\n",
       "Patrão(oa)              25\n",
       "Tio(a)                  25\n",
       "Irmão(a)                25\n",
       "Sogro(a)                19\n",
       "Genro                   18\n",
       "Ex-patrão(oa)           15\n",
       "Ex-namorado             15\n",
       "Neto(a)                 14\n",
       "Padrasto                13\n",
       "Aluno(a)                13\n",
       "Ex-cônjuge              12\n",
       "Pai                     12\n",
       "Sobrinho(a)             10\n",
       "Cônjuge                 10\n",
       "Avô(a)                   7\n",
       "Nora                     7\n",
       "Mãe                      7\n",
       "Primo(a)                 6\n",
       "Enteado(a)               6\n",
       "Ex-cunhado(a)            6\n",
       "Namorado(a)              5\n",
       "Madrasta                 5\n",
       "Professor(a)             4\n",
       "Name: relacao, dtype: int64"
      ]
     },
     "execution_count": 103,
     "metadata": {},
     "output_type": "execute_result"
    }
   ],
   "source": [
    "dados_vit['relacao'].value_counts()"
   ]
  },
  {
   "cell_type": "code",
   "execution_count": 99,
   "id": "caae8d12",
   "metadata": {},
   "outputs": [],
   "source": [
    "dados_vit['relacao'] = dados_vit['relacao'].replace('Ignorado', 'ignorado')"
   ]
  },
  {
   "cell_type": "code",
   "execution_count": 98,
   "id": "90166226",
   "metadata": {},
   "outputs": [],
   "source": [
    "dados_vit['relacao'] = dados_vit['relacao'].replace('Não se aplica', 'ignorado')"
   ]
  },
  {
   "cell_type": "code",
   "execution_count": 101,
   "id": "b49ce8c6",
   "metadata": {},
   "outputs": [],
   "source": [
    "dados_vit['relacao'] = dados_vit['relacao'].replace('Sem informação', 'ignorado')"
   ]
  },
  {
   "cell_type": "code",
   "execution_count": 102,
   "id": "da266e07",
   "metadata": {
    "collapsed": true
   },
   "outputs": [
    {
     "data": {
      "text/plain": [
       "ignorado                     529\n",
       "Centro                       163\n",
       "< bairro nao cadastrado >     75\n",
       "Campo grande                  54\n",
       "Copacabana                    51\n",
       "                            ... \n",
       "Jacina                         1\n",
       "Perobas (pachecos)             1\n",
       "Hingianopolis                  1\n",
       "Vila meriti                    1\n",
       "Rio do limao                   1\n",
       "Name: bairro_vit, Length: 1096, dtype: int64"
      ]
     },
     "execution_count": 102,
     "metadata": {},
     "output_type": "execute_result"
    }
   ],
   "source": [
    "dados_vit['bairro_vit'].value_counts()"
   ]
  },
  {
   "cell_type": "code",
   "execution_count": 105,
   "id": "38ea0ea8",
   "metadata": {
    "collapsed": true
   },
   "outputs": [
    {
     "data": {
      "text/plain": [
       "Rio de janeiro       43.633103\n",
       "ignorado             10.146042\n",
       "Niteroi               3.766334\n",
       "Sao goncalo           3.715091\n",
       "Nova iguacu           3.561363\n",
       "                       ...    \n",
       "Osasco                0.025621\n",
       "Macuco                0.025621\n",
       "Casimiro de abreu     0.025621\n",
       "Sem municipio         0.025621\n",
       "Cardoso moreira       0.025621\n",
       "Name: municipio_vit, Length: 107, dtype: float64"
      ]
     },
     "execution_count": 105,
     "metadata": {},
     "output_type": "execute_result"
    }
   ],
   "source": [
    "dados_vit['municipio_vit'].value_counts()*100/3903"
   ]
  },
  {
   "cell_type": "markdown",
   "id": "c322efab",
   "metadata": {},
   "source": [
    "Recorte para o crimes que se enquadra em \n",
    " - Ultraje a Culto e Impedimento ou Perturbação de Ato a ele Relativo"
   ]
  },
  {
   "cell_type": "markdown",
   "id": "aa822120",
   "metadata": {},
   "source": [
    "Ao fazer o recorte observamos que todas denúncias com titularização desse recorte são denominados como conteúdo de casos e não nenhuma informação sobre sexo, raça, idade e território."
   ]
  },
  {
   "cell_type": "code",
   "execution_count": 107,
   "id": "3a0c94e5",
   "metadata": {},
   "outputs": [],
   "source": [
    "dados_vit2 = pd.DataFrame(dados_vit.loc[dados_vit['titulo'] == 'Ultraje a Culto e Impedimento ou Perturbação de Ato a ele Relativo'])"
   ]
  },
  {
   "cell_type": "code",
   "execution_count": 108,
   "id": "f1826619",
   "metadata": {
    "collapsed": true
   },
   "outputs": [
    {
     "name": "stdout",
     "output_type": "stream",
     "text": [
      "<class 'pandas.core.frame.DataFrame'>\n",
      "Int64Index: 77 entries, 39 to 3884\n",
      "Data columns (total 26 columns):\n",
      " #   Column          Non-Null Count  Dtype  \n",
      "---  ------          --------------  -----  \n",
      " 0   controle        77 non-null     object \n",
      " 1   ano             77 non-null     int64  \n",
      " 2   MES             77 non-null     object \n",
      " 3   titulo          77 non-null     object \n",
      " 4   lei             77 non-null     object \n",
      " 5   conteudo        77 non-null     object \n",
      " 6   DP              77 non-null     object \n",
      " 7   cisp            77 non-null     object \n",
      " 8   data_com        77 non-null     object \n",
      " 9   data_fato       77 non-null     object \n",
      " 10  hora_com        77 non-null     object \n",
      " 11  hora_fato       77 non-null     object \n",
      " 12  bairro_fato     77 non-null     object \n",
      " 13  municipio_fato  77 non-null     object \n",
      " 14  AISP            77 non-null     object \n",
      " 15  RISP            77 non-null     object \n",
      " 16  local           77 non-null     object \n",
      " 17  sexo            77 non-null     object \n",
      " 18  data_nasc       77 non-null     object \n",
      " 19  idade           77 non-null     float64\n",
      " 20  cor             77 non-null     object \n",
      " 21  escolaridade    77 non-null     object \n",
      " 22  profissao       77 non-null     object \n",
      " 23  relacao         77 non-null     object \n",
      " 24  bairro_vit      77 non-null     object \n",
      " 25  municipio_vit   77 non-null     object \n",
      "dtypes: float64(1), int64(1), object(24)\n",
      "memory usage: 16.2+ KB\n"
     ]
    }
   ],
   "source": [
    "dados_vit2.info()"
   ]
  },
  {
   "cell_type": "code",
   "execution_count": 110,
   "id": "f2b328c0",
   "metadata": {},
   "outputs": [
    {
     "data": {
      "text/plain": [
       "casos    77\n",
       "Name: conteudo, dtype: int64"
      ]
     },
     "execution_count": 110,
     "metadata": {},
     "output_type": "execute_result"
    }
   ],
   "source": [
    "dados_vit2['conteudo'].value_counts()"
   ]
  },
  {
   "cell_type": "code",
   "execution_count": 109,
   "id": "383de90f",
   "metadata": {},
   "outputs": [
    {
     "data": {
      "text/plain": [
       "ignorado    77\n",
       "Name: sexo, dtype: int64"
      ]
     },
     "execution_count": 109,
     "metadata": {},
     "output_type": "execute_result"
    }
   ],
   "source": [
    "dados_vit2['sexo'].value_counts()"
   ]
  },
  {
   "cell_type": "code",
   "execution_count": 112,
   "id": "86771851",
   "metadata": {
    "collapsed": true
   },
   "outputs": [
    {
     "data": {
      "text/plain": [
       "count    77.0\n",
       "mean      0.0\n",
       "std       0.0\n",
       "min       0.0\n",
       "25%       0.0\n",
       "50%       0.0\n",
       "75%       0.0\n",
       "max       0.0\n",
       "Name: idade, dtype: float64"
      ]
     },
     "execution_count": 112,
     "metadata": {},
     "output_type": "execute_result"
    }
   ],
   "source": [
    "dados_vit2['idade'].describe()"
   ]
  },
  {
   "cell_type": "code",
   "execution_count": 113,
   "id": "045170d5",
   "metadata": {},
   "outputs": [
    {
     "data": {
      "text/plain": [
       "ignorado    77\n",
       "Name: cor, dtype: int64"
      ]
     },
     "execution_count": 113,
     "metadata": {},
     "output_type": "execute_result"
    }
   ],
   "source": [
    "dados_vit2['cor'].value_counts()"
   ]
  },
  {
   "cell_type": "code",
   "execution_count": 114,
   "id": "8dd7f5d4",
   "metadata": {},
   "outputs": [
    {
     "data": {
      "text/plain": [
       "False    77\n",
       "Name: cor, dtype: int64"
      ]
     },
     "execution_count": 114,
     "metadata": {},
     "output_type": "execute_result"
    }
   ],
   "source": [
    "dados_vit2['cor'].isnull().value_counts()"
   ]
  },
  {
   "cell_type": "code",
   "execution_count": 116,
   "id": "748f9e60",
   "metadata": {},
   "outputs": [
    {
     "data": {
      "text/plain": [
       "ignorado    77\n",
       "Name: escolaridade, dtype: int64"
      ]
     },
     "execution_count": 116,
     "metadata": {},
     "output_type": "execute_result"
    }
   ],
   "source": [
    "dados_vit2['escolaridade'].value_counts()"
   ]
  },
  {
   "cell_type": "code",
   "execution_count": 120,
   "id": "82675f74",
   "metadata": {
    "collapsed": true
   },
   "outputs": [
    {
     "data": {
      "text/plain": [
       "sem informação               137\n",
       "Ignorado                      83\n",
       "Outros                        69\n",
       "Estudante                     63\n",
       "Aposentado(a)                 33\n",
       "                            ... \n",
       "Técnico(a) em informática      1\n",
       "Pintor(a)                      1\n",
       "Estoquista                     1\n",
       "Projetista                     1\n",
       "Auxiliar de escritório         1\n",
       "Name: profissao, Length: 119, dtype: int64"
      ]
     },
     "execution_count": 120,
     "metadata": {},
     "output_type": "execute_result"
    }
   ],
   "source": [
    "dados2_2020_2['profissao'].value_counts()"
   ]
  },
  {
   "cell_type": "code",
   "execution_count": 119,
   "id": "eed437fa",
   "metadata": {},
   "outputs": [
    {
     "data": {
      "text/plain": [
       "ignorado    77\n",
       "Name: relacao, dtype: int64"
      ]
     },
     "execution_count": 119,
     "metadata": {},
     "output_type": "execute_result"
    }
   ],
   "source": [
    "dados_vit2['relacao'].value_counts()"
   ]
  },
  {
   "cell_type": "code",
   "execution_count": 120,
   "id": "8adfe5b1",
   "metadata": {},
   "outputs": [
    {
     "data": {
      "text/plain": [
       "ignorado    77\n",
       "Name: bairro_vit, dtype: int64"
      ]
     },
     "execution_count": 120,
     "metadata": {},
     "output_type": "execute_result"
    }
   ],
   "source": [
    "dados_vit2['bairro_vit'].value_counts()"
   ]
  },
  {
   "cell_type": "code",
   "execution_count": 121,
   "id": "04965848",
   "metadata": {
    "collapsed": true
   },
   "outputs": [
    {
     "data": {
      "text/plain": [
       "ignorado    77\n",
       "Name: municipio_vit, dtype: int64"
      ]
     },
     "execution_count": 121,
     "metadata": {},
     "output_type": "execute_result"
    }
   ],
   "source": [
    "dados_vit2['municipio_vit'].value_counts()"
   ]
  }
 ],
 "metadata": {
  "kernelspec": {
   "display_name": "Python 3",
   "language": "python",
   "name": "python3"
  },
  "language_info": {
   "codemirror_mode": {
    "name": "ipython",
    "version": 3
   },
   "file_extension": ".py",
   "mimetype": "text/x-python",
   "name": "python",
   "nbconvert_exporter": "python",
   "pygments_lexer": "ipython3",
   "version": "3.8.10"
  }
 },
 "nbformat": 4,
 "nbformat_minor": 5
}
