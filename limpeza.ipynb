{
 "cells": [
  {
   "cell_type": "code",
   "execution_count": 2,
   "id": "267498cf",
   "metadata": {},
   "outputs": [],
   "source": [
    "import pandas as pd\n",
    "import numpy as np\n",
    "from datetime import datetime\n",
    "import os\n",
    "import glob\n"
   ]
  },
  {
   "cell_type": "code",
   "execution_count": 5,
   "id": "fd0b49e0",
   "metadata": {},
   "outputs": [],
   "source": [
    "# Carregando arquivos \n",
    "df_geral = pd.read_csv('bases/intolerancia_30_03_22.csv', low_memory=False, index=False)\n",
    "df_es = pd.read_csv('bases/es_processado.csv',sep=',', low_memory=False)\n",
    "df_rs = pd.read_csv('bases/rs_processado.csv',low_memory=False)\n",
    "df_sp = pd.read_csv('bases/sp_processado.csv',low_memory=False)\n",
    "df_mg =  pd.read_csv('bases/mg_processado.csv',sep=',',low_memory=False)\n",
    "df_sc =  pd.read_csv('bases/sc_processado.csv',low_memory=False)\n",
    "df_mt = pd.read_csv('bases/denuncias_mt_final.csv')\n",
    "df_rj = pd.read_csv('bases/rj_processado.csv')\n",
    "df_pr = pd.read_csv('bases/pr_processado.csv')"
   ]
  },
  {
   "cell_type": "code",
   "execution_count": 6,
   "id": "ffa4095e",
   "metadata": {
    "collapsed": true
   },
   "outputs": [
    {
     "name": "stdout",
     "output_type": "stream",
     "text": [
      "<class 'pandas.core.frame.DataFrame'>\n",
      "RangeIndex: 343 entries, 0 to 342\n",
      "Data columns (total 48 columns):\n",
      " #   Column                           Non-Null Count  Dtype  \n",
      "---  ------                           --------------  -----  \n",
      " 0   Submission Date                  343 non-null    object \n",
      " 1   UF                               342 non-null    object \n",
      " 2   Cidade                           339 non-null    object \n",
      " 3   Dano                             260 non-null    object \n",
      " 4   Violência                        301 non-null    object \n",
      " 5   Tipificação                      63 non-null     object \n",
      " 6   Vítima                           338 non-null    object \n",
      " 7   Gênero da vítima 1               307 non-null    object \n",
      " 8   Gênero da vítima 2               33 non-null     object \n",
      " 9   Gênero da vítima 3               9 non-null      object \n",
      " 10  Escolaridade da vítima 3         3 non-null      object \n",
      " 11  Escolaridade da vítima 2         6 non-null      object \n",
      " 12  Escolaridade da vítima 1         44 non-null     object \n",
      " 13  Escolaridade do agressor 3       1 non-null      object \n",
      " 14  Escolaridade do agressor 2       1 non-null      object \n",
      " 15  Escolaridade do agressor 1       21 non-null     object \n",
      " 16  Data da denúncia                 327 non-null    object \n",
      " 17  Orientação sexual da vítima 1    41 non-null     object \n",
      " 18  Orientação sexual da vítima 2    3 non-null      object \n",
      " 19  Orientação sexual da vítima 3    1 non-null      object \n",
      " 20  Idade da vítima 1                262 non-null    float64\n",
      " 21  Idade da vítima 2                27 non-null     float64\n",
      " 22  Idade da vítima 3                8 non-null      float64\n",
      " 23  Raça/cor da vítima 1             126 non-null    object \n",
      " 24  Raça/cor da vítima 2             14 non-null     object \n",
      " 25  Raça/cor da vítima 3             3 non-null      object \n",
      " 26  Religião da vítima 1             23 non-null     object \n",
      " 27  Religião da vítima 2             3 non-null      object \n",
      " 28  Religião da vítima 3             2 non-null      object \n",
      " 29  Agressor 1                       283 non-null    object \n",
      " 30  Gênero do agressor 1             219 non-null    object \n",
      " 31  Gênero do agressor 2             37 non-null     object \n",
      " 32  Gênero do agressor 3             11 non-null     object \n",
      " 33  Orientação sexual do agressor 1  9 non-null      object \n",
      " 34  Orientação sexual do agressor 2  1 non-null      object \n",
      " 35  Orientação sexual do agressor 3  0 non-null      float64\n",
      " 36  Idade do agressor 1              116 non-null    float64\n",
      " 37  Idade do agressor 2              14 non-null     float64\n",
      " 38  Idade do agressor 3              4 non-null      float64\n",
      " 39  Raça/cor do agressor 1           94 non-null     object \n",
      " 40  Raça/cor do agressor 2           7 non-null      object \n",
      " 41  Raça/cor do agressor 3           4 non-null      object \n",
      " 42  Religião do agressor 1           16 non-null     object \n",
      " 43  Religião do agressor 2           1 non-null      object \n",
      " 44  Religião do agressor 3           2 non-null      object \n",
      " 45  Encaminhamentos                  6 non-null      object \n",
      " 46  Resumo                           89 non-null     object \n",
      " 47  Observações                      11 non-null     object \n",
      "dtypes: float64(7), object(41)\n",
      "memory usage: 128.8+ KB\n"
     ]
    }
   ],
   "source": [
    "df_geral.info()"
   ]
  },
  {
   "cell_type": "markdown",
   "id": "0f6a0a0f",
   "metadata": {},
   "source": [
    "Dataframe jotforms"
   ]
  },
  {
   "cell_type": "code",
   "execution_count": 7,
   "id": "c390dd3c",
   "metadata": {},
   "outputs": [],
   "source": [
    "# Transformando o tipo da coluna data da denuncia para data\n",
    "df_geral['Data da denúncia'] = pd.to_datetime(df_geral['Data da denúncia'])\n"
   ]
  },
  {
   "cell_type": "code",
   "execution_count": 8,
   "id": "2fd21125",
   "metadata": {
    "collapsed": true
   },
   "outputs": [
    {
     "data": {
      "text/plain": [
       "False    327\n",
       "True      16\n",
       "Name: Data da denúncia, dtype: int64"
      ]
     },
     "execution_count": 8,
     "metadata": {},
     "output_type": "execute_result"
    }
   ],
   "source": [
    "df_geral['Data da denúncia'].isnull().value_counts()"
   ]
  },
  {
   "cell_type": "code",
   "execution_count": 11,
   "id": "d5a1c8fc",
   "metadata": {},
   "outputs": [],
   "source": [
    "# excluindo os dados nulos de data\n",
    "df_geral2 = pd.DataFrame(df_geral2.dropna(subset=['Data da denúncia']))"
   ]
  },
  {
   "cell_type": "code",
   "execution_count": 9,
   "id": "7330f379",
   "metadata": {},
   "outputs": [],
   "source": [
    "# Retirando os dados de MT do dataframe geral\n",
    "df_geral2 = df_geral.loc[df_geral['UF'] != 'Mato Grosso']"
   ]
  },
  {
   "cell_type": "code",
   "execution_count": 67,
   "id": "7e279480",
   "metadata": {},
   "outputs": [],
   "source": [
    "# Nomeado UF nula\n",
    "df_geral2['UF'].fillna('Distrito Federal', inplace=True)"
   ]
  },
  {
   "cell_type": "code",
   "execution_count": 12,
   "id": "24848ea3",
   "metadata": {
    "collapsed": true
   },
   "outputs": [
    {
     "name": "stdout",
     "output_type": "stream",
     "text": [
      "<class 'pandas.core.frame.DataFrame'>\n",
      "Int64Index: 127 entries, 132 to 335\n",
      "Data columns (total 48 columns):\n",
      " #   Column                           Non-Null Count  Dtype         \n",
      "---  ------                           --------------  -----         \n",
      " 0   Submission Date                  127 non-null    object        \n",
      " 1   UF                               126 non-null    object        \n",
      " 2   Cidade                           126 non-null    object        \n",
      " 3   Dano                             53 non-null     object        \n",
      " 4   Violência                        91 non-null     object        \n",
      " 5   Tipificação                      59 non-null     object        \n",
      " 6   Vítima                           127 non-null    object        \n",
      " 7   Gênero da vítima 1               105 non-null    object        \n",
      " 8   Gênero da vítima 2               13 non-null     object        \n",
      " 9   Gênero da vítima 3               3 non-null      object        \n",
      " 10  Escolaridade da vítima 3         3 non-null      object        \n",
      " 11  Escolaridade da vítima 2         5 non-null      object        \n",
      " 12  Escolaridade da vítima 1         41 non-null     object        \n",
      " 13  Escolaridade do agressor 3       1 non-null      object        \n",
      " 14  Escolaridade do agressor 2       1 non-null      object        \n",
      " 15  Escolaridade do agressor 1       21 non-null     object        \n",
      " 16  Data da denúncia                 127 non-null    datetime64[ns]\n",
      " 17  Orientação sexual da vítima 1    10 non-null     object        \n",
      " 18  Orientação sexual da vítima 2    1 non-null      object        \n",
      " 19  Orientação sexual da vítima 3    1 non-null      object        \n",
      " 20  Idade da vítima 1                62 non-null     float64       \n",
      " 21  Idade da vítima 2                7 non-null      float64       \n",
      " 22  Idade da vítima 3                2 non-null      float64       \n",
      " 23  Raça/cor da vítima 1             53 non-null     object        \n",
      " 24  Raça/cor da vítima 2             8 non-null      object        \n",
      " 25  Raça/cor da vítima 3             2 non-null      object        \n",
      " 26  Religião da vítima 1             20 non-null     object        \n",
      " 27  Religião da vítima 2             2 non-null      object        \n",
      " 28  Religião da vítima 3             2 non-null      object        \n",
      " 29  Agressor 1                       87 non-null     object        \n",
      " 30  Gênero do agressor 1             72 non-null     object        \n",
      " 31  Gênero do agressor 2             12 non-null     object        \n",
      " 32  Gênero do agressor 3             5 non-null      object        \n",
      " 33  Orientação sexual do agressor 1  3 non-null      object        \n",
      " 34  Orientação sexual do agressor 2  0 non-null      object        \n",
      " 35  Orientação sexual do agressor 3  0 non-null      float64       \n",
      " 36  Idade do agressor 1              17 non-null     float64       \n",
      " 37  Idade do agressor 2              1 non-null      float64       \n",
      " 38  Idade do agressor 3              0 non-null      float64       \n",
      " 39  Raça/cor do agressor 1           22 non-null     object        \n",
      " 40  Raça/cor do agressor 2           2 non-null      object        \n",
      " 41  Raça/cor do agressor 3           1 non-null      object        \n",
      " 42  Religião do agressor 1           15 non-null     object        \n",
      " 43  Religião do agressor 2           1 non-null      object        \n",
      " 44  Religião do agressor 3           2 non-null      object        \n",
      " 45  Encaminhamentos                  6 non-null      object        \n",
      " 46  Resumo                           34 non-null     object        \n",
      " 47  Observações                      8 non-null      object        \n",
      "dtypes: datetime64[ns](1), float64(7), object(40)\n",
      "memory usage: 48.6+ KB\n"
     ]
    }
   ],
   "source": [
    "df_geral2.info()"
   ]
  },
  {
   "cell_type": "markdown",
   "id": "c878b79b",
   "metadata": {},
   "source": [
    "Dataframe SP"
   ]
  },
  {
   "cell_type": "code",
   "execution_count": 13,
   "id": "bae72daa",
   "metadata": {
    "collapsed": true
   },
   "outputs": [
    {
     "name": "stdout",
     "output_type": "stream",
     "text": [
      "<class 'pandas.core.frame.DataFrame'>\n",
      "RangeIndex: 28952 entries, 0 to 28951\n",
      "Data columns (total 49 columns):\n",
      " #   Column                           Non-Null Count  Dtype  \n",
      "---  ------                           --------------  -----  \n",
      " 0   Unnamed: 0                       28952 non-null  int64  \n",
      " 1   Submission Date                  28952 non-null  object \n",
      " 2   UF                               28952 non-null  object \n",
      " 3   Cidade                           28928 non-null  object \n",
      " 4   Dano                             28952 non-null  object \n",
      " 5   Violência                        28952 non-null  object \n",
      " 6   Tipificação                      28928 non-null  object \n",
      " 7   Vítima                           28952 non-null  object \n",
      " 8   Gênero da vítima 1               26487 non-null  object \n",
      " 9   Gênero da vítima 2               1715 non-null   object \n",
      " 10  Gênero da vítima 3               577 non-null    object \n",
      " 11  Escolaridade da vítima 3         46 non-null     object \n",
      " 12  Escolaridade da vítima 2         102 non-null    object \n",
      " 13  Escolaridade da vítima 1         46 non-null     object \n",
      " 14  Escolaridade do agressor 3       14 non-null     object \n",
      " 15  Escolaridade do agressor 2       37 non-null     object \n",
      " 16  Escolaridade do agressor 1       53 non-null     object \n",
      " 17  Data da denúncia                 28922 non-null  object \n",
      " 18  Orientação sexual da vítima 1    0 non-null      float64\n",
      " 19  Orientação sexual da vítima 2    0 non-null      float64\n",
      " 20  Orientação sexual da vítima 3    0 non-null      float64\n",
      " 21  Idade da vítima 1                26465 non-null  float64\n",
      " 22  Idade da vítima 2                1694 non-null   float64\n",
      " 23  Idade da vítima 3                568 non-null    float64\n",
      " 24  Raça/cor da vítima 1             26487 non-null  object \n",
      " 25  Raça/cor da vítima 2             1715 non-null   object \n",
      " 26  Raça/cor da vítima 3             577 non-null    object \n",
      " 27  Religião da vítima 1             0 non-null      float64\n",
      " 28  Religião da vítima 2             0 non-null      float64\n",
      " 29  Religião da vítima 3             0 non-null      float64\n",
      " 30  Agressor 1                       28952 non-null  object \n",
      " 31  Gênero do agressor 1             14253 non-null  object \n",
      " 32  Gênero do agressor 2             1007 non-null   object \n",
      " 33  Gênero do agressor 3             519 non-null    object \n",
      " 34  Orientação sexual do agressor 1  0 non-null      float64\n",
      " 35  Orientação sexual do agressor 2  0 non-null      float64\n",
      " 36  Orientação sexual do agressor 3  0 non-null      float64\n",
      " 37  Idade do agressor 1              693 non-null    float64\n",
      " 38  Idade do agressor 2              608 non-null    float64\n",
      " 39  Idade do agressor 3              351 non-null    float64\n",
      " 40  Raça/cor do agressor 1           14253 non-null  object \n",
      " 41  Raça/cor do agressor 2           1007 non-null   object \n",
      " 42  Raça/cor do agressor 3           519 non-null    object \n",
      " 43  Religião do agressor 1           0 non-null      float64\n",
      " 44  Religião do agressor 2           0 non-null      float64\n",
      " 45  Religião do agressor 3           0 non-null      float64\n",
      " 46  Encaminhamentos                  83 non-null     object \n",
      " 47  Resumo                           0 non-null      float64\n",
      " 48  Observações                      28952 non-null  object \n",
      "dtypes: float64(19), int64(1), object(29)\n",
      "memory usage: 10.8+ MB\n"
     ]
    }
   ],
   "source": [
    "df_sp.info()"
   ]
  },
  {
   "cell_type": "code",
   "execution_count": 14,
   "id": "70a68011",
   "metadata": {
    "collapsed": true
   },
   "outputs": [
    {
     "data": {
      "text/plain": [
       "False    28922\n",
       "True        30\n",
       "Name: Data da denúncia, dtype: int64"
      ]
     },
     "execution_count": 14,
     "metadata": {},
     "output_type": "execute_result"
    }
   ],
   "source": [
    "df_sp['Data da denúncia'].isnull().value_counts()"
   ]
  },
  {
   "cell_type": "code",
   "execution_count": 15,
   "id": "e9ea97b4",
   "metadata": {},
   "outputs": [],
   "source": [
    "# Transformando o tipo da coluna data da denuncia para data\n",
    "df_sp['Data da denúncia'] = pd.to_datetime(df_sp['Data da denúncia'])\n"
   ]
  },
  {
   "cell_type": "code",
   "execution_count": 16,
   "id": "b79491fb",
   "metadata": {
    "collapsed": true
   },
   "outputs": [
    {
     "data": {
      "text/plain": [
       "2021.0    15958\n",
       "2020.0     8365\n",
       "2019.0     4142\n",
       "2018.0      193\n",
       "2012.0       63\n",
       "2017.0       29\n",
       "2010.0       20\n",
       "2001.0        9\n",
       "2002.0        9\n",
       "2016.0        9\n",
       "1988.0        8\n",
       "1978.0        7\n",
       "1999.0        7\n",
       "1995.0        7\n",
       "2011.0        6\n",
       "1987.0        6\n",
       "1992.0        5\n",
       "1991.0        5\n",
       "1973.0        4\n",
       "1993.0        4\n",
       "1996.0        4\n",
       "1984.0        4\n",
       "1981.0        3\n",
       "2000.0        3\n",
       "1994.0        3\n",
       "1998.0        3\n",
       "2014.0        3\n",
       "1977.0        3\n",
       "2015.0        3\n",
       "1975.0        3\n",
       "1982.0        3\n",
       "1985.0        2\n",
       "2005.0        2\n",
       "1986.0        2\n",
       "1972.0        2\n",
       "1921.0        2\n",
       "1997.0        2\n",
       "2013.0        2\n",
       "1967.0        2\n",
       "1966.0        1\n",
       "1983.0        1\n",
       "1990.0        1\n",
       "1964.0        1\n",
       "1974.0        1\n",
       "1956.0        1\n",
       "1989.0        1\n",
       "2004.0        1\n",
       "1935.0        1\n",
       "1979.0        1\n",
       "1962.0        1\n",
       "1920.0        1\n",
       "1970.0        1\n",
       "1940.0        1\n",
       "1968.0        1\n",
       "Name: Data da denúncia, dtype: int64"
      ]
     },
     "execution_count": 16,
     "metadata": {},
     "output_type": "execute_result"
    }
   ],
   "source": [
    "#Observando os anos de denuncia\n",
    "df_sp['Data da denúncia'].dt.year.value_counts()"
   ]
  },
  {
   "cell_type": "code",
   "execution_count": 17,
   "id": "d9080d88",
   "metadata": {},
   "outputs": [],
   "source": [
    "# Dataframe só os dados de dnuncia fora da janela temporal da analise.\n",
    "# São 457 denuncias\n",
    "df_sp_fora_tempo = pd.DataFrame(df_sp[df_sp['Data da denúncia'].dt.year < 2019])"
   ]
  },
  {
   "cell_type": "code",
   "execution_count": 18,
   "id": "af0f6c02",
   "metadata": {
    "collapsed": true
   },
   "outputs": [
    {
     "name": "stdout",
     "output_type": "stream",
     "text": [
      "<class 'pandas.core.frame.DataFrame'>\n",
      "Int64Index: 457 entries, 353 to 28836\n",
      "Data columns (total 49 columns):\n",
      " #   Column                           Non-Null Count  Dtype         \n",
      "---  ------                           --------------  -----         \n",
      " 0   Unnamed: 0                       457 non-null    int64         \n",
      " 1   Submission Date                  457 non-null    object        \n",
      " 2   UF                               457 non-null    object        \n",
      " 3   Cidade                           457 non-null    object        \n",
      " 4   Dano                             457 non-null    object        \n",
      " 5   Violência                        457 non-null    object        \n",
      " 6   Tipificação                      457 non-null    object        \n",
      " 7   Vítima                           457 non-null    object        \n",
      " 8   Gênero da vítima 1               434 non-null    object        \n",
      " 9   Gênero da vítima 2               14 non-null     object        \n",
      " 10  Gênero da vítima 3               9 non-null      object        \n",
      " 11  Escolaridade da vítima 3         0 non-null      object        \n",
      " 12  Escolaridade da vítima 2         0 non-null      object        \n",
      " 13  Escolaridade da vítima 1         0 non-null      object        \n",
      " 14  Escolaridade do agressor 3       0 non-null      object        \n",
      " 15  Escolaridade do agressor 2       0 non-null      object        \n",
      " 16  Escolaridade do agressor 1       0 non-null      object        \n",
      " 17  Data da denúncia                 457 non-null    datetime64[ns]\n",
      " 18  Orientação sexual da vítima 1    0 non-null      float64       \n",
      " 19  Orientação sexual da vítima 2    0 non-null      float64       \n",
      " 20  Orientação sexual da vítima 3    0 non-null      float64       \n",
      " 21  Idade da vítima 1                434 non-null    float64       \n",
      " 22  Idade da vítima 2                14 non-null     float64       \n",
      " 23  Idade da vítima 3                9 non-null      float64       \n",
      " 24  Raça/cor da vítima 1             434 non-null    object        \n",
      " 25  Raça/cor da vítima 2             14 non-null     object        \n",
      " 26  Raça/cor da vítima 3             9 non-null      object        \n",
      " 27  Religião da vítima 1             0 non-null      float64       \n",
      " 28  Religião da vítima 2             0 non-null      float64       \n",
      " 29  Religião da vítima 3             0 non-null      float64       \n",
      " 30  Agressor 1                       457 non-null    object        \n",
      " 31  Gênero do agressor 1             293 non-null    object        \n",
      " 32  Gênero do agressor 2             11 non-null     object        \n",
      " 33  Gênero do agressor 3             9 non-null      object        \n",
      " 34  Orientação sexual do agressor 1  0 non-null      float64       \n",
      " 35  Orientação sexual do agressor 2  0 non-null      float64       \n",
      " 36  Orientação sexual do agressor 3  0 non-null      float64       \n",
      " 37  Idade do agressor 1              3 non-null      float64       \n",
      " 38  Idade do agressor 2              3 non-null      float64       \n",
      " 39  Idade do agressor 3              3 non-null      float64       \n",
      " 40  Raça/cor do agressor 1           293 non-null    object        \n",
      " 41  Raça/cor do agressor 2           11 non-null     object        \n",
      " 42  Raça/cor do agressor 3           9 non-null      object        \n",
      " 43  Religião do agressor 1           0 non-null      float64       \n",
      " 44  Religião do agressor 2           0 non-null      float64       \n",
      " 45  Religião do agressor 3           0 non-null      float64       \n",
      " 46  Encaminhamentos                  0 non-null      object        \n",
      " 47  Resumo                           0 non-null      float64       \n",
      " 48  Observações                      457 non-null    object        \n",
      "dtypes: datetime64[ns](1), float64(19), int64(1), object(28)\n",
      "memory usage: 178.5+ KB\n"
     ]
    }
   ],
   "source": [
    "df_sp_fora_tempo.info()"
   ]
  },
  {
   "cell_type": "code",
   "execution_count": 19,
   "id": "cf3b36a1",
   "metadata": {},
   "outputs": [],
   "source": [
    "#Dataframe só com os anos de interesse\n",
    "df_sp2 = pd.DataFrame(df_sp[df_sp['Data da denúncia'].dt.year >= 2019])"
   ]
  },
  {
   "cell_type": "code",
   "execution_count": 20,
   "id": "cef25fc5",
   "metadata": {
    "collapsed": true
   },
   "outputs": [
    {
     "data": {
      "text/plain": [
       "2021    15958\n",
       "2020     8365\n",
       "2019     4142\n",
       "Name: Data da denúncia, dtype: int64"
      ]
     },
     "execution_count": 20,
     "metadata": {},
     "output_type": "execute_result"
    }
   ],
   "source": [
    "df_sp2['Data da denúncia'].dt.year.value_counts()"
   ]
  },
  {
   "cell_type": "code",
   "execution_count": 21,
   "id": "56f24abd",
   "metadata": {},
   "outputs": [
    {
     "data": {
      "text/plain": [
       "False    28465\n",
       "Name: Data da denúncia, dtype: int64"
      ]
     },
     "execution_count": 21,
     "metadata": {},
     "output_type": "execute_result"
    }
   ],
   "source": [
    "df_sp2['Data da denúncia'].isnull().value_counts()"
   ]
  },
  {
   "cell_type": "code",
   "execution_count": 20,
   "id": "cc2b9f1a",
   "metadata": {
    "collapsed": true
   },
   "outputs": [
    {
     "name": "stdout",
     "output_type": "stream",
     "text": [
      "<class 'pandas.core.frame.DataFrame'>\n",
      "Int64Index: 28465 entries, 0 to 28927\n",
      "Data columns (total 49 columns):\n",
      " #   Column                           Non-Null Count  Dtype         \n",
      "---  ------                           --------------  -----         \n",
      " 0   Unnamed: 0                       28465 non-null  int64         \n",
      " 1   Submission Date                  28465 non-null  object        \n",
      " 2   UF                               28465 non-null  object        \n",
      " 3   Cidade                           28465 non-null  object        \n",
      " 4   Dano                             28465 non-null  object        \n",
      " 5   Violência                        28465 non-null  object        \n",
      " 6   Tipificação                      28465 non-null  object        \n",
      " 7   Vítima                           28465 non-null  object        \n",
      " 8   Gênero da vítima 1               26047 non-null  object        \n",
      " 9   Gênero da vítima 2               1701 non-null   object        \n",
      " 10  Gênero da vítima 3               568 non-null    object        \n",
      " 11  Escolaridade da vítima 3         46 non-null     object        \n",
      " 12  Escolaridade da vítima 2         102 non-null    object        \n",
      " 13  Escolaridade da vítima 1         46 non-null     object        \n",
      " 14  Escolaridade do agressor 3       13 non-null     object        \n",
      " 15  Escolaridade do agressor 2       36 non-null     object        \n",
      " 16  Escolaridade do agressor 1       52 non-null     object        \n",
      " 17  Data da denúncia                 28465 non-null  datetime64[ns]\n",
      " 18  Orientação sexual da vítima 1    0 non-null      float64       \n",
      " 19  Orientação sexual da vítima 2    0 non-null      float64       \n",
      " 20  Orientação sexual da vítima 3    0 non-null      float64       \n",
      " 21  Idade da vítima 1                26025 non-null  float64       \n",
      " 22  Idade da vítima 2                1680 non-null   float64       \n",
      " 23  Idade da vítima 3                559 non-null    float64       \n",
      " 24  Raça/cor da vítima 1             26047 non-null  object        \n",
      " 25  Raça/cor da vítima 2             1701 non-null   object        \n",
      " 26  Raça/cor da vítima 3             568 non-null    object        \n",
      " 27  Religião da vítima 1             0 non-null      float64       \n",
      " 28  Religião da vítima 2             0 non-null      float64       \n",
      " 29  Religião da vítima 3             0 non-null      float64       \n",
      " 30  Agressor 1                       28465 non-null  object        \n",
      " 31  Gênero do agressor 1             13940 non-null  object        \n",
      " 32  Gênero do agressor 2             994 non-null    object        \n",
      " 33  Gênero do agressor 3             508 non-null    object        \n",
      " 34  Orientação sexual do agressor 1  0 non-null      float64       \n",
      " 35  Orientação sexual do agressor 2  0 non-null      float64       \n",
      " 36  Orientação sexual do agressor 3  0 non-null      float64       \n",
      " 37  Idade do agressor 1              686 non-null    float64       \n",
      " 38  Idade do agressor 2              604 non-null    float64       \n",
      " 39  Idade do agressor 3              347 non-null    float64       \n",
      " 40  Raça/cor do agressor 1           13940 non-null  object        \n",
      " 41  Raça/cor do agressor 2           994 non-null    object        \n",
      " 42  Raça/cor do agressor 3           508 non-null    object        \n",
      " 43  Religião do agressor 1           0 non-null      float64       \n",
      " 44  Religião do agressor 2           0 non-null      float64       \n",
      " 45  Religião do agressor 3           0 non-null      float64       \n",
      " 46  Encaminhamentos                  83 non-null     object        \n",
      " 47  Resumo                           0 non-null      float64       \n",
      " 48  Observações                      28465 non-null  object        \n",
      "dtypes: datetime64[ns](1), float64(19), int64(1), object(28)\n",
      "memory usage: 10.9+ MB\n"
     ]
    }
   ],
   "source": [
    "df_sp2.info()"
   ]
  },
  {
   "cell_type": "markdown",
   "id": "88b7057e",
   "metadata": {},
   "source": [
    "DataFrame MG"
   ]
  },
  {
   "cell_type": "code",
   "execution_count": 26,
   "id": "c1ff7842",
   "metadata": {
    "collapsed": true
   },
   "outputs": [
    {
     "name": "stdout",
     "output_type": "stream",
     "text": [
      "<class 'pandas.core.frame.DataFrame'>\n",
      "RangeIndex: 181 entries, 0 to 180\n",
      "Data columns (total 49 columns):\n",
      " #   Column                           Non-Null Count  Dtype  \n",
      "---  ------                           --------------  -----  \n",
      " 0   Unnamed: 0                       181 non-null    int64  \n",
      " 1   Submission Date                  181 non-null    object \n",
      " 2   UF                               181 non-null    object \n",
      " 3   Cidade                           181 non-null    object \n",
      " 4   Dano                             181 non-null    object \n",
      " 5   Violência                        181 non-null    object \n",
      " 6   Tipificação                      0 non-null      float64\n",
      " 7   Vítima                           181 non-null    object \n",
      " 8   Gênero da vítima 1               178 non-null    object \n",
      " 9   Gênero da vítima 2               23 non-null     object \n",
      " 10  Gênero da vítima 3               4 non-null      object \n",
      " 11  Escolaridade da vítima 3         0 non-null      float64\n",
      " 12  Escolaridade da vítima 2         0 non-null      float64\n",
      " 13  Escolaridade da vítima 1         0 non-null      float64\n",
      " 14  Escolaridade do agressor 3       0 non-null      float64\n",
      " 15  Escolaridade do agressor 2       0 non-null      float64\n",
      " 16  Escolaridade do agressor 1       0 non-null      float64\n",
      " 17  Data da denúncia                 181 non-null    object \n",
      " 18  Orientação sexual da vítima 1    0 non-null      float64\n",
      " 19  Orientação sexual da vítima 2    0 non-null      float64\n",
      " 20  Orientação sexual da vítima 3    0 non-null      float64\n",
      " 21  Idade da vítima 1                175 non-null    float64\n",
      " 22  Idade da vítima 2                23 non-null     float64\n",
      " 23  Idade da vítima 3                4 non-null      float64\n",
      " 24  Raça/cor da vítima 1             181 non-null    object \n",
      " 25  Raça/cor da vítima 2             181 non-null    object \n",
      " 26  Raça/cor da vítima 3             181 non-null    object \n",
      " 27  Religião da vítima 1             0 non-null      float64\n",
      " 28  Religião da vítima 2             0 non-null      float64\n",
      " 29  Religião da vítima 3             0 non-null      float64\n",
      " 30  Agressor 1                       181 non-null    object \n",
      " 31  Gênero do agressor 1             96 non-null     object \n",
      " 32  Gênero do agressor 2             15 non-null     object \n",
      " 33  Gênero do agressor 3             8 non-null      object \n",
      " 34  Orientação sexual do agressor 1  2 non-null      object \n",
      " 35  Orientação sexual do agressor 2  0 non-null      float64\n",
      " 36  Orientação sexual do agressor 3  0 non-null      float64\n",
      " 37  Idade do agressor 1              94 non-null     float64\n",
      " 38  Idade do agressor 2              13 non-null     float64\n",
      " 39  Idade do agressor 3              6 non-null      float64\n",
      " 40  Raça/cor do agressor 1           181 non-null    object \n",
      " 41  Raça/cor do agressor 2           179 non-null    object \n",
      " 42  Raça/cor do agressor 3           179 non-null    object \n",
      " 43  Religião do agressor 1           0 non-null      float64\n",
      " 44  Religião do agressor 2           0 non-null      float64\n",
      " 45  Religião do agressor 3           0 non-null      float64\n",
      " 46  Encaminhamentos                  0 non-null      float64\n",
      " 47  Resumo                           0 non-null      float64\n",
      " 48  Observações                      179 non-null    object \n",
      "dtypes: float64(26), int64(1), object(22)\n",
      "memory usage: 69.4+ KB\n"
     ]
    }
   ],
   "source": [
    "df_mg.info()"
   ]
  },
  {
   "cell_type": "code",
   "execution_count": 22,
   "id": "9eb8c319",
   "metadata": {},
   "outputs": [],
   "source": [
    "# Transformando o tipo da coluna data da denuncia para data\n",
    "df_mg['Data da denúncia'] = pd.to_datetime(df_mg['Data da denúncia'])\n"
   ]
  },
  {
   "cell_type": "code",
   "execution_count": 23,
   "id": "5c046ddb",
   "metadata": {},
   "outputs": [
    {
     "data": {
      "text/plain": [
       "2019    69\n",
       "2021    65\n",
       "2020    47\n",
       "Name: Data da denúncia, dtype: int64"
      ]
     },
     "execution_count": 23,
     "metadata": {},
     "output_type": "execute_result"
    }
   ],
   "source": [
    "df_mg['Data da denúncia'].dt.year.value_counts()"
   ]
  },
  {
   "cell_type": "markdown",
   "id": "68f2f9b9",
   "metadata": {},
   "source": [
    "DataFrame ES\n"
   ]
  },
  {
   "cell_type": "code",
   "execution_count": 29,
   "id": "15464dda",
   "metadata": {
    "collapsed": true
   },
   "outputs": [
    {
     "name": "stdout",
     "output_type": "stream",
     "text": [
      "<class 'pandas.core.frame.DataFrame'>\n",
      "RangeIndex: 2 entries, 0 to 1\n",
      "Data columns (total 48 columns):\n",
      " #   Column                           Non-Null Count  Dtype  \n",
      "---  ------                           --------------  -----  \n",
      " 0   Submission Date                  2 non-null      object \n",
      " 1   UF                               2 non-null      object \n",
      " 2   Cidade                           2 non-null      object \n",
      " 3   Dano                             2 non-null      object \n",
      " 4   Violência                        2 non-null      object \n",
      " 5   Tipificação                      0 non-null      float64\n",
      " 6   Vítima                           1 non-null      object \n",
      " 7   Gênero da vítima 1               0 non-null      float64\n",
      " 8   Gênero da vítima 2               0 non-null      float64\n",
      " 9   Gênero da vítima 3               0 non-null      float64\n",
      " 10  Escolaridade da vítima 3         0 non-null      float64\n",
      " 11  Escolaridade da vítima 2         0 non-null      float64\n",
      " 12  Escolaridade da vítima 1         0 non-null      float64\n",
      " 13  Escolaridade do agressor 3       0 non-null      float64\n",
      " 14  Escolaridade do agressor 2       0 non-null      float64\n",
      " 15  Escolaridade do agressor 1       0 non-null      float64\n",
      " 16  Data da denúncia                 2 non-null      object \n",
      " 17  Orientação sexual da vítima 1    0 non-null      float64\n",
      " 18  Orientação sexual da vítima 2    0 non-null      float64\n",
      " 19  Orientação sexual da vítima 3    0 non-null      float64\n",
      " 20  Idade da vítima 1                0 non-null      float64\n",
      " 21  Idade da vítima 2                0 non-null      float64\n",
      " 22  Idade da vítima 3                0 non-null      float64\n",
      " 23  Raça/cor da vítima 1             0 non-null      float64\n",
      " 24  Raça/cor da vítima 2             0 non-null      float64\n",
      " 25  Raça/cor da vítima 3             0 non-null      float64\n",
      " 26  Religião da vítima 1             0 non-null      float64\n",
      " 27  Religião da vítima 2             0 non-null      float64\n",
      " 28  Religião da vítima 3             0 non-null      float64\n",
      " 29  Agressor 1                       0 non-null      float64\n",
      " 30  Gênero do agressor 1             0 non-null      float64\n",
      " 31  Gênero do agressor 2             0 non-null      float64\n",
      " 32  Gênero do agressor 3             0 non-null      float64\n",
      " 33  Orientação sexual do agressor 1  0 non-null      float64\n",
      " 34  Orientação sexual do agressor 2  0 non-null      float64\n",
      " 35  Orientação sexual do agressor 3  0 non-null      float64\n",
      " 36  Idade do agressor 1              0 non-null      float64\n",
      " 37  Idade do agressor 2              0 non-null      float64\n",
      " 38  Idade do agressor 3              0 non-null      float64\n",
      " 39  Raça/cor do agressor 1           0 non-null      float64\n",
      " 40  Raça/cor do agressor 2           0 non-null      float64\n",
      " 41  Raça/cor do agressor 3           0 non-null      float64\n",
      " 42  Religião do agressor 1           0 non-null      float64\n",
      " 43  Religião do agressor 2           0 non-null      float64\n",
      " 44  Religião do agressor 3           0 non-null      float64\n",
      " 45  Encaminhamentos                  0 non-null      float64\n",
      " 46  Resumo                           0 non-null      float64\n",
      " 47  Observações                      0 non-null      float64\n",
      "dtypes: float64(41), object(7)\n",
      "memory usage: 896.0+ bytes\n"
     ]
    }
   ],
   "source": [
    "df_es.info()\n"
   ]
  },
  {
   "cell_type": "code",
   "execution_count": 24,
   "id": "25dc458c",
   "metadata": {},
   "outputs": [],
   "source": [
    "# Transformando o tipo da coluna data da denuncia para data\n",
    "df_es['Data da denúncia'] = pd.to_datetime(df_es['Data da denúncia'])\n"
   ]
  },
  {
   "cell_type": "code",
   "execution_count": 25,
   "id": "da1f5a00",
   "metadata": {
    "collapsed": true
   },
   "outputs": [
    {
     "data": {
      "text/plain": [
       "2021    1\n",
       "2019    1\n",
       "Name: Data da denúncia, dtype: int64"
      ]
     },
     "execution_count": 25,
     "metadata": {},
     "output_type": "execute_result"
    }
   ],
   "source": [
    "df_es['Data da denúncia'].dt.year.value_counts()"
   ]
  },
  {
   "cell_type": "markdown",
   "id": "524b5460",
   "metadata": {},
   "source": [
    "DataFrame SC\n"
   ]
  },
  {
   "cell_type": "code",
   "execution_count": 32,
   "id": "14d44c3a",
   "metadata": {
    "collapsed": true
   },
   "outputs": [
    {
     "name": "stdout",
     "output_type": "stream",
     "text": [
      "<class 'pandas.core.frame.DataFrame'>\n",
      "RangeIndex: 64 entries, 0 to 63\n",
      "Data columns (total 49 columns):\n",
      " #   Column                           Non-Null Count  Dtype  \n",
      "---  ------                           --------------  -----  \n",
      " 0   Unnamed: 0                       64 non-null     int64  \n",
      " 1   Submission Date                  64 non-null     object \n",
      " 2   UF                               64 non-null     object \n",
      " 3   Cidade                           64 non-null     object \n",
      " 4   Dano                             64 non-null     object \n",
      " 5   Violência                        64 non-null     object \n",
      " 6   Tipificação                      0 non-null      float64\n",
      " 7   Vítima                           64 non-null     object \n",
      " 8   Gênero da vítima 1               64 non-null     object \n",
      " 9   Gênero da vítima 2               31 non-null     object \n",
      " 10  Gênero da vítima 3               12 non-null     object \n",
      " 11  Escolaridade da vítima 3         0 non-null      float64\n",
      " 12  Escolaridade da vítima 2         0 non-null      float64\n",
      " 13  Escolaridade da vítima 1         0 non-null      float64\n",
      " 14  Escolaridade do agressor 3       0 non-null      float64\n",
      " 15  Escolaridade do agressor 2       0 non-null      float64\n",
      " 16  Escolaridade do agressor 1       0 non-null      float64\n",
      " 17  Data da denúncia                 64 non-null     object \n",
      " 18  Orientação sexual da vítima 1    1 non-null      object \n",
      " 19  Orientação sexual da vítima 2    1 non-null      object \n",
      " 20  Orientação sexual da vítima 3    1 non-null      object \n",
      " 21  Idade da vítima 1                64 non-null     object \n",
      " 22  Idade da vítima 2                31 non-null     object \n",
      " 23  Idade da vítima 3                12 non-null     float64\n",
      " 24  Raça/cor da vítima 1             64 non-null     object \n",
      " 25  Raça/cor da vítima 2             64 non-null     object \n",
      " 26  Raça/cor da vítima 3             64 non-null     object \n",
      " 27  Religião da vítima 1             0 non-null      float64\n",
      " 28  Religião da vítima 2             0 non-null      float64\n",
      " 29  Religião da vítima 3             0 non-null      float64\n",
      " 30  Agressor 1                       64 non-null     object \n",
      " 31  Gênero do agressor 1             49 non-null     object \n",
      " 32  Gênero do agressor 2             22 non-null     object \n",
      " 33  Gênero do agressor 3             9 non-null      object \n",
      " 34  Orientação sexual do agressor 1  1 non-null      object \n",
      " 35  Orientação sexual do agressor 2  0 non-null      float64\n",
      " 36  Orientação sexual do agressor 3  0 non-null      float64\n",
      " 37  Idade do agressor 1              49 non-null     object \n",
      " 38  Idade do agressor 2              22 non-null     object \n",
      " 39  Idade do agressor 3              9 non-null      object \n",
      " 40  Raça/cor do agressor 1           64 non-null     object \n",
      " 41  Raça/cor do agressor 2           64 non-null     object \n",
      " 42  Raça/cor do agressor 3           64 non-null     object \n",
      " 43  Religião do agressor 1           0 non-null      float64\n",
      " 44  Religião do agressor 2           0 non-null      float64\n",
      " 45  Religião do agressor 3           0 non-null      float64\n",
      " 46  Encaminhamentos                  0 non-null      float64\n",
      " 47  Resumo                           0 non-null      float64\n",
      " 48  Observações                      0 non-null      float64\n",
      "dtypes: float64(19), int64(1), object(29)\n",
      "memory usage: 24.6+ KB\n"
     ]
    }
   ],
   "source": [
    "df_sc.info()\n"
   ]
  },
  {
   "cell_type": "code",
   "execution_count": 26,
   "id": "8653011f",
   "metadata": {},
   "outputs": [],
   "source": [
    "# Transformando o tipo da coluna data da denuncia para data\n",
    "df_sc['Data da denúncia'] = pd.to_datetime(df_sc['Data da denúncia'])\n"
   ]
  },
  {
   "cell_type": "code",
   "execution_count": 27,
   "id": "7a407f11",
   "metadata": {
    "collapsed": true
   },
   "outputs": [
    {
     "data": {
      "text/plain": [
       "2020    22\n",
       "2019    20\n",
       "2021    20\n",
       "2022     2\n",
       "Name: Data da denúncia, dtype: int64"
      ]
     },
     "execution_count": 27,
     "metadata": {},
     "output_type": "execute_result"
    }
   ],
   "source": [
    "df_sc['Data da denúncia'].dt.year.value_counts()"
   ]
  },
  {
   "cell_type": "code",
   "execution_count": 28,
   "id": "2dc861a8",
   "metadata": {},
   "outputs": [],
   "source": [
    "df_sc2 = pd.DataFrame(df_sc[df_sc['Data da denúncia'].dt.year < 2022])"
   ]
  },
  {
   "cell_type": "code",
   "execution_count": 29,
   "id": "c637140d",
   "metadata": {
    "collapsed": true
   },
   "outputs": [
    {
     "data": {
      "text/plain": [
       "2020    22\n",
       "2019    20\n",
       "2021    20\n",
       "Name: Data da denúncia, dtype: int64"
      ]
     },
     "execution_count": 29,
     "metadata": {},
     "output_type": "execute_result"
    }
   ],
   "source": [
    "df_sc2['Data da denúncia'].dt.year.value_counts()"
   ]
  },
  {
   "cell_type": "markdown",
   "id": "4da49788",
   "metadata": {},
   "source": [
    "DataFrame RS\n"
   ]
  },
  {
   "cell_type": "code",
   "execution_count": 37,
   "id": "1c0424a5",
   "metadata": {
    "collapsed": true
   },
   "outputs": [
    {
     "name": "stdout",
     "output_type": "stream",
     "text": [
      "<class 'pandas.core.frame.DataFrame'>\n",
      "RangeIndex: 21 entries, 0 to 20\n",
      "Data columns (total 49 columns):\n",
      " #   Column                           Non-Null Count  Dtype  \n",
      "---  ------                           --------------  -----  \n",
      " 0   Unnamed: 0                       21 non-null     int64  \n",
      " 1   Submission Date                  21 non-null     object \n",
      " 2   UF                               21 non-null     object \n",
      " 3   Cidade                           18 non-null     object \n",
      " 4   Dano                             0 non-null      float64\n",
      " 5   Violência                        0 non-null      float64\n",
      " 6   Tipificação                      0 non-null      float64\n",
      " 7   Vítima                           21 non-null     object \n",
      " 8   Gênero da vítima 1               18 non-null     object \n",
      " 9   Gênero da vítima 2               2 non-null      object \n",
      " 10  Gênero da vítima 3               1 non-null      object \n",
      " 11  Escolaridade da vítima 3         1 non-null      object \n",
      " 12  Escolaridade da vítima 2         2 non-null      object \n",
      " 13  Escolaridade da vítima 1         18 non-null     object \n",
      " 14  Escolaridade do agressor 3       2 non-null      object \n",
      " 15  Escolaridade do agressor 2       3 non-null      object \n",
      " 16  Escolaridade do agressor 1       12 non-null     object \n",
      " 17  Data da denúncia                 18 non-null     object \n",
      " 18  Orientação sexual da vítima 1    0 non-null      float64\n",
      " 19  Orientação sexual da vítima 2    0 non-null      float64\n",
      " 20  Orientação sexual da vítima 3    0 non-null      float64\n",
      " 21  Idade da vítima 1                18 non-null     float64\n",
      " 22  Idade da vítima 2                2 non-null      float64\n",
      " 23  Idade da vítima 3                1 non-null      float64\n",
      " 24  Raça/cor da vítima 1             21 non-null     object \n",
      " 25  Raça/cor da vítima 2             21 non-null     object \n",
      " 26  Raça/cor da vítima 3             21 non-null     object \n",
      " 27  Religião da vítima 1             0 non-null      float64\n",
      " 28  Religião da vítima 2             0 non-null      float64\n",
      " 29  Religião da vítima 3             0 non-null      float64\n",
      " 30  Agressor 1                       21 non-null     object \n",
      " 31  Gênero do agressor 1             12 non-null     object \n",
      " 32  Gênero do agressor 2             3 non-null      object \n",
      " 33  Gênero do agressor 3             2 non-null      object \n",
      " 34  Orientação sexual do agressor 1  0 non-null      float64\n",
      " 35  Orientação sexual do agressor 2  0 non-null      float64\n",
      " 36  Orientação sexual do agressor 3  0 non-null      float64\n",
      " 37  Idade do agressor 1              12 non-null     float64\n",
      " 38  Idade do agressor 2              3 non-null      float64\n",
      " 39  Idade do agressor 3              2 non-null      float64\n",
      " 40  Raça/cor do agressor 1           21 non-null     object \n",
      " 41  Raça/cor do agressor 2           21 non-null     object \n",
      " 42  Raça/cor do agressor 3           21 non-null     object \n",
      " 43  Religião do agressor 1           0 non-null      float64\n",
      " 44  Religião do agressor 2           0 non-null      float64\n",
      " 45  Religião do agressor 3           0 non-null      float64\n",
      " 46  Encaminhamentos                  0 non-null      float64\n",
      " 47  Resumo                           0 non-null      float64\n",
      " 48  Observações                      21 non-null     object \n",
      "dtypes: float64(23), int64(1), object(25)\n",
      "memory usage: 8.2+ KB\n"
     ]
    }
   ],
   "source": [
    "df_rs.info()\n"
   ]
  },
  {
   "cell_type": "code",
   "execution_count": 30,
   "id": "87e4a45a",
   "metadata": {},
   "outputs": [],
   "source": [
    "# Transformando o tipo da coluna data da denuncia para data\n",
    "df_rs['Data da denúncia'] = pd.to_datetime(df_rs['Data da denúncia'])\n"
   ]
  },
  {
   "cell_type": "code",
   "execution_count": 31,
   "id": "ed6f8dc2",
   "metadata": {
    "scrolled": false
   },
   "outputs": [
    {
     "data": {
      "text/plain": [
       "2021.0    18\n",
       "Name: Data da denúncia, dtype: int64"
      ]
     },
     "execution_count": 31,
     "metadata": {},
     "output_type": "execute_result"
    }
   ],
   "source": [
    "df_rs['Data da denúncia'].dt.year.value_counts()"
   ]
  },
  {
   "cell_type": "markdown",
   "id": "c38ee2f8",
   "metadata": {},
   "source": [
    "DataFrame MT\n"
   ]
  },
  {
   "cell_type": "code",
   "execution_count": 32,
   "id": "6f41d287",
   "metadata": {
    "collapsed": true
   },
   "outputs": [
    {
     "data": {
      "text/html": [
       "<div>\n",
       "<style scoped>\n",
       "    .dataframe tbody tr th:only-of-type {\n",
       "        vertical-align: middle;\n",
       "    }\n",
       "\n",
       "    .dataframe tbody tr th {\n",
       "        vertical-align: top;\n",
       "    }\n",
       "\n",
       "    .dataframe thead th {\n",
       "        text-align: right;\n",
       "    }\n",
       "</style>\n",
       "<table border=\"1\" class=\"dataframe\">\n",
       "  <thead>\n",
       "    <tr style=\"text-align: right;\">\n",
       "      <th></th>\n",
       "      <th>Submission.Date</th>\n",
       "      <th>UF</th>\n",
       "      <th>Cidade</th>\n",
       "      <th>Dano</th>\n",
       "      <th>Violência</th>\n",
       "      <th>Tipificação</th>\n",
       "      <th>Vítima</th>\n",
       "      <th>Gênero da vítima 1</th>\n",
       "      <th>Gênero da vítima 2</th>\n",
       "      <th>Gênero da vítima 3</th>\n",
       "      <th>...</th>\n",
       "      <th>Idade do agressor 3</th>\n",
       "      <th>Raça/cor do agressor 1</th>\n",
       "      <th>Raça/cor do agressor 2</th>\n",
       "      <th>Raça/cor do agressor 3</th>\n",
       "      <th>Religião do agressor 1</th>\n",
       "      <th>Religião do agressor 2</th>\n",
       "      <th>Religião do agressor 3</th>\n",
       "      <th>Encaminhamentos</th>\n",
       "      <th>Resumo</th>\n",
       "      <th>Observações</th>\n",
       "    </tr>\n",
       "  </thead>\n",
       "  <tbody>\n",
       "    <tr>\n",
       "      <th>0</th>\n",
       "      <td>17-03-2022</td>\n",
       "      <td>MATO GROSSO</td>\n",
       "      <td>NOVA LACERDA</td>\n",
       "      <td>NaN</td>\n",
       "      <td>NaN</td>\n",
       "      <td>SE COMETIDO POR INTERMÉDIO DOS MEIOS DE COMUNI...</td>\n",
       "      <td>Individual ou até 3 pessoas</td>\n",
       "      <td>MASCULINO</td>\n",
       "      <td>NaN</td>\n",
       "      <td>NaN</td>\n",
       "      <td>...</td>\n",
       "      <td>NaN</td>\n",
       "      <td>NI</td>\n",
       "      <td>NaN</td>\n",
       "      <td>NaN</td>\n",
       "      <td>NaN</td>\n",
       "      <td>NaN</td>\n",
       "      <td>NaN</td>\n",
       "      <td>NaN</td>\n",
       "      <td>NaN</td>\n",
       "      <td>INTERNET</td>\n",
       "    </tr>\n",
       "    <tr>\n",
       "      <th>1</th>\n",
       "      <td>17-03-2022</td>\n",
       "      <td>MATO GROSSO</td>\n",
       "      <td>NOVA LACERDA</td>\n",
       "      <td>NaN</td>\n",
       "      <td>NaN</td>\n",
       "      <td>SE COMETIDO POR INTERMÉDIO DOS MEIOS DE COMUNI...</td>\n",
       "      <td>Individual ou até 3 pessoas</td>\n",
       "      <td>MASCULINO</td>\n",
       "      <td>NaN</td>\n",
       "      <td>NaN</td>\n",
       "      <td>...</td>\n",
       "      <td>NaN</td>\n",
       "      <td>NI</td>\n",
       "      <td>NaN</td>\n",
       "      <td>NaN</td>\n",
       "      <td>NaN</td>\n",
       "      <td>NaN</td>\n",
       "      <td>NaN</td>\n",
       "      <td>NaN</td>\n",
       "      <td>NaN</td>\n",
       "      <td>INTERNET</td>\n",
       "    </tr>\n",
       "    <tr>\n",
       "      <th>2</th>\n",
       "      <td>17-03-2022</td>\n",
       "      <td>MATO GROSSO</td>\n",
       "      <td>CUIABA</td>\n",
       "      <td>NaN</td>\n",
       "      <td>NaN</td>\n",
       "      <td>SE COMETIDO POR INTERMÉDIO DOS MEIOS DE COMUNI...</td>\n",
       "      <td>Individual ou até 3 pessoas</td>\n",
       "      <td>MASCULINO</td>\n",
       "      <td>NaN</td>\n",
       "      <td>NaN</td>\n",
       "      <td>...</td>\n",
       "      <td>NaN</td>\n",
       "      <td>NI</td>\n",
       "      <td>NaN</td>\n",
       "      <td>NaN</td>\n",
       "      <td>NaN</td>\n",
       "      <td>NaN</td>\n",
       "      <td>NaN</td>\n",
       "      <td>NaN</td>\n",
       "      <td>NaN</td>\n",
       "      <td>VIA PÚBLICA</td>\n",
       "    </tr>\n",
       "    <tr>\n",
       "      <th>3</th>\n",
       "      <td>17-03-2022</td>\n",
       "      <td>MATO GROSSO</td>\n",
       "      <td>BARRA DO GARCAS</td>\n",
       "      <td>NaN</td>\n",
       "      <td>NaN</td>\n",
       "      <td>SE COMETIDO POR INTERMÉDIO DOS MEIOS DE COMUNI...</td>\n",
       "      <td>Individual ou até 3 pessoas</td>\n",
       "      <td>MASCULINO</td>\n",
       "      <td>NaN</td>\n",
       "      <td>NaN</td>\n",
       "      <td>...</td>\n",
       "      <td>NaN</td>\n",
       "      <td>NI</td>\n",
       "      <td>NaN</td>\n",
       "      <td>NaN</td>\n",
       "      <td>NaN</td>\n",
       "      <td>NaN</td>\n",
       "      <td>NaN</td>\n",
       "      <td>NaN</td>\n",
       "      <td>NaN</td>\n",
       "      <td>RESIDÊNCIA PARTICULAR</td>\n",
       "    </tr>\n",
       "    <tr>\n",
       "      <th>4</th>\n",
       "      <td>17-03-2022</td>\n",
       "      <td>MATO GROSSO</td>\n",
       "      <td>BARRA DO GARCAS</td>\n",
       "      <td>NaN</td>\n",
       "      <td>NaN</td>\n",
       "      <td>SE COMETIDO POR INTERMÉDIO DOS MEIOS DE COMUNI...</td>\n",
       "      <td>Individual ou até 3 pessoas</td>\n",
       "      <td>FEMININO</td>\n",
       "      <td>NaN</td>\n",
       "      <td>NaN</td>\n",
       "      <td>...</td>\n",
       "      <td>NaN</td>\n",
       "      <td>NI</td>\n",
       "      <td>NaN</td>\n",
       "      <td>NaN</td>\n",
       "      <td>NaN</td>\n",
       "      <td>NaN</td>\n",
       "      <td>NaN</td>\n",
       "      <td>NaN</td>\n",
       "      <td>NaN</td>\n",
       "      <td>RESIDÊNCIA PARTICULAR</td>\n",
       "    </tr>\n",
       "  </tbody>\n",
       "</table>\n",
       "<p>5 rows × 48 columns</p>\n",
       "</div>"
      ],
      "text/plain": [
       "  Submission.Date           UF           Cidade  Dano  Violência  \\\n",
       "0      17-03-2022  MATO GROSSO     NOVA LACERDA   NaN        NaN   \n",
       "1      17-03-2022  MATO GROSSO     NOVA LACERDA   NaN        NaN   \n",
       "2      17-03-2022  MATO GROSSO           CUIABA   NaN        NaN   \n",
       "3      17-03-2022  MATO GROSSO  BARRA DO GARCAS   NaN        NaN   \n",
       "4      17-03-2022  MATO GROSSO  BARRA DO GARCAS   NaN        NaN   \n",
       "\n",
       "                                         Tipificação  \\\n",
       "0  SE COMETIDO POR INTERMÉDIO DOS MEIOS DE COMUNI...   \n",
       "1  SE COMETIDO POR INTERMÉDIO DOS MEIOS DE COMUNI...   \n",
       "2  SE COMETIDO POR INTERMÉDIO DOS MEIOS DE COMUNI...   \n",
       "3  SE COMETIDO POR INTERMÉDIO DOS MEIOS DE COMUNI...   \n",
       "4  SE COMETIDO POR INTERMÉDIO DOS MEIOS DE COMUNI...   \n",
       "\n",
       "                        Vítima Gênero da vítima 1  Gênero da vítima 2  \\\n",
       "0  Individual ou até 3 pessoas          MASCULINO                 NaN   \n",
       "1  Individual ou até 3 pessoas          MASCULINO                 NaN   \n",
       "2  Individual ou até 3 pessoas          MASCULINO                 NaN   \n",
       "3  Individual ou até 3 pessoas          MASCULINO                 NaN   \n",
       "4  Individual ou até 3 pessoas           FEMININO                 NaN   \n",
       "\n",
       "   Gênero da vítima 3  ...  Idade do agressor 3  Raça/cor do agressor 1  \\\n",
       "0                 NaN  ...                  NaN                      NI   \n",
       "1                 NaN  ...                  NaN                      NI   \n",
       "2                 NaN  ...                  NaN                      NI   \n",
       "3                 NaN  ...                  NaN                      NI   \n",
       "4                 NaN  ...                  NaN                      NI   \n",
       "\n",
       "   Raça/cor do agressor 2  Raça/cor do agressor 3  Religião do agressor 1  \\\n",
       "0                     NaN                     NaN                     NaN   \n",
       "1                     NaN                     NaN                     NaN   \n",
       "2                     NaN                     NaN                     NaN   \n",
       "3                     NaN                     NaN                     NaN   \n",
       "4                     NaN                     NaN                     NaN   \n",
       "\n",
       "   Religião do agressor 2 Religião do agressor 3 Encaminhamentos  Resumo  \\\n",
       "0                     NaN                    NaN             NaN     NaN   \n",
       "1                     NaN                    NaN             NaN     NaN   \n",
       "2                     NaN                    NaN             NaN     NaN   \n",
       "3                     NaN                    NaN             NaN     NaN   \n",
       "4                     NaN                    NaN             NaN     NaN   \n",
       "\n",
       "             Observações  \n",
       "0               INTERNET  \n",
       "1               INTERNET  \n",
       "2            VIA PÚBLICA  \n",
       "3  RESIDÊNCIA PARTICULAR  \n",
       "4  RESIDÊNCIA PARTICULAR  \n",
       "\n",
       "[5 rows x 48 columns]"
      ]
     },
     "execution_count": 32,
     "metadata": {},
     "output_type": "execute_result"
    }
   ],
   "source": [
    "df_mt.head()"
   ]
  },
  {
   "cell_type": "code",
   "execution_count": 42,
   "id": "d2424a28",
   "metadata": {
    "collapsed": true
   },
   "outputs": [
    {
     "name": "stdout",
     "output_type": "stream",
     "text": [
      "<class 'pandas.core.frame.DataFrame'>\n",
      "RangeIndex: 303 entries, 0 to 302\n",
      "Data columns (total 48 columns):\n",
      " #   Column                           Non-Null Count  Dtype  \n",
      "---  ------                           --------------  -----  \n",
      " 0   Submission.Date                  303 non-null    object \n",
      " 1   UF                               303 non-null    object \n",
      " 2   Cidade                           303 non-null    object \n",
      " 3   Dano                             0 non-null      float64\n",
      " 4   Violência                        0 non-null      float64\n",
      " 5   Tipificação                      303 non-null    object \n",
      " 6   Vítima                           303 non-null    object \n",
      " 7   Gênero da vítima 1               303 non-null    object \n",
      " 8   Gênero da vítima 2               0 non-null      float64\n",
      " 9   Gênero da vítima 3               0 non-null      float64\n",
      " 10  Escolaridade da vítima 3         0 non-null      float64\n",
      " 11  Escolaridade da vítima 2         0 non-null      float64\n",
      " 12  Escolaridade da vítima 1         0 non-null      float64\n",
      " 13  Escolaridade do agressor 3       0 non-null      float64\n",
      " 14  Escolaridade do agressor 2       0 non-null      float64\n",
      " 15  Escolaridade do agressor 1       0 non-null      float64\n",
      " 16  Data da denúncia                 303 non-null    object \n",
      " 17  Orientação sexual da vítima 1    303 non-null    object \n",
      " 18  Orientação sexual da vítima 2    0 non-null      float64\n",
      " 19  Orientação sexual da vítima 3    0 non-null      float64\n",
      " 20  Idade da vítima 1                301 non-null    float64\n",
      " 21  Idade da vítima 2                0 non-null      float64\n",
      " 22  Idade da vítima 3                0 non-null      float64\n",
      " 23  Raça/cor da vítima 1             303 non-null    object \n",
      " 24  Raça/cor da vítima 2             0 non-null      float64\n",
      " 25  Raça/cor da vítima 3             0 non-null      float64\n",
      " 26  Religião da vítima 1             0 non-null      float64\n",
      " 27  Religião da vítima 2             0 non-null      float64\n",
      " 28  Religião da vítima 3             0 non-null      float64\n",
      " 29  Agressor 1                       303 non-null    object \n",
      " 30  Gênero do agressor 1             303 non-null    object \n",
      " 31  Gênero do agressor 2             0 non-null      float64\n",
      " 32  Gênero do agressor 3             0 non-null      float64\n",
      " 33  Orientação sexual do agressor 1  303 non-null    object \n",
      " 34  Orientação sexual do agressor 2  0 non-null      float64\n",
      " 35  Orientação sexual do agressor 3  0 non-null      float64\n",
      " 36  Idade do agressor 1              183 non-null    float64\n",
      " 37  Idade do agressor 2              0 non-null      float64\n",
      " 38  Idade do agressor 3              0 non-null      float64\n",
      " 39  Raça/cor do agressor 1           303 non-null    object \n",
      " 40  Raça/cor do agressor 2           0 non-null      float64\n",
      " 41  Raça/cor do agressor 3           0 non-null      float64\n",
      " 42  Religião do agressor 1           0 non-null      float64\n",
      " 43  Religião do agressor 2           0 non-null      float64\n",
      " 44  Religião do agressor 3           0 non-null      float64\n",
      " 45  Encaminhamentos                  0 non-null      float64\n",
      " 46  Resumo                           0 non-null      float64\n",
      " 47  Observações                      303 non-null    object \n",
      "dtypes: float64(34), object(14)\n",
      "memory usage: 113.8+ KB\n"
     ]
    }
   ],
   "source": [
    "df_mt.info()"
   ]
  },
  {
   "cell_type": "code",
   "execution_count": 33,
   "id": "2a18a309",
   "metadata": {},
   "outputs": [],
   "source": [
    "# renomeado os dados de data\n",
    "df_mt['Data da denúncia'] = df_mt['Data da denúncia'].str.replace('-', '/')"
   ]
  },
  {
   "cell_type": "code",
   "execution_count": 34,
   "id": "211aeb48",
   "metadata": {},
   "outputs": [],
   "source": [
    "df_mt['Data da denúncia'] = df_mt['Data da denúncia'].str.replace('00', '01')"
   ]
  },
  {
   "cell_type": "code",
   "execution_count": 35,
   "id": "ad68ca82",
   "metadata": {},
   "outputs": [],
   "source": [
    "# Transformando o tipo da coluna data da denuncia para data\n",
    "df_mt['Data da denúncia'] = pd.to_datetime(df_mt['Data da denúncia'])\n"
   ]
  },
  {
   "cell_type": "code",
   "execution_count": 36,
   "id": "0716ee48",
   "metadata": {},
   "outputs": [
    {
     "data": {
      "text/plain": [
       "2019    115\n",
       "2020     96\n",
       "2021     92\n",
       "Name: Data da denúncia, dtype: int64"
      ]
     },
     "execution_count": 36,
     "metadata": {},
     "output_type": "execute_result"
    }
   ],
   "source": [
    "df_mt['Data da denúncia'].dt.year.value_counts()"
   ]
  },
  {
   "cell_type": "markdown",
   "id": "7eb2cb47",
   "metadata": {},
   "source": [
    "RJ "
   ]
  },
  {
   "cell_type": "code",
   "execution_count": 50,
   "id": "cc8c4b1b",
   "metadata": {
    "collapsed": true
   },
   "outputs": [
    {
     "name": "stdout",
     "output_type": "stream",
     "text": [
      "<class 'pandas.core.frame.DataFrame'>\n",
      "RangeIndex: 3472 entries, 0 to 3471\n",
      "Data columns (total 49 columns):\n",
      " #   Column                           Non-Null Count  Dtype  \n",
      "---  ------                           --------------  -----  \n",
      " 0   Unnamed: 0                       3472 non-null   int64  \n",
      " 1   Submission Date                  3472 non-null   object \n",
      " 2   UF                               3472 non-null   object \n",
      " 3   Cidade                           3472 non-null   object \n",
      " 4   Dano                             0 non-null      float64\n",
      " 5   Violência                        0 non-null      float64\n",
      " 6   Tipificação                      3472 non-null   object \n",
      " 7   Vítima                           3472 non-null   object \n",
      " 8   Gênero da vítima 1               3461 non-null   object \n",
      " 9   Gênero da vítima 2               287 non-null    object \n",
      " 10  Gênero da vítima 3               48 non-null     object \n",
      " 11  Escolaridade da vítima 3         48 non-null     object \n",
      " 12  Escolaridade da vítima 2         287 non-null    object \n",
      " 13  Escolaridade da vítima 1         3461 non-null   object \n",
      " 14  Escolaridade do agressor 3       0 non-null      float64\n",
      " 15  Escolaridade do agressor 2       0 non-null      float64\n",
      " 16  Escolaridade do agressor 1       0 non-null      float64\n",
      " 17  Data da denúncia                 3472 non-null   object \n",
      " 18  Orientação sexual da vítima 1    0 non-null      float64\n",
      " 19  Orientação sexual da vítima 2    0 non-null      float64\n",
      " 20  Orientação sexual da vítima 3    0 non-null      float64\n",
      " 21  Idade da vítima 1                3189 non-null   float64\n",
      " 22  Idade da vítima 2                267 non-null    float64\n",
      " 23  Idade da vítima 3                44 non-null     float64\n",
      " 24  Raça/cor da vítima 1             3461 non-null   object \n",
      " 25  Raça/cor da vítima 2             287 non-null    object \n",
      " 26  Raça/cor da vítima 3             48 non-null     object \n",
      " 27  Religião da vítima 1             0 non-null      float64\n",
      " 28  Religião da vítima 2             0 non-null      float64\n",
      " 29  Religião da vítima 3             0 non-null      float64\n",
      " 30  Agressor 1                       0 non-null      float64\n",
      " 31  Gênero do agressor 1             0 non-null      float64\n",
      " 32  Gênero do agressor 2             0 non-null      float64\n",
      " 33  Gênero do agressor 3             0 non-null      float64\n",
      " 34  Orientação sexual do agressor 1  0 non-null      float64\n",
      " 35  Orientação sexual do agressor 2  0 non-null      float64\n",
      " 36  Orientação sexual do agressor 3  0 non-null      float64\n",
      " 37  Idade do agressor 1              0 non-null      float64\n",
      " 38  Idade do agressor 2              0 non-null      float64\n",
      " 39  Idade do agressor 3              0 non-null      float64\n",
      " 40  Raça/cor do agressor 1           0 non-null      float64\n",
      " 41  Raça/cor do agressor 2           0 non-null      float64\n",
      " 42  Raça/cor do agressor 3           0 non-null      float64\n",
      " 43  Religião do agressor 1           0 non-null      float64\n",
      " 44  Religião do agressor 2           0 non-null      float64\n",
      " 45  Religião do agressor 3           0 non-null      float64\n",
      " 46  Encaminhamentos                  0 non-null      float64\n",
      " 47  Resumo                           0 non-null      float64\n",
      " 48  Observações                      3472 non-null   object \n",
      "dtypes: float64(32), int64(1), object(16)\n",
      "memory usage: 1.3+ MB\n"
     ]
    }
   ],
   "source": [
    "df_rj.info()\n"
   ]
  },
  {
   "cell_type": "code",
   "execution_count": 38,
   "id": "15225b19",
   "metadata": {},
   "outputs": [],
   "source": [
    "# Transformando o tipo da coluna data da denuncia para data\n",
    "df_rj['Data da denúncia'] = pd.to_datetime(df_rj['Data da denúncia'])\n"
   ]
  },
  {
   "cell_type": "code",
   "execution_count": 39,
   "id": "4432a98c",
   "metadata": {
    "collapsed": true
   },
   "outputs": [
    {
     "data": {
      "text/plain": [
       "2020    1207\n",
       "2019    1167\n",
       "2021     953\n",
       "2018      99\n",
       "2017      22\n",
       "2016       8\n",
       "2015       6\n",
       "2000       3\n",
       "2009       2\n",
       "2014       1\n",
       "1997       1\n",
       "2003       1\n",
       "2005       1\n",
       "2013       1\n",
       "Name: Data da denúncia, dtype: int64"
      ]
     },
     "execution_count": 39,
     "metadata": {},
     "output_type": "execute_result"
    }
   ],
   "source": [
    "df_rj['Data da denúncia'].dt.year.value_counts()"
   ]
  },
  {
   "cell_type": "code",
   "execution_count": 40,
   "id": "8ea56a6e",
   "metadata": {},
   "outputs": [],
   "source": [
    "# filtrando os dados pela janela temporal usada na análise\n",
    "df_rj2 = pd.DataFrame(df_rj[df_rj['Data da denúncia'].dt.year >= 2019])"
   ]
  },
  {
   "cell_type": "code",
   "execution_count": 41,
   "id": "b11e55b0",
   "metadata": {
    "collapsed": true
   },
   "outputs": [
    {
     "data": {
      "text/html": [
       "<div>\n",
       "<style scoped>\n",
       "    .dataframe tbody tr th:only-of-type {\n",
       "        vertical-align: middle;\n",
       "    }\n",
       "\n",
       "    .dataframe tbody tr th {\n",
       "        vertical-align: top;\n",
       "    }\n",
       "\n",
       "    .dataframe thead th {\n",
       "        text-align: right;\n",
       "    }\n",
       "</style>\n",
       "<table border=\"1\" class=\"dataframe\">\n",
       "  <thead>\n",
       "    <tr style=\"text-align: right;\">\n",
       "      <th></th>\n",
       "      <th>Unnamed: 0</th>\n",
       "      <th>Submission Date</th>\n",
       "      <th>UF</th>\n",
       "      <th>Cidade</th>\n",
       "      <th>Dano</th>\n",
       "      <th>Violência</th>\n",
       "      <th>Tipificação</th>\n",
       "      <th>Vítima</th>\n",
       "      <th>Gênero da vítima 1</th>\n",
       "      <th>Gênero da vítima 2</th>\n",
       "      <th>...</th>\n",
       "      <th>Idade do agressor 3</th>\n",
       "      <th>Raça/cor do agressor 1</th>\n",
       "      <th>Raça/cor do agressor 2</th>\n",
       "      <th>Raça/cor do agressor 3</th>\n",
       "      <th>Religião do agressor 1</th>\n",
       "      <th>Religião do agressor 2</th>\n",
       "      <th>Religião do agressor 3</th>\n",
       "      <th>Encaminhamentos</th>\n",
       "      <th>Resumo</th>\n",
       "      <th>Observações</th>\n",
       "    </tr>\n",
       "  </thead>\n",
       "  <tbody>\n",
       "    <tr>\n",
       "      <th>0</th>\n",
       "      <td>1</td>\n",
       "      <td>2022/03/17 15:44:00</td>\n",
       "      <td>Rio de Janeiro</td>\n",
       "      <td>Magé</td>\n",
       "      <td>NaN</td>\n",
       "      <td>NaN</td>\n",
       "      <td>Injúria por preconceito</td>\n",
       "      <td>Individual ou até 3 pessoas</td>\n",
       "      <td>Feminino</td>\n",
       "      <td>NaN</td>\n",
       "      <td>...</td>\n",
       "      <td>NaN</td>\n",
       "      <td>NaN</td>\n",
       "      <td>NaN</td>\n",
       "      <td>NaN</td>\n",
       "      <td>NaN</td>\n",
       "      <td>NaN</td>\n",
       "      <td>NaN</td>\n",
       "      <td>NaN</td>\n",
       "      <td>NaN</td>\n",
       "      <td>11038441-2021 - Sem dados de agressor, apenas ...</td>\n",
       "    </tr>\n",
       "    <tr>\n",
       "      <th>1</th>\n",
       "      <td>2</td>\n",
       "      <td>2022/03/17 15:44:00</td>\n",
       "      <td>Rio de Janeiro</td>\n",
       "      <td>Campos dos Goytacazes</td>\n",
       "      <td>NaN</td>\n",
       "      <td>NaN</td>\n",
       "      <td>Injúria por preconceito</td>\n",
       "      <td>Individual ou até 3 pessoas</td>\n",
       "      <td>Feminino</td>\n",
       "      <td>NaN</td>\n",
       "      <td>...</td>\n",
       "      <td>NaN</td>\n",
       "      <td>NaN</td>\n",
       "      <td>NaN</td>\n",
       "      <td>NaN</td>\n",
       "      <td>NaN</td>\n",
       "      <td>NaN</td>\n",
       "      <td>NaN</td>\n",
       "      <td>NaN</td>\n",
       "      <td>NaN</td>\n",
       "      <td>51803051-2021 - Sem dados de agressor, apenas ...</td>\n",
       "    </tr>\n",
       "    <tr>\n",
       "      <th>2</th>\n",
       "      <td>3</td>\n",
       "      <td>2022/03/17 15:44:00</td>\n",
       "      <td>Rio de Janeiro</td>\n",
       "      <td>Rio de Janeiro</td>\n",
       "      <td>NaN</td>\n",
       "      <td>NaN</td>\n",
       "      <td>Injúria por preconceito</td>\n",
       "      <td>Individual ou até 3 pessoas</td>\n",
       "      <td>Masculino</td>\n",
       "      <td>NaN</td>\n",
       "      <td>...</td>\n",
       "      <td>NaN</td>\n",
       "      <td>NaN</td>\n",
       "      <td>NaN</td>\n",
       "      <td>NaN</td>\n",
       "      <td>NaN</td>\n",
       "      <td>NaN</td>\n",
       "      <td>NaN</td>\n",
       "      <td>NaN</td>\n",
       "      <td>NaN</td>\n",
       "      <td>91094111-2021 - Sem dados de agressor, apenas ...</td>\n",
       "    </tr>\n",
       "    <tr>\n",
       "      <th>3</th>\n",
       "      <td>4</td>\n",
       "      <td>2022/03/17 15:44:00</td>\n",
       "      <td>Rio de Janeiro</td>\n",
       "      <td>Nova Friburgo</td>\n",
       "      <td>NaN</td>\n",
       "      <td>NaN</td>\n",
       "      <td>Injúria por preconceito</td>\n",
       "      <td>Individual ou até 3 pessoas</td>\n",
       "      <td>Feminino</td>\n",
       "      <td>NaN</td>\n",
       "      <td>...</td>\n",
       "      <td>NaN</td>\n",
       "      <td>NaN</td>\n",
       "      <td>NaN</td>\n",
       "      <td>NaN</td>\n",
       "      <td>NaN</td>\n",
       "      <td>NaN</td>\n",
       "      <td>NaN</td>\n",
       "      <td>NaN</td>\n",
       "      <td>NaN</td>\n",
       "      <td>91711641-2021 - Sem dados de agressor, apenas ...</td>\n",
       "    </tr>\n",
       "    <tr>\n",
       "      <th>4</th>\n",
       "      <td>5</td>\n",
       "      <td>2022/03/17 15:44:00</td>\n",
       "      <td>Rio de Janeiro</td>\n",
       "      <td>Volta Redonda</td>\n",
       "      <td>NaN</td>\n",
       "      <td>NaN</td>\n",
       "      <td>Injúria por preconceito</td>\n",
       "      <td>Individual ou até 3 pessoas</td>\n",
       "      <td>Feminino</td>\n",
       "      <td>NaN</td>\n",
       "      <td>...</td>\n",
       "      <td>NaN</td>\n",
       "      <td>NaN</td>\n",
       "      <td>NaN</td>\n",
       "      <td>NaN</td>\n",
       "      <td>NaN</td>\n",
       "      <td>NaN</td>\n",
       "      <td>NaN</td>\n",
       "      <td>NaN</td>\n",
       "      <td>NaN</td>\n",
       "      <td>97709781-2021 - Sem dados de agressor, apenas ...</td>\n",
       "    </tr>\n",
       "  </tbody>\n",
       "</table>\n",
       "<p>5 rows × 49 columns</p>\n",
       "</div>"
      ],
      "text/plain": [
       "   Unnamed: 0      Submission Date              UF                 Cidade  \\\n",
       "0           1  2022/03/17 15:44:00  Rio de Janeiro                   Magé   \n",
       "1           2  2022/03/17 15:44:00  Rio de Janeiro  Campos dos Goytacazes   \n",
       "2           3  2022/03/17 15:44:00  Rio de Janeiro         Rio de Janeiro   \n",
       "3           4  2022/03/17 15:44:00  Rio de Janeiro          Nova Friburgo   \n",
       "4           5  2022/03/17 15:44:00  Rio de Janeiro          Volta Redonda   \n",
       "\n",
       "   Dano  Violência              Tipificação                       Vítima  \\\n",
       "0   NaN        NaN  Injúria por preconceito  Individual ou até 3 pessoas   \n",
       "1   NaN        NaN  Injúria por preconceito  Individual ou até 3 pessoas   \n",
       "2   NaN        NaN  Injúria por preconceito  Individual ou até 3 pessoas   \n",
       "3   NaN        NaN  Injúria por preconceito  Individual ou até 3 pessoas   \n",
       "4   NaN        NaN  Injúria por preconceito  Individual ou até 3 pessoas   \n",
       "\n",
       "  Gênero da vítima 1 Gênero da vítima 2  ... Idade do agressor 3  \\\n",
       "0           Feminino                NaN  ...                 NaN   \n",
       "1           Feminino                NaN  ...                 NaN   \n",
       "2          Masculino                NaN  ...                 NaN   \n",
       "3           Feminino                NaN  ...                 NaN   \n",
       "4           Feminino                NaN  ...                 NaN   \n",
       "\n",
       "  Raça/cor do agressor 1 Raça/cor do agressor 2 Raça/cor do agressor 3  \\\n",
       "0                    NaN                    NaN                    NaN   \n",
       "1                    NaN                    NaN                    NaN   \n",
       "2                    NaN                    NaN                    NaN   \n",
       "3                    NaN                    NaN                    NaN   \n",
       "4                    NaN                    NaN                    NaN   \n",
       "\n",
       "   Religião do agressor 1  Religião do agressor 2  Religião do agressor 3  \\\n",
       "0                     NaN                     NaN                     NaN   \n",
       "1                     NaN                     NaN                     NaN   \n",
       "2                     NaN                     NaN                     NaN   \n",
       "3                     NaN                     NaN                     NaN   \n",
       "4                     NaN                     NaN                     NaN   \n",
       "\n",
       "  Encaminhamentos  Resumo                                        Observações  \n",
       "0             NaN     NaN  11038441-2021 - Sem dados de agressor, apenas ...  \n",
       "1             NaN     NaN  51803051-2021 - Sem dados de agressor, apenas ...  \n",
       "2             NaN     NaN  91094111-2021 - Sem dados de agressor, apenas ...  \n",
       "3             NaN     NaN  91711641-2021 - Sem dados de agressor, apenas ...  \n",
       "4             NaN     NaN  97709781-2021 - Sem dados de agressor, apenas ...  \n",
       "\n",
       "[5 rows x 49 columns]"
      ]
     },
     "execution_count": 41,
     "metadata": {},
     "output_type": "execute_result"
    }
   ],
   "source": [
    "df_rj2.head()"
   ]
  },
  {
   "cell_type": "markdown",
   "id": "00e1a955",
   "metadata": {},
   "source": [
    "PR"
   ]
  },
  {
   "cell_type": "code",
   "execution_count": 55,
   "id": "65998585",
   "metadata": {
    "collapsed": true
   },
   "outputs": [
    {
     "name": "stdout",
     "output_type": "stream",
     "text": [
      "<class 'pandas.core.frame.DataFrame'>\n",
      "RangeIndex: 2897 entries, 0 to 2896\n",
      "Data columns (total 49 columns):\n",
      " #   Column                           Non-Null Count  Dtype  \n",
      "---  ------                           --------------  -----  \n",
      " 0   Unnamed: 0                       2897 non-null   int64  \n",
      " 1   Submission Date                  2897 non-null   object \n",
      " 2   UF                               2737 non-null   object \n",
      " 3   Cidade                           2737 non-null   object \n",
      " 4   Dano                             0 non-null      float64\n",
      " 5   Violência                        0 non-null      float64\n",
      " 6   Tipificação                      2737 non-null   object \n",
      " 7   Vítima                           2897 non-null   object \n",
      " 8   Gênero da vítima 1               2735 non-null   object \n",
      " 9   Gênero da vítima 2               364 non-null    object \n",
      " 10  Gênero da vítima 3               67 non-null     object \n",
      " 11  Escolaridade da vítima 3         0 non-null      float64\n",
      " 12  Escolaridade da vítima 2         0 non-null      float64\n",
      " 13  Escolaridade da vítima 1         0 non-null      float64\n",
      " 14  Escolaridade do agressor 3       0 non-null      float64\n",
      " 15  Escolaridade do agressor 2       0 non-null      float64\n",
      " 16  Escolaridade do agressor 1       0 non-null      float64\n",
      " 17  Data da denúncia                 2897 non-null   object \n",
      " 18  Orientação sexual da vítima 1    0 non-null      float64\n",
      " 19  Orientação sexual da vítima 2    0 non-null      float64\n",
      " 20  Orientação sexual da vítima 3    0 non-null      float64\n",
      " 21  Idade da vítima 1                2735 non-null   object \n",
      " 22  Idade da vítima 2                364 non-null    float64\n",
      " 23  Idade da vítima 3                67 non-null     float64\n",
      " 24  Raça/cor da vítima 1             0 non-null      float64\n",
      " 25  Raça/cor da vítima 2             0 non-null      float64\n",
      " 26  Raça/cor da vítima 3             0 non-null      float64\n",
      " 27  Religião da vítima 1             0 non-null      float64\n",
      " 28  Religião da vítima 2             0 non-null      float64\n",
      " 29  Religião da vítima 3             0 non-null      float64\n",
      " 30  Agressor 1                       2897 non-null   object \n",
      " 31  Gênero do agressor 1             1383 non-null   object \n",
      " 32  Gênero do agressor 2             165 non-null    object \n",
      " 33  Gênero do agressor 3             39 non-null     object \n",
      " 34  Orientação sexual do agressor 1  0 non-null      float64\n",
      " 35  Orientação sexual do agressor 2  0 non-null      float64\n",
      " 36  Orientação sexual do agressor 3  0 non-null      float64\n",
      " 37  Idade do agressor 1              1383 non-null   object \n",
      " 38  Idade do agressor 2              165 non-null    float64\n",
      " 39  Idade do agressor 3              39 non-null     float64\n",
      " 40  Raça/cor do agressor 1           0 non-null      float64\n",
      " 41  Raça/cor do agressor 2           0 non-null      float64\n",
      " 42  Raça/cor do agressor 3           0 non-null      float64\n",
      " 43  Religião do agressor 1           0 non-null      float64\n",
      " 44  Religião do agressor 2           0 non-null      float64\n",
      " 45  Religião do agressor 3           0 non-null      float64\n",
      " 46  Encaminhamentos                  0 non-null      float64\n",
      " 47  Resumo                           0 non-null      float64\n",
      " 48  Observações                      2897 non-null   object \n",
      "dtypes: float64(32), int64(1), object(16)\n",
      "memory usage: 1.1+ MB\n"
     ]
    }
   ],
   "source": [
    "df_pr.info()\n"
   ]
  },
  {
   "cell_type": "code",
   "execution_count": 42,
   "id": "0c2e6cf5",
   "metadata": {},
   "outputs": [],
   "source": [
    "# Transformando o tipo da coluna data da denuncia para data\n",
    "df_pr['Data da denúncia'] = pd.to_datetime(df_pr['Data da denúncia'])\n"
   ]
  },
  {
   "cell_type": "code",
   "execution_count": 43,
   "id": "6720db21",
   "metadata": {
    "collapsed": true
   },
   "outputs": [
    {
     "data": {
      "text/plain": [
       "2020    1008\n",
       "2021     991\n",
       "2019     898\n",
       "Name: Data da denúncia, dtype: int64"
      ]
     },
     "execution_count": 43,
     "metadata": {},
     "output_type": "execute_result"
    }
   ],
   "source": [
    "df_pr['Data da denúncia'].dt.year.value_counts()"
   ]
  },
  {
   "cell_type": "code",
   "execution_count": 56,
   "id": "514b293d",
   "metadata": {},
   "outputs": [
    {
     "data": {
      "text/plain": [
       "False    2737\n",
       "Name: UF, dtype: int64"
      ]
     },
     "execution_count": 56,
     "metadata": {},
     "output_type": "execute_result"
    }
   ],
   "source": [
    "# Quantidade de nulos na UF\n",
    "df_pr['UF'].isnull().value_counts()"
   ]
  },
  {
   "cell_type": "code",
   "execution_count": 55,
   "id": "e960a448",
   "metadata": {},
   "outputs": [],
   "source": [
    "#Excluindo os dados que são nulos na variável UF\n",
    "df_pr = pd.DataFrame(df_pr.dropna(subset=['UF']))"
   ]
  },
  {
   "cell_type": "markdown",
   "id": "9fc76479",
   "metadata": {},
   "source": [
    "Juntando os dataframes"
   ]
  },
  {
   "cell_type": "code",
   "execution_count": 78,
   "id": "f65f0039",
   "metadata": {},
   "outputs": [],
   "source": [
    "dados = pd.concat([df_geral2, df_sp2, df_es, df_mg, df_rs, df_sc2, df_mt, df_rj2, df_pr])"
   ]
  },
  {
   "cell_type": "code",
   "execution_count": 82,
   "id": "a7979b56",
   "metadata": {
    "collapsed": true
   },
   "outputs": [
    {
     "name": "stdout",
     "output_type": "stream",
     "text": [
      "<class 'pandas.core.frame.DataFrame'>\n",
      "Int64Index: 27447 entries, 132 to 2736\n",
      "Data columns (total 50 columns):\n",
      " #   Column                           Non-Null Count  Dtype         \n",
      "---  ------                           --------------  -----         \n",
      " 0   Submission Date                  27144 non-null  object        \n",
      " 1   UF                               27447 non-null  object        \n",
      " 2   Cidade                           27446 non-null  object        \n",
      " 3   Dano                             20988 non-null  object        \n",
      " 4   Violência                        21026 non-null  object        \n",
      " 5   Tipificação                      27116 non-null  object        \n",
      " 6   Vítima                           27446 non-null  object        \n",
      " 7   Gênero da vítima 1               24989 non-null  object        \n",
      " 8   Gênero da vítima 2               2408 non-null   object        \n",
      " 9   Gênero da vítima 3               701 non-null    object        \n",
      " 10  Escolaridade da vítima 3         96 non-null     object        \n",
      " 11  Escolaridade da vítima 2         384 non-null    object        \n",
      " 12  Escolaridade da vítima 1         3421 non-null   object        \n",
      " 13  Escolaridade do agressor 3       15 non-null     object        \n",
      " 14  Escolaridade do agressor 2       39 non-null     object        \n",
      " 15  Escolaridade do agressor 1       82 non-null     object        \n",
      " 16  Data da denúncia                 27447 non-null  datetime64[ns]\n",
      " 17  Orientação sexual da vítima 1    314 non-null    object        \n",
      " 18  Orientação sexual da vítima 2    2 non-null      object        \n",
      " 19  Orientação sexual da vítima 3    2 non-null      object        \n",
      " 20  Idade da vítima 1                24707 non-null  object        \n",
      " 21  Idade da vítima 2                2365 non-null   object        \n",
      " 22  Idade da vítima 3                688 non-null    float64       \n",
      " 23  Raça/cor da vítima 1             22205 non-null  object        \n",
      " 24  Raça/cor da vítima 2             2245 non-null   object        \n",
      " 25  Raça/cor da vítima 3             877 non-null    object        \n",
      " 26  Religião da vítima 1             20 non-null     object        \n",
      " 27  Religião da vítima 2             2 non-null      object        \n",
      " 28  Religião da vítima 3             2 non-null      object        \n",
      " 29  Agressor 1                       24078 non-null  object        \n",
      " 30  Gênero do agressor 1             13829 non-null  object        \n",
      " 31  Gênero do agressor 2             1172 non-null   object        \n",
      " 32  Gênero do agressor 3             556 non-null    object        \n",
      " 33  Orientação sexual do agressor 1  309 non-null    object        \n",
      " 34  Orientação sexual do agressor 2  0 non-null      object        \n",
      " 35  Orientação sexual do agressor 3  0 non-null      float64       \n",
      " 36  Idade do agressor 1              2256 non-null   object        \n",
      " 37  Idade do agressor 2              769 non-null    object        \n",
      " 38  Idade do agressor 3              388 non-null    object        \n",
      " 39  Raça/cor do agressor 1           12664 non-null  object        \n",
      " 40  Raça/cor do agressor 2           1255 non-null   object        \n",
      " 41  Raça/cor do agressor 3           768 non-null    object        \n",
      " 42  Religião do agressor 1           15 non-null     object        \n",
      " 43  Religião do agressor 2           1 non-null      object        \n",
      " 44  Religião do agressor 3           2 non-null      object        \n",
      " 45  Encaminhamentos                  89 non-null     object        \n",
      " 46  Resumo                           34 non-null     object        \n",
      " 47  Observações                      27262 non-null  object        \n",
      " 48  Unnamed: 0                       27015 non-null  float64       \n",
      " 49  Submission.Date                  303 non-null    object        \n",
      "dtypes: datetime64[ns](1), float64(3), object(46)\n",
      "memory usage: 10.7+ MB\n"
     ]
    }
   ],
   "source": [
    "dados.info()"
   ]
  },
  {
   "cell_type": "markdown",
   "id": "71351b85",
   "metadata": {},
   "source": [
    "Tirando os dados nulos de data e indeferidos de Tipificação"
   ]
  },
  {
   "cell_type": "code",
   "execution_count": 80,
   "id": "8984face",
   "metadata": {},
   "outputs": [],
   "source": [
    "dados = pd.DataFrame(dados.dropna(subset=['Data da denúncia']))"
   ]
  },
  {
   "cell_type": "code",
   "execution_count": 81,
   "id": "9fdc0666",
   "metadata": {},
   "outputs": [],
   "source": [
    "dados = pd.DataFrame(dados.loc[dados['Tipificação'] != 'Indeferido'])"
   ]
  },
  {
   "cell_type": "markdown",
   "id": "84cc8941",
   "metadata": {},
   "source": [
    "Transformando a data em formato data"
   ]
  },
  {
   "cell_type": "code",
   "execution_count": 83,
   "id": "c4acd067",
   "metadata": {},
   "outputs": [],
   "source": [
    "dados['Data da denúncia'] = pd.to_datetime(dados['Data da denúncia'])"
   ]
  },
  {
   "cell_type": "code",
   "execution_count": 84,
   "id": "a304e5e7",
   "metadata": {},
   "outputs": [],
   "source": [
    "# Criando uma variavel mês\n",
    "dados['Mês'] = dados['Data da denúncia'].dt.month"
   ]
  },
  {
   "cell_type": "markdown",
   "id": "e3f688ba",
   "metadata": {},
   "source": [
    "Colocando todas cidade em letra minuscula"
   ]
  },
  {
   "cell_type": "code",
   "execution_count": 85,
   "id": "6fd7dcd6",
   "metadata": {},
   "outputs": [],
   "source": [
    "dados['Cidade'] = dados['Cidade'].str.lower()"
   ]
  },
  {
   "cell_type": "markdown",
   "id": "f12f8726",
   "metadata": {},
   "source": [
    "Transformando os dados não identificado e sem informação para ignorado"
   ]
  },
  {
   "cell_type": "code",
   "execution_count": 90,
   "id": "c4587b5e",
   "metadata": {},
   "outputs": [],
   "source": [
    "dados.fillna('Ignorado', inplace=True)\n",
    "dados.replace('NAO IDENTIFICADO', 'Ignorado', inplace=True)\n",
    "dados.replace('Sem Informação', 'ignorado', inplace=True)\n",
    "dados.replace('Indeterminado', 'Ignorado', inplace=True)\n",
    "dados.replace('Não Informado', 'Ignorado', inplace=True)\n",
    "dados.replace('ignorado', 'Ignorado', inplace=True)\n",
    "dados.replace('Preenchimento Opcional', 'Ignorado', inplace=True)\n",
    "dados.replace('sem informação', 'ignorado', inplace=True)"
   ]
  },
  {
   "cell_type": "markdown",
   "id": "847085fd",
   "metadata": {},
   "source": [
    "Transformando os dados de escolaridade em minusculo e renomeado os dados"
   ]
  },
  {
   "cell_type": "code",
   "execution_count": 92,
   "id": "59a7fe63",
   "metadata": {},
   "outputs": [],
   "source": [
    "dados['Escolaridade da vítima 1'] = dados['Escolaridade da vítima 1'].str.lower()"
   ]
  },
  {
   "cell_type": "code",
   "execution_count": 93,
   "id": "8738a1e1",
   "metadata": {},
   "outputs": [],
   "source": [
    "dados['Escolaridade da vítima 1'].replace('2º grau completo', 'ensino médio completo', inplace=True)\n",
    "dados['Escolaridade da vítima 1'].replace('ensino médio', 'ensino médio completo', inplace=True)\n",
    "dados['Escolaridade da vítima 1'].replace('1º grau completo', 'ensino fundamental completo', inplace=True)\n",
    "dados['Escolaridade da vítima 1'].replace('1º grau completo', 'ensino fundamental completo', inplace=True)\n",
    "dados['Escolaridade da vítima 1'].replace('ensino fundamental', 'ensino fundamental completo', inplace=True)"
   ]
  },
  {
   "cell_type": "markdown",
   "id": "b7ffb741",
   "metadata": {},
   "source": [
    "Transformando os dados de raça em minusculo e renomeado os dados"
   ]
  },
  {
   "cell_type": "code",
   "execution_count": 94,
   "id": "2ff7a0bc",
   "metadata": {},
   "outputs": [],
   "source": [
    "dados['Raça/cor da vítima 1'] = dados['Raça/cor da vítima 1'].str.lower()"
   ]
  },
  {
   "cell_type": "code",
   "execution_count": 95,
   "id": "8cf9af25",
   "metadata": {},
   "outputs": [],
   "source": [
    "dados['Raça/cor da vítima 1'].replace('não informada', 'ignorado', inplace=True)\n",
    "dados['Raça/cor da vítima 1'].replace('ni', 'ignorado', inplace=True)"
   ]
  },
  {
   "cell_type": "code",
   "execution_count": 96,
   "id": "85d6bfbd",
   "metadata": {},
   "outputs": [],
   "source": [
    "dados['Raça/cor da vítima 1'].replace('parda', 'negra', inplace=True)\n",
    "dados['Raça/cor da vítima 1'].replace('parda (negra)', 'negra', inplace=True)\n",
    "dados['Raça/cor da vítima 1'].replace('preta (negra)', 'negra', inplace=True)\n",
    "dados['Raça/cor da vítima 1'].replace('preta', 'negra', inplace=True)\n",
    "dados['Raça/cor da vítima 1'].replace('branco', 'branca', inplace=True)\n",
    "dados['Raça/cor da vítima 1'].replace('asiática (amarela)', 'amarela', inplace=True)\n",
    "dados['Raça/cor da vítima 1'].replace('outros', 'ignorado', inplace=True)"
   ]
  },
  {
   "cell_type": "code",
   "execution_count": 99,
   "id": "3fb3b96e",
   "metadata": {},
   "outputs": [],
   "source": [
    "#Excluindo colunas\n",
    "dados.drop(['Unnamed: 0', 'Submission.Date'], axis=1, inplace=True)"
   ]
  },
  {
   "cell_type": "code",
   "execution_count": 100,
   "id": "7585081f",
   "metadata": {
    "collapsed": true
   },
   "outputs": [
    {
     "name": "stdout",
     "output_type": "stream",
     "text": [
      "<class 'pandas.core.frame.DataFrame'>\n",
      "Int64Index: 27447 entries, 132 to 2736\n",
      "Data columns (total 49 columns):\n",
      " #   Column                           Non-Null Count  Dtype         \n",
      "---  ------                           --------------  -----         \n",
      " 0   Submission Date                  27447 non-null  object        \n",
      " 1   UF                               27447 non-null  object        \n",
      " 2   Cidade                           27447 non-null  object        \n",
      " 3   Dano                             27447 non-null  object        \n",
      " 4   Violência                        27447 non-null  object        \n",
      " 5   Tipificação                      27447 non-null  object        \n",
      " 6   Vítima                           27447 non-null  object        \n",
      " 7   Gênero da vítima 1               27447 non-null  object        \n",
      " 8   Gênero da vítima 2               27447 non-null  object        \n",
      " 9   Gênero da vítima 3               27447 non-null  object        \n",
      " 10  Escolaridade da vítima 3         27447 non-null  object        \n",
      " 11  Escolaridade da vítima 2         27447 non-null  object        \n",
      " 12  Escolaridade da vítima 1         27447 non-null  object        \n",
      " 13  Escolaridade do agressor 3       27447 non-null  object        \n",
      " 14  Escolaridade do agressor 2       27447 non-null  object        \n",
      " 15  Escolaridade do agressor 1       27447 non-null  object        \n",
      " 16  Data da denúncia                 27447 non-null  datetime64[ns]\n",
      " 17  Orientação sexual da vítima 1    27447 non-null  object        \n",
      " 18  Orientação sexual da vítima 2    27447 non-null  object        \n",
      " 19  Orientação sexual da vítima 3    27447 non-null  object        \n",
      " 20  Idade da vítima 1                27447 non-null  object        \n",
      " 21  Idade da vítima 2                27447 non-null  object        \n",
      " 22  Idade da vítima 3                27447 non-null  object        \n",
      " 23  Raça/cor da vítima 1             27447 non-null  object        \n",
      " 24  Raça/cor da vítima 2             27447 non-null  object        \n",
      " 25  Raça/cor da vítima 3             27447 non-null  object        \n",
      " 26  Religião da vítima 1             27447 non-null  object        \n",
      " 27  Religião da vítima 2             27447 non-null  object        \n",
      " 28  Religião da vítima 3             27447 non-null  object        \n",
      " 29  Agressor 1                       27447 non-null  object        \n",
      " 30  Gênero do agressor 1             27447 non-null  object        \n",
      " 31  Gênero do agressor 2             27447 non-null  object        \n",
      " 32  Gênero do agressor 3             27447 non-null  object        \n",
      " 33  Orientação sexual do agressor 1  27447 non-null  object        \n",
      " 34  Orientação sexual do agressor 2  27447 non-null  object        \n",
      " 35  Orientação sexual do agressor 3  27447 non-null  object        \n",
      " 36  Idade do agressor 1              27447 non-null  object        \n",
      " 37  Idade do agressor 2              27447 non-null  object        \n",
      " 38  Idade do agressor 3              27447 non-null  object        \n",
      " 39  Raça/cor do agressor 1           27447 non-null  object        \n",
      " 40  Raça/cor do agressor 2           27447 non-null  object        \n",
      " 41  Raça/cor do agressor 3           27447 non-null  object        \n",
      " 42  Religião do agressor 1           27447 non-null  object        \n",
      " 43  Religião do agressor 2           27447 non-null  object        \n",
      " 44  Religião do agressor 3           27447 non-null  object        \n",
      " 45  Encaminhamentos                  27447 non-null  object        \n",
      " 46  Resumo                           27447 non-null  object        \n",
      " 47  Observações                      27447 non-null  object        \n",
      " 48  Mês                              27447 non-null  int64         \n",
      "dtypes: datetime64[ns](1), int64(1), object(47)\n",
      "memory usage: 10.5+ MB\n"
     ]
    }
   ],
   "source": [
    "dados.info()"
   ]
  },
  {
   "cell_type": "code",
   "execution_count": 101,
   "id": "e952fb4e",
   "metadata": {},
   "outputs": [],
   "source": [
    "dados.to_csv('dados_intolerancia_limpo.csv',encoding='utf-8-sig', index=False)"
   ]
  }
 ],
 "metadata": {
  "kernelspec": {
   "display_name": "Python 3",
   "language": "python",
   "name": "python3"
  },
  "language_info": {
   "codemirror_mode": {
    "name": "ipython",
    "version": 3
   },
   "file_extension": ".py",
   "mimetype": "text/x-python",
   "name": "python",
   "nbconvert_exporter": "python",
   "pygments_lexer": "ipython3",
   "version": "3.8.10"
  }
 },
 "nbformat": 4,
 "nbformat_minor": 5
}
