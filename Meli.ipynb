{
 "cells": [
  {
   "cell_type": "code",
   "execution_count": 3,
   "metadata": {
    "colab": {
     "base_uri": "https://localhost:8080/",
     "height": 34
    },
    "colab_type": "code",
    "id": "jcGdcr3q0119",
    "outputId": "ebde6377-3e3a-43f5-a8e2-d365d684c049"
   },
   "outputs": [],
   "source": [
    "import pandas as pd\n",
    "from datetime import datetime\n",
    "\n",
    "import sys\n",
    "sys.path.insert(1, './automation_modules')\n",
    "\n",
    "import automated_import as ai\n",
    "import automated_report_googlesheets as arg\n",
    "\n"
   ]
  },
  {
   "cell_type": "code",
   "execution_count": 4,
   "metadata": {},
   "outputs": [],
   "source": [
    "now = datetime.now()"
   ]
  },
  {
   "cell_type": "code",
   "execution_count": 5,
   "metadata": {},
   "outputs": [
    {
     "name": "stderr",
     "output_type": "stream",
     "text": [
      "\n",
      "\n",
      "====== WebDriver manager ======\n",
      "Current google-chrome version is 101.0.4951\n",
      "Get LATEST chromedriver version for 101.0.4951 google-chrome\n",
      "Trying to download new driver from https://chromedriver.storage.googleapis.com/101.0.4951.41/chromedriver_win32.zip\n",
      "Driver has been saved in cache [C:\\Users\\Saman\\.wdm\\drivers\\chromedriver\\win32\\101.0.4951.41]\n"
     ]
    }
   ],
   "source": [
    "driver = ai.install_browser()"
   ]
  },
  {
   "cell_type": "markdown",
   "metadata": {},
   "source": [
    "### Login"
   ]
  },
  {
   "cell_type": "code",
   "execution_count": 6,
   "metadata": {},
   "outputs": [],
   "source": [
    "ai.login('loreal', 'samantha.reis@tetris.co', 'GwNi&95e%GHw')"
   ]
  },
  {
   "cell_type": "markdown",
   "metadata": {},
   "source": [
    "### Excluir import anterior"
   ]
  },
  {
   "cell_type": "code",
   "execution_count": 7,
   "metadata": {},
   "outputs": [
    {
     "name": "stdout",
     "output_type": "stream",
     "text": [
      "alerta aceito\n"
     ]
    }
   ],
   "source": [
    "ai.delete_file('loreal', \"Report_Meli_2022.csv\")"
   ]
  },
  {
   "cell_type": "markdown",
   "metadata": {},
   "source": [
    "### Obtendo dados do sheets"
   ]
  },
  {
   "cell_type": "code",
   "execution_count": 19,
   "metadata": {},
   "outputs": [
    {
     "name": "stdout",
     "output_type": "stream",
     "text": [
      "COMPLETE: Data copied\n"
     ]
    }
   ],
   "source": [
    "#Extrai dados de toda a guia da planilha.\n",
    "RANGE_NAME = '1l6-3MFGsPz2fvO7MnN-FukDf1lbcuz-fpu6bZgXQshc'\n",
    "\n",
    "SCOPES = ['https://www.googleapis.com/auth/spreadsheets']\n",
    "SPREADSHEET_ID = '1l6-3MFGsPz2fvO7MnN-FukDf1lbcuz-fpu6bZgXQshc'\n",
    "RANGE_NAME = 'Página1'\n",
    "data = arg.pull_sheet_data(SCOPES,SPREADSHEET_ID,RANGE_NAME)\n"
   ]
  },
  {
   "cell_type": "code",
   "execution_count": 20,
   "metadata": {},
   "outputs": [],
   "source": [
    "df = pd.DataFrame(data[1:], columns=data[0])"
   ]
  },
  {
   "cell_type": "code",
   "execution_count": 21,
   "metadata": {
    "collapsed": true
   },
   "outputs": [
    {
     "name": "stdout",
     "output_type": "stream",
     "text": [
      "<class 'pandas.core.frame.DataFrame'>\n",
      "RangeIndex: 79 entries, 0 to 78\n",
      "Data columns (total 26 columns):\n",
      " #   Column        Non-Null Count  Dtype \n",
      "---  ------        --------------  ----- \n",
      " 0   Datadeinicio  79 non-null     object\n",
      " 1   Datadefim     79 non-null     object\n",
      " 2   Mês           79 non-null     object\n",
      " 3   Divisão       79 non-null     object\n",
      " 4   Cliente       79 non-null     object\n",
      " 5   Marca         79 non-null     object\n",
      " 6   Share         79 non-null     object\n",
      " 7   CustId        79 non-null     object\n",
      " 8   Tipo          79 non-null     object\n",
      " 9   Verba         79 non-null     object\n",
      " 10  Formato       79 non-null     object\n",
      " 11  Status        79 non-null     object\n",
      " 12  Planejado     79 non-null     object\n",
      " 13  Consumido     79 non-null     object\n",
      " 14  Atingimento   79 non-null     object\n",
      " 15  Saldo         79 non-null     object\n",
      " 16  Impressões    79 non-null     object\n",
      " 17  Cliques       79 non-null     object\n",
      " 18  Vendas        79 non-null     object\n",
      " 19  Receita       79 non-null     object\n",
      " 20  Tx.Conv.      68 non-null     object\n",
      " 21  ROAS          68 non-null     object\n",
      " 22  ACOS          68 non-null     object\n",
      " 23  ACOSMETA      68 non-null     object\n",
      " 24  MédiaDia      68 non-null     object\n",
      " 25  Forecast      59 non-null     object\n",
      "dtypes: object(26)\n",
      "memory usage: 16.2+ KB\n"
     ]
    }
   ],
   "source": [
    "df.info()"
   ]
  },
  {
   "cell_type": "markdown",
   "metadata": {},
   "source": [
    "## Salvar backup diário Report_Meli"
   ]
  },
  {
   "cell_type": "code",
   "execution_count": 22,
   "metadata": {},
   "outputs": [],
   "source": [
    "#hoje = datetime.datetime.strftime(datetime.date.today(),\"%Y-%m-%d\")\n",
    "#hora = datetime.datetime.strftime(datetime.(),\"%h-%m-%s\")\n",
    "datatime = now.strftime(\"%Y-%m-%d_%H-%M-%S\")\n",
    "df.to_excel('./Report_Meli_' + datatime + '.xlsx', index=False)"
   ]
  },
  {
   "cell_type": "markdown",
   "metadata": {},
   "source": [
    "## Tratamento do arquivo para import"
   ]
  },
  {
   "cell_type": "code",
   "execution_count": 23,
   "metadata": {
    "collapsed": true
   },
   "outputs": [
    {
     "data": {
      "text/html": [
       "<div>\n",
       "<style scoped>\n",
       "    .dataframe tbody tr th:only-of-type {\n",
       "        vertical-align: middle;\n",
       "    }\n",
       "\n",
       "    .dataframe tbody tr th {\n",
       "        vertical-align: top;\n",
       "    }\n",
       "\n",
       "    .dataframe thead th {\n",
       "        text-align: right;\n",
       "    }\n",
       "</style>\n",
       "<table border=\"1\" class=\"dataframe\">\n",
       "  <thead>\n",
       "    <tr style=\"text-align: right;\">\n",
       "      <th></th>\n",
       "      <th>Datadeinicio</th>\n",
       "      <th>Datadefim</th>\n",
       "      <th>Divisão</th>\n",
       "      <th>Marca</th>\n",
       "      <th>Formato</th>\n",
       "      <th>Planejado</th>\n",
       "      <th>Consumido</th>\n",
       "      <th>Impressões</th>\n",
       "      <th>Cliques</th>\n",
       "      <th>Vendas</th>\n",
       "      <th>Receita</th>\n",
       "      <th>Campanha Odash</th>\n",
       "      <th>Veiculo</th>\n",
       "    </tr>\n",
       "  </thead>\n",
       "  <tbody>\n",
       "    <tr>\n",
       "      <th>0</th>\n",
       "      <td>01/01/2022</td>\n",
       "      <td>31/01/2022</td>\n",
       "      <td>LorealDCA</td>\n",
       "      <td>CERAVE | CVE</td>\n",
       "      <td>Pads</td>\n",
       "      <td>R$41.933,60</td>\n",
       "      <td>R$37.636,32</td>\n",
       "      <td>15.543.267</td>\n",
       "      <td>13.388</td>\n",
       "      <td>1.750</td>\n",
       "      <td>151.481</td>\n",
       "      <td>MERCADO LIVRE - PERF - CERAVE | CVE</td>\n",
       "      <td>MELI</td>\n",
       "    </tr>\n",
       "    <tr>\n",
       "      <th>1</th>\n",
       "      <td>01/01/2022</td>\n",
       "      <td>31/01/2022</td>\n",
       "      <td>LorealDCA</td>\n",
       "      <td>LA ROCHE POSAY | LRP</td>\n",
       "      <td>Pads</td>\n",
       "      <td>R$78.301,20</td>\n",
       "      <td>R$70.277,03</td>\n",
       "      <td>29.023.419</td>\n",
       "      <td>24.999</td>\n",
       "      <td>3.267</td>\n",
       "      <td>282.856</td>\n",
       "      <td>MERCADO LIVRE - PERF - LA ROCHE POSAY | LRP</td>\n",
       "      <td>MELI</td>\n",
       "    </tr>\n",
       "    <tr>\n",
       "      <th>2</th>\n",
       "      <td>01/01/2022</td>\n",
       "      <td>31/01/2022</td>\n",
       "      <td>LorealDCA</td>\n",
       "      <td>VICHY | VIC</td>\n",
       "      <td>Pads</td>\n",
       "      <td>R$63.765,20</td>\n",
       "      <td>R$57.230,65</td>\n",
       "      <td>23.635.450</td>\n",
       "      <td>20.358</td>\n",
       "      <td>2.660</td>\n",
       "      <td>230.346</td>\n",
       "      <td>MERCADO LIVRE - PERF - VICHY | VIC</td>\n",
       "      <td>MELI</td>\n",
       "    </tr>\n",
       "    <tr>\n",
       "      <th>3</th>\n",
       "      <td>01/01/2022</td>\n",
       "      <td>31/01/2022</td>\n",
       "      <td>LorealDPGP</td>\n",
       "      <td>L'ORÉAL PARIS DERMO | OAP</td>\n",
       "      <td>Pads</td>\n",
       "      <td>R$26.315,83</td>\n",
       "      <td>R$26.507,94</td>\n",
       "      <td>4.794.921</td>\n",
       "      <td>20.824</td>\n",
       "      <td>3.116</td>\n",
       "      <td>85.065</td>\n",
       "      <td>MERCADO LIVRE - PERF - L'ORÉAL PARIS DERMO | OAP</td>\n",
       "      <td>MELI</td>\n",
       "    </tr>\n",
       "    <tr>\n",
       "      <th>4</th>\n",
       "      <td>01/01/2022</td>\n",
       "      <td>31/01/2022</td>\n",
       "      <td>LorealDPGP</td>\n",
       "      <td>GARNIER | GAR</td>\n",
       "      <td>Pads</td>\n",
       "      <td>R$10.526,34</td>\n",
       "      <td>R$10.603,18</td>\n",
       "      <td>1.917.969</td>\n",
       "      <td>8.330</td>\n",
       "      <td>1.246</td>\n",
       "      <td>34.026</td>\n",
       "      <td>MERCADO LIVRE - PERF - GARNIER | GAR</td>\n",
       "      <td>MELI</td>\n",
       "    </tr>\n",
       "    <tr>\n",
       "      <th>...</th>\n",
       "      <td>...</td>\n",
       "      <td>...</td>\n",
       "      <td>...</td>\n",
       "      <td>...</td>\n",
       "      <td>...</td>\n",
       "      <td>...</td>\n",
       "      <td>...</td>\n",
       "      <td>...</td>\n",
       "      <td>...</td>\n",
       "      <td>...</td>\n",
       "      <td>...</td>\n",
       "      <td>...</td>\n",
       "      <td>...</td>\n",
       "    </tr>\n",
       "    <tr>\n",
       "      <th>74</th>\n",
       "      <td>01/04/2022</td>\n",
       "      <td>01/05/2022</td>\n",
       "      <td>LorealDCA</td>\n",
       "      <td>VICHY | VIC</td>\n",
       "      <td>Pads</td>\n",
       "      <td>R$ 15.000,00</td>\n",
       "      <td>R$ 15.888,00</td>\n",
       "      <td>2.798.336</td>\n",
       "      <td>4.641</td>\n",
       "      <td>706</td>\n",
       "      <td>61.990</td>\n",
       "      <td>MERCADO LIVRE - PERF - VICHY | VIC</td>\n",
       "      <td>MELI</td>\n",
       "    </tr>\n",
       "    <tr>\n",
       "      <th>75</th>\n",
       "      <td>01/04/2022</td>\n",
       "      <td>01/05/2022</td>\n",
       "      <td>LorealDCA</td>\n",
       "      <td>CERAVE | CVE</td>\n",
       "      <td>Pads</td>\n",
       "      <td>R$ 72.000,00</td>\n",
       "      <td>R$ 76.262,40</td>\n",
       "      <td>13.432.010</td>\n",
       "      <td>22.274</td>\n",
       "      <td>3.391</td>\n",
       "      <td>297.552</td>\n",
       "      <td>MERCADO LIVRE - PERF - CERAVE | CVE</td>\n",
       "      <td>MELI</td>\n",
       "    </tr>\n",
       "    <tr>\n",
       "      <th>76</th>\n",
       "      <td>01/04/2022</td>\n",
       "      <td>01/05/2022</td>\n",
       "      <td>LorealDCA</td>\n",
       "      <td>LA ROCHE POSAY | LRP</td>\n",
       "      <td>Pads</td>\n",
       "      <td>R$ 63.000,00</td>\n",
       "      <td>R$ 66.729,60</td>\n",
       "      <td>11.753.009</td>\n",
       "      <td>19.490</td>\n",
       "      <td>2.967</td>\n",
       "      <td>260.358</td>\n",
       "      <td>MERCADO LIVRE - PERF - LA ROCHE POSAY | LRP</td>\n",
       "      <td>MELI</td>\n",
       "    </tr>\n",
       "    <tr>\n",
       "      <th>77</th>\n",
       "      <td>01/04/2022</td>\n",
       "      <td>01/05/2022</td>\n",
       "      <td>LorealPro</td>\n",
       "      <td>L'ORÉAL PROFESSIONNEL | PRO</td>\n",
       "      <td>Pads</td>\n",
       "      <td>R$ 65.000,00</td>\n",
       "      <td>R$ 27.848,00</td>\n",
       "      <td>4.292.134</td>\n",
       "      <td>8.340</td>\n",
       "      <td>675</td>\n",
       "      <td>81.663</td>\n",
       "      <td>MERCADO LIVRE - PERF - L'ORÉAL PROFESSIONNEL |...</td>\n",
       "      <td>MELI</td>\n",
       "    </tr>\n",
       "    <tr>\n",
       "      <th>78</th>\n",
       "      <td>01/04/2022</td>\n",
       "      <td>01/05/2022</td>\n",
       "      <td>LorealRedken</td>\n",
       "      <td>REDKEN | RED</td>\n",
       "      <td>Pads</td>\n",
       "      <td>R$ 20.000,00</td>\n",
       "      <td>R$ 9.815,00</td>\n",
       "      <td>1.322.187</td>\n",
       "      <td>2.372</td>\n",
       "      <td>174</td>\n",
       "      <td>16.513</td>\n",
       "      <td>MERCADO LIVRE - PERF - REDKEN | RED</td>\n",
       "      <td>MELI</td>\n",
       "    </tr>\n",
       "  </tbody>\n",
       "</table>\n",
       "<p>79 rows × 13 columns</p>\n",
       "</div>"
      ],
      "text/plain": [
       "   Datadeinicio   Datadefim       Divisão                        Marca  \\\n",
       "0    01/01/2022  31/01/2022     LorealDCA                 CERAVE | CVE   \n",
       "1    01/01/2022  31/01/2022     LorealDCA         LA ROCHE POSAY | LRP   \n",
       "2    01/01/2022  31/01/2022     LorealDCA                  VICHY | VIC   \n",
       "3    01/01/2022  31/01/2022    LorealDPGP    L'ORÉAL PARIS DERMO | OAP   \n",
       "4    01/01/2022  31/01/2022    LorealDPGP                GARNIER | GAR   \n",
       "..          ...         ...           ...                          ...   \n",
       "74   01/04/2022  01/05/2022     LorealDCA                  VICHY | VIC   \n",
       "75   01/04/2022  01/05/2022     LorealDCA                 CERAVE | CVE   \n",
       "76   01/04/2022  01/05/2022     LorealDCA         LA ROCHE POSAY | LRP   \n",
       "77   01/04/2022  01/05/2022     LorealPro  L'ORÉAL PROFESSIONNEL | PRO   \n",
       "78   01/04/2022  01/05/2022  LorealRedken                 REDKEN | RED   \n",
       "\n",
       "   Formato     Planejado     Consumido  Impressões Cliques Vendas  Receita  \\\n",
       "0     Pads   R$41.933,60   R$37.636,32  15.543.267  13.388  1.750  151.481   \n",
       "1     Pads   R$78.301,20   R$70.277,03  29.023.419  24.999  3.267  282.856   \n",
       "2     Pads   R$63.765,20   R$57.230,65  23.635.450  20.358  2.660  230.346   \n",
       "3     Pads   R$26.315,83   R$26.507,94   4.794.921  20.824  3.116   85.065   \n",
       "4     Pads   R$10.526,34   R$10.603,18   1.917.969   8.330  1.246   34.026   \n",
       "..     ...           ...           ...         ...     ...    ...      ...   \n",
       "74    Pads  R$ 15.000,00  R$ 15.888,00   2.798.336   4.641    706   61.990   \n",
       "75    Pads  R$ 72.000,00  R$ 76.262,40  13.432.010  22.274  3.391  297.552   \n",
       "76    Pads  R$ 63.000,00  R$ 66.729,60  11.753.009  19.490  2.967  260.358   \n",
       "77    Pads  R$ 65.000,00  R$ 27.848,00   4.292.134   8.340    675   81.663   \n",
       "78    Pads  R$ 20.000,00   R$ 9.815,00   1.322.187   2.372    174   16.513   \n",
       "\n",
       "                                       Campanha Odash Veiculo  \n",
       "0                 MERCADO LIVRE - PERF - CERAVE | CVE    MELI  \n",
       "1         MERCADO LIVRE - PERF - LA ROCHE POSAY | LRP    MELI  \n",
       "2                  MERCADO LIVRE - PERF - VICHY | VIC    MELI  \n",
       "3    MERCADO LIVRE - PERF - L'ORÉAL PARIS DERMO | OAP    MELI  \n",
       "4                MERCADO LIVRE - PERF - GARNIER | GAR    MELI  \n",
       "..                                                ...     ...  \n",
       "74                 MERCADO LIVRE - PERF - VICHY | VIC    MELI  \n",
       "75                MERCADO LIVRE - PERF - CERAVE | CVE    MELI  \n",
       "76        MERCADO LIVRE - PERF - LA ROCHE POSAY | LRP    MELI  \n",
       "77  MERCADO LIVRE - PERF - L'ORÉAL PROFESSIONNEL |...    MELI  \n",
       "78                MERCADO LIVRE - PERF - REDKEN | RED    MELI  \n",
       "\n",
       "[79 rows x 13 columns]"
      ]
     },
     "execution_count": 23,
     "metadata": {},
     "output_type": "execute_result"
    }
   ],
   "source": [
    "#Criar coluna do tipo (Performance ou Awareness)\n",
    "import numpy as np\n",
    "df['Tipo']= np.where (df['Formato'].str.contains('Pads'),'PERF','AW')\n",
    "\n",
    "# Ajuste de nomes da marca\n",
    "\n",
    "df['Marca']=df['Marca'].str.replace(\"Cerave\",\"CERAVE | CVE\")\n",
    "df['Marca']=df['Marca'].str.replace(\"LaRochePosay\",\"LA ROCHE POSAY | LRP\")\n",
    "df['Marca']=df['Marca'].str.replace(\"Vichy\",\"VICHY | VIC\")\n",
    "df['Marca']=df['Marca'].str.replace(\"LorealParis\",\"L'ORÉAL PARIS DERMO | OAP\")\n",
    "df['Marca']=df['Marca'].str.replace(\"Garnier\",\"GARNIER | GAR\")\n",
    "df['Marca']=df['Marca'].str.replace(\"Maybelline\",\"MAYBELLINE | MNY\")\n",
    "df['Marca']=df['Marca'].str.replace(\"Elseve\",\"L'ORÉAL PARIS ELSEVE | OAP\")\n",
    "df['Marca']=df['Marca'].str.replace(\"LorealRedken\",\"REDKEN | RED\")\n",
    "df['Marca']=df['Marca'].str.replace(\"LorealPro\",\"L'ORÉAL PROFESSIONNEL | PRO\")\n",
    "\n",
    "#Criar coluna Campanha Odash\n",
    "df['Campanha Odash']= 'MERCADO LIVRE - ' + df['Tipo']+' - '+ df['Marca']\n",
    "\n",
    "#Criar coluna Veículo\n",
    "df['Veiculo']= 'MELI'\n",
    "\n",
    "#Remover R$\n",
    "#df['Consumido']=df['Consumido'].str.slice_replace(stop=2, repl='')\n",
    "\n",
    "\n",
    "#Deletar colunas\n",
    "df=df.drop(columns=['Mês','Cliente','Share','CustId','Tipo','Verba','Status','Atingimento','Saldo',\n",
    "                'Tx.Conv.','ROAS','ACOS','ACOSMETA','MédiaDia','Forecast'])\n",
    "\n",
    "df\n"
   ]
  },
  {
   "cell_type": "code",
   "execution_count": 28,
   "metadata": {},
   "outputs": [],
   "source": [
    "df2 = df"
   ]
  },
  {
   "cell_type": "code",
   "execution_count": 29,
   "metadata": {
    "collapsed": true
   },
   "outputs": [
    {
     "ename": "AttributeError",
     "evalue": "Can only use .str accessor with string values!",
     "output_type": "error",
     "traceback": [
      "\u001b[1;31m---------------------------------------------------------------------------\u001b[0m",
      "\u001b[1;31mAttributeError\u001b[0m                            Traceback (most recent call last)",
      "\u001b[1;32m<ipython-input-29-f38ddfdf1aaf>\u001b[0m in \u001b[0;36m<module>\u001b[1;34m\u001b[0m\n\u001b[1;32m----> 1\u001b[1;33m \u001b[0mdf2\u001b[0m\u001b[1;33m[\u001b[0m\u001b[1;34m'Consumido'\u001b[0m\u001b[1;33m]\u001b[0m\u001b[1;33m=\u001b[0m\u001b[0mdf2\u001b[0m\u001b[1;33m[\u001b[0m\u001b[1;34m'Consumido'\u001b[0m\u001b[1;33m]\u001b[0m\u001b[1;33m.\u001b[0m\u001b[0mstr\u001b[0m\u001b[1;33m.\u001b[0m\u001b[0mslice_replace\u001b[0m\u001b[1;33m(\u001b[0m\u001b[0mstop\u001b[0m\u001b[1;33m=\u001b[0m\u001b[1;36m2\u001b[0m\u001b[1;33m,\u001b[0m \u001b[0mrepl\u001b[0m\u001b[1;33m=\u001b[0m\u001b[1;34m''\u001b[0m\u001b[1;33m)\u001b[0m\u001b[1;33m\u001b[0m\u001b[1;33m\u001b[0m\u001b[0m\n\u001b[0m",
      "\u001b[1;32m~\\anaconda3\\envs\\Data_Labe\\lib\\site-packages\\pandas\\core\\generic.py\u001b[0m in \u001b[0;36m__getattr__\u001b[1;34m(self, name)\u001b[0m\n\u001b[0;32m   5459\u001b[0m             \u001b[1;32mor\u001b[0m \u001b[0mname\u001b[0m \u001b[1;32min\u001b[0m \u001b[0mself\u001b[0m\u001b[1;33m.\u001b[0m\u001b[0m_accessors\u001b[0m\u001b[1;33m\u001b[0m\u001b[1;33m\u001b[0m\u001b[0m\n\u001b[0;32m   5460\u001b[0m         ):\n\u001b[1;32m-> 5461\u001b[1;33m             \u001b[1;32mreturn\u001b[0m \u001b[0mobject\u001b[0m\u001b[1;33m.\u001b[0m\u001b[0m__getattribute__\u001b[0m\u001b[1;33m(\u001b[0m\u001b[0mself\u001b[0m\u001b[1;33m,\u001b[0m \u001b[0mname\u001b[0m\u001b[1;33m)\u001b[0m\u001b[1;33m\u001b[0m\u001b[1;33m\u001b[0m\u001b[0m\n\u001b[0m\u001b[0;32m   5462\u001b[0m         \u001b[1;32melse\u001b[0m\u001b[1;33m:\u001b[0m\u001b[1;33m\u001b[0m\u001b[1;33m\u001b[0m\u001b[0m\n\u001b[0;32m   5463\u001b[0m             \u001b[1;32mif\u001b[0m \u001b[0mself\u001b[0m\u001b[1;33m.\u001b[0m\u001b[0m_info_axis\u001b[0m\u001b[1;33m.\u001b[0m\u001b[0m_can_hold_identifiers_and_holds_name\u001b[0m\u001b[1;33m(\u001b[0m\u001b[0mname\u001b[0m\u001b[1;33m)\u001b[0m\u001b[1;33m:\u001b[0m\u001b[1;33m\u001b[0m\u001b[1;33m\u001b[0m\u001b[0m\n",
      "\u001b[1;32m~\\anaconda3\\envs\\Data_Labe\\lib\\site-packages\\pandas\\core\\accessor.py\u001b[0m in \u001b[0;36m__get__\u001b[1;34m(self, obj, cls)\u001b[0m\n\u001b[0;32m    178\u001b[0m             \u001b[1;31m# we're accessing the attribute of the class, i.e., Dataset.geo\u001b[0m\u001b[1;33m\u001b[0m\u001b[1;33m\u001b[0m\u001b[1;33m\u001b[0m\u001b[0m\n\u001b[0;32m    179\u001b[0m             \u001b[1;32mreturn\u001b[0m \u001b[0mself\u001b[0m\u001b[1;33m.\u001b[0m\u001b[0m_accessor\u001b[0m\u001b[1;33m\u001b[0m\u001b[1;33m\u001b[0m\u001b[0m\n\u001b[1;32m--> 180\u001b[1;33m         \u001b[0maccessor_obj\u001b[0m \u001b[1;33m=\u001b[0m \u001b[0mself\u001b[0m\u001b[1;33m.\u001b[0m\u001b[0m_accessor\u001b[0m\u001b[1;33m(\u001b[0m\u001b[0mobj\u001b[0m\u001b[1;33m)\u001b[0m\u001b[1;33m\u001b[0m\u001b[1;33m\u001b[0m\u001b[0m\n\u001b[0m\u001b[0;32m    181\u001b[0m         \u001b[1;31m# Replace the property with the accessor object. Inspired by:\u001b[0m\u001b[1;33m\u001b[0m\u001b[1;33m\u001b[0m\u001b[1;33m\u001b[0m\u001b[0m\n\u001b[0;32m    182\u001b[0m         \u001b[1;31m# https://www.pydanny.com/cached-property.html\u001b[0m\u001b[1;33m\u001b[0m\u001b[1;33m\u001b[0m\u001b[1;33m\u001b[0m\u001b[0m\n",
      "\u001b[1;32m~\\anaconda3\\envs\\Data_Labe\\lib\\site-packages\\pandas\\core\\strings\\accessor.py\u001b[0m in \u001b[0;36m__init__\u001b[1;34m(self, data)\u001b[0m\n\u001b[0;32m    152\u001b[0m         \u001b[1;32mfrom\u001b[0m \u001b[0mpandas\u001b[0m\u001b[1;33m.\u001b[0m\u001b[0mcore\u001b[0m\u001b[1;33m.\u001b[0m\u001b[0marrays\u001b[0m\u001b[1;33m.\u001b[0m\u001b[0mstring_\u001b[0m \u001b[1;32mimport\u001b[0m \u001b[0mStringDtype\u001b[0m\u001b[1;33m\u001b[0m\u001b[1;33m\u001b[0m\u001b[0m\n\u001b[0;32m    153\u001b[0m \u001b[1;33m\u001b[0m\u001b[0m\n\u001b[1;32m--> 154\u001b[1;33m         \u001b[0mself\u001b[0m\u001b[1;33m.\u001b[0m\u001b[0m_inferred_dtype\u001b[0m \u001b[1;33m=\u001b[0m \u001b[0mself\u001b[0m\u001b[1;33m.\u001b[0m\u001b[0m_validate\u001b[0m\u001b[1;33m(\u001b[0m\u001b[0mdata\u001b[0m\u001b[1;33m)\u001b[0m\u001b[1;33m\u001b[0m\u001b[1;33m\u001b[0m\u001b[0m\n\u001b[0m\u001b[0;32m    155\u001b[0m         \u001b[0mself\u001b[0m\u001b[1;33m.\u001b[0m\u001b[0m_is_categorical\u001b[0m \u001b[1;33m=\u001b[0m \u001b[0mis_categorical_dtype\u001b[0m\u001b[1;33m(\u001b[0m\u001b[0mdata\u001b[0m\u001b[1;33m.\u001b[0m\u001b[0mdtype\u001b[0m\u001b[1;33m)\u001b[0m\u001b[1;33m\u001b[0m\u001b[1;33m\u001b[0m\u001b[0m\n\u001b[0;32m    156\u001b[0m         \u001b[0mself\u001b[0m\u001b[1;33m.\u001b[0m\u001b[0m_is_string\u001b[0m \u001b[1;33m=\u001b[0m \u001b[0misinstance\u001b[0m\u001b[1;33m(\u001b[0m\u001b[0mdata\u001b[0m\u001b[1;33m.\u001b[0m\u001b[0mdtype\u001b[0m\u001b[1;33m,\u001b[0m \u001b[0mStringDtype\u001b[0m\u001b[1;33m)\u001b[0m\u001b[1;33m\u001b[0m\u001b[1;33m\u001b[0m\u001b[0m\n",
      "\u001b[1;32m~\\anaconda3\\envs\\Data_Labe\\lib\\site-packages\\pandas\\core\\strings\\accessor.py\u001b[0m in \u001b[0;36m_validate\u001b[1;34m(data)\u001b[0m\n\u001b[0;32m    215\u001b[0m \u001b[1;33m\u001b[0m\u001b[0m\n\u001b[0;32m    216\u001b[0m         \u001b[1;32mif\u001b[0m \u001b[0minferred_dtype\u001b[0m \u001b[1;32mnot\u001b[0m \u001b[1;32min\u001b[0m \u001b[0mallowed_types\u001b[0m\u001b[1;33m:\u001b[0m\u001b[1;33m\u001b[0m\u001b[1;33m\u001b[0m\u001b[0m\n\u001b[1;32m--> 217\u001b[1;33m             \u001b[1;32mraise\u001b[0m \u001b[0mAttributeError\u001b[0m\u001b[1;33m(\u001b[0m\u001b[1;34m\"Can only use .str accessor with string values!\"\u001b[0m\u001b[1;33m)\u001b[0m\u001b[1;33m\u001b[0m\u001b[1;33m\u001b[0m\u001b[0m\n\u001b[0m\u001b[0;32m    218\u001b[0m         \u001b[1;32mreturn\u001b[0m \u001b[0minferred_dtype\u001b[0m\u001b[1;33m\u001b[0m\u001b[1;33m\u001b[0m\u001b[0m\n\u001b[0;32m    219\u001b[0m \u001b[1;33m\u001b[0m\u001b[0m\n",
      "\u001b[1;31mAttributeError\u001b[0m: Can only use .str accessor with string values!"
     ]
    }
   ],
   "source": [
    "df2['Consumido']=df2['Consumido'].str.slice_replace(stop=2, repl='')\n"
   ]
  },
  {
   "cell_type": "code",
   "execution_count": null,
   "metadata": {},
   "outputs": [],
   "source": [
    "df2['Consumido'] = df2['Consumido'].apply(lambda x: float(x.replace(\".\",\"\").replace(\",\",\".\")))\n"
   ]
  },
  {
   "cell_type": "code",
   "execution_count": null,
   "metadata": {},
   "outputs": [],
   "source": [
    "df2['Impressões'] = df2['Impressões'].apply(lambda x: int(x.replace(\".\",\"\")))\n",
    "df2['Cliques'] = df2['Cliques'].apply(lambda x: int(x.replace(\".\",\"\")))\n"
   ]
  },
  {
   "cell_type": "code",
   "execution_count": 17,
   "metadata": {
    "collapsed": true
   },
   "outputs": [
    {
     "name": "stdout",
     "output_type": "stream",
     "text": [
      "Sem divisão na marca!\n",
      "Sem divisão na marca!\n",
      "Sem divisão na marca!\n",
      "Sem divisão na marca!\n",
      "Sem divisão na marca!\n",
      "Sem divisão na marca!\n",
      "Sem divisão na marca!\n",
      "Sem divisão na marca!\n",
      "Sem divisão na marca!\n"
     ]
    }
   ],
   "source": [
    "for i in df['Marca'].unique():\n",
    "    if i == df['Divisão'].all():\n",
    "        print('Tem divisão em marca')\n",
    "    else:\n",
    "        print('Sem divisão na marca!')"
   ]
  },
  {
   "cell_type": "code",
   "execution_count": 17,
   "metadata": {},
   "outputs": [
    {
     "data": {
      "text/plain": [
       "array(['LorealDCA', 'LorealDPGP', 'LorealDPP', 'LorealPro',\n",
       "       'LorealRedken'], dtype=object)"
      ]
     },
     "execution_count": 17,
     "metadata": {},
     "output_type": "execute_result"
    }
   ],
   "source": [
    "df['Divisão'].unique()"
   ]
  },
  {
   "cell_type": "code",
   "execution_count": 13,
   "metadata": {},
   "outputs": [
    {
     "data": {
      "text/html": [
       "<div>\n",
       "<style scoped>\n",
       "    .dataframe tbody tr th:only-of-type {\n",
       "        vertical-align: middle;\n",
       "    }\n",
       "\n",
       "    .dataframe tbody tr th {\n",
       "        vertical-align: top;\n",
       "    }\n",
       "\n",
       "    .dataframe thead th {\n",
       "        text-align: right;\n",
       "    }\n",
       "</style>\n",
       "<table border=\"1\" class=\"dataframe\">\n",
       "  <thead>\n",
       "    <tr style=\"text-align: right;\">\n",
       "      <th></th>\n",
       "      <th>Datadeinicio</th>\n",
       "      <th>Datadefim</th>\n",
       "      <th>Divisão</th>\n",
       "      <th>Marca</th>\n",
       "      <th>Formato</th>\n",
       "      <th>Planejado</th>\n",
       "      <th>Consumido</th>\n",
       "      <th>Impressões</th>\n",
       "      <th>Cliques</th>\n",
       "      <th>Vendas</th>\n",
       "      <th>Receita</th>\n",
       "      <th>Campanha Odash</th>\n",
       "      <th>Veiculo</th>\n",
       "    </tr>\n",
       "  </thead>\n",
       "  <tbody>\n",
       "  </tbody>\n",
       "</table>\n",
       "</div>"
      ],
      "text/plain": [
       "Empty DataFrame\n",
       "Columns: [Datadeinicio, Datadefim, Divisão, Marca, Formato, Planejado, Consumido, Impressões, Cliques, Vendas, Receita, Campanha Odash, Veiculo]\n",
       "Index: []"
      ]
     },
     "execution_count": 13,
     "metadata": {},
     "output_type": "execute_result"
    }
   ],
   "source": [
    "df.loc[df['Marca'] == 'LorealDPP']"
   ]
  },
  {
   "cell_type": "code",
   "execution_count": 31,
   "metadata": {},
   "outputs": [],
   "source": [
    "df.drop([85,86], axis=0, inplace=True)"
   ]
  },
  {
   "cell_type": "code",
   "execution_count": 30,
   "metadata": {},
   "outputs": [
    {
     "data": {
      "text/html": [
       "<div>\n",
       "<style scoped>\n",
       "    .dataframe tbody tr th:only-of-type {\n",
       "        vertical-align: middle;\n",
       "    }\n",
       "\n",
       "    .dataframe tbody tr th {\n",
       "        vertical-align: top;\n",
       "    }\n",
       "\n",
       "    .dataframe thead th {\n",
       "        text-align: right;\n",
       "    }\n",
       "</style>\n",
       "<table border=\"1\" class=\"dataframe\">\n",
       "  <thead>\n",
       "    <tr style=\"text-align: right;\">\n",
       "      <th></th>\n",
       "      <th></th>\n",
       "      <th>Cliques</th>\n",
       "      <th>Consumido</th>\n",
       "      <th>Impressões</th>\n",
       "    </tr>\n",
       "    <tr>\n",
       "      <th>Datadeinicio</th>\n",
       "      <th>Datadefim</th>\n",
       "      <th></th>\n",
       "      <th></th>\n",
       "      <th></th>\n",
       "    </tr>\n",
       "  </thead>\n",
       "  <tbody>\n",
       "    <tr>\n",
       "      <th>01/01/2022</th>\n",
       "      <th>31/01/2022</th>\n",
       "      <td>102607</td>\n",
       "      <td>233572.01</td>\n",
       "      <td>78154954</td>\n",
       "    </tr>\n",
       "    <tr>\n",
       "      <th>01/02/2022</th>\n",
       "      <th>28/02/2022</th>\n",
       "      <td>155239</td>\n",
       "      <td>407072.98</td>\n",
       "      <td>71256594</td>\n",
       "    </tr>\n",
       "    <tr>\n",
       "      <th>01/03/2022</th>\n",
       "      <th>31/03/2022</th>\n",
       "      <td>139909</td>\n",
       "      <td>371498.90</td>\n",
       "      <td>79082305</td>\n",
       "    </tr>\n",
       "    <tr>\n",
       "      <th>01/04/2022</th>\n",
       "      <th>01/05/2022</th>\n",
       "      <td>107192</td>\n",
       "      <td>309469.38</td>\n",
       "      <td>48723805</td>\n",
       "    </tr>\n",
       "    <tr>\n",
       "      <th>26/01/2022</th>\n",
       "      <th>31/01/2022</th>\n",
       "      <td>10305</td>\n",
       "      <td>30624.01</td>\n",
       "      <td>2187429</td>\n",
       "    </tr>\n",
       "    <tr>\n",
       "      <th>27/01/2022</th>\n",
       "      <th>31/01/2022</th>\n",
       "      <td>1197</td>\n",
       "      <td>26000.80</td>\n",
       "      <td>2166733</td>\n",
       "    </tr>\n",
       "    <tr>\n",
       "      <th>Total</th>\n",
       "      <th></th>\n",
       "      <td>516449</td>\n",
       "      <td>1378238.08</td>\n",
       "      <td>281571820</td>\n",
       "    </tr>\n",
       "  </tbody>\n",
       "</table>\n",
       "</div>"
      ],
      "text/plain": [
       "                         Cliques   Consumido  Impressões\n",
       "Datadeinicio Datadefim                                  \n",
       "01/01/2022   31/01/2022   102607   233572.01    78154954\n",
       "01/02/2022   28/02/2022   155239   407072.98    71256594\n",
       "01/03/2022   31/03/2022   139909   371498.90    79082305\n",
       "01/04/2022   01/05/2022   107192   309469.38    48723805\n",
       "26/01/2022   31/01/2022    10305    30624.01     2187429\n",
       "27/01/2022   31/01/2022     1197    26000.80     2166733\n",
       "Total                     516449  1378238.08   281571820"
      ]
     },
     "execution_count": 30,
     "metadata": {},
     "output_type": "execute_result"
    }
   ],
   "source": [
    "pd.pivot_table(df2,\n",
    "              index=['Datadeinicio', 'Datadefim'],\n",
    "              values= ['Impressões', 'Cliques', 'Consumido'],\n",
    "            aggfunc=np.sum,\n",
    "              margins=True,\n",
    "               margins_name='Total'\n",
    "              )"
   ]
  },
  {
   "cell_type": "code",
   "execution_count": 31,
   "metadata": {},
   "outputs": [],
   "source": [
    "if df.empty:\n",
    "    print('Sem novos dados para importar!')\n",
    "    \n",
    "else:\n",
    "    df.to_csv('Report_Meli_2022.csv',encoding='utf-8-sig', index=False)\n",
    "    "
   ]
  },
  {
   "cell_type": "code",
   "execution_count": 32,
   "metadata": {
    "collapsed": true
   },
   "outputs": [
    {
     "name": "stdout",
     "output_type": "stream",
     "text": [
      "<class 'pandas.core.frame.DataFrame'>\n",
      "RangeIndex: 79 entries, 0 to 78\n",
      "Data columns (total 13 columns):\n",
      " #   Column          Non-Null Count  Dtype  \n",
      "---  ------          --------------  -----  \n",
      " 0   Datadeinicio    79 non-null     object \n",
      " 1   Datadefim       79 non-null     object \n",
      " 2   Divisão         79 non-null     object \n",
      " 3   Marca           79 non-null     object \n",
      " 4   Formato         79 non-null     object \n",
      " 5   Planejado       79 non-null     object \n",
      " 6   Consumido       79 non-null     float64\n",
      " 7   Impressões      79 non-null     int64  \n",
      " 8   Cliques         79 non-null     int64  \n",
      " 9   Vendas          79 non-null     object \n",
      " 10  Receita         79 non-null     object \n",
      " 11  Campanha Odash  79 non-null     object \n",
      " 12  Veiculo         79 non-null     object \n",
      "dtypes: float64(1), int64(2), object(10)\n",
      "memory usage: 8.1+ KB\n"
     ]
    }
   ],
   "source": [
    "df.info()"
   ]
  },
  {
   "cell_type": "markdown",
   "metadata": {},
   "source": [
    "### Importar arquivo"
   ]
  },
  {
   "cell_type": "code",
   "execution_count": 34,
   "metadata": {},
   "outputs": [],
   "source": [
    "ai.upload_file('loreal', '41', \"D:\\Documentos\\Tetris\\Report_Meli\\Report_Meli_2022.csv\")"
   ]
  },
  {
   "cell_type": "markdown",
   "metadata": {},
   "source": [
    "### Fechando o browser"
   ]
  },
  {
   "cell_type": "code",
   "execution_count": 24,
   "metadata": {},
   "outputs": [],
   "source": [
    "ai.driver.quit()"
   ]
  },
  {
   "cell_type": "code",
   "execution_count": null,
   "metadata": {},
   "outputs": [],
   "source": []
  },
  {
   "cell_type": "code",
   "execution_count": null,
   "metadata": {},
   "outputs": [],
   "source": []
  }
 ],
 "metadata": {
  "colab": {
   "collapsed_sections": [],
   "name": "[CB] Linkbuilding.ipynb",
   "provenance": [],
   "toc_visible": true
  },
  "kernelspec": {
   "display_name": "Python 3 (ipykernel)",
   "language": "python",
   "name": "python3"
  },
  "language_info": {
   "codemirror_mode": {
    "name": "ipython",
    "version": 3
   },
   "file_extension": ".py",
   "mimetype": "text/x-python",
   "name": "python",
   "nbconvert_exporter": "python",
   "pygments_lexer": "ipython3",
   "version": "3.10.4"
  }
 },
 "nbformat": 4,
 "nbformat_minor": 1
}
