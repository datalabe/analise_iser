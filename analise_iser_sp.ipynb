{
 "cells": [
  {
   "cell_type": "markdown",
   "id": "93a92351",
   "metadata": {},
   "source": [
    "<h1><center> Análise de dados intolerância religiosa São Paulo</center></h1>"
   ]
  },
  {
   "cell_type": "code",
   "execution_count": 1,
   "id": "8a43ee86",
   "metadata": {},
   "outputs": [],
   "source": [
    "import pandas as pd\n",
    "import numpy as np\n",
    "import matplotlib.pyplot as plt\n",
    "\n",
    "%matplotlib inline"
   ]
  },
  {
   "cell_type": "code",
   "execution_count": 115,
   "id": "7e1d3a65",
   "metadata": {},
   "outputs": [],
   "source": [
    "dados = pd.read_csv('bases/dados_sp.csv')"
   ]
  },
  {
   "cell_type": "markdown",
   "id": "a0a1e9e6",
   "metadata": {},
   "source": [
    "Segundo a metodologia em cada linha constante na tabela registra os dados de uma pessoa, natureza ou objeto relacionado no boletim. Assim, um boletim que possua a identificação de mais de uma pessoa, natureza ou objeto (a depender da pesquisa solicitada) terá os dados da ocorrência multiplicados pelos indexadores solicitados, ou seja, várias linhas podem se referir ao mesmo boletim. Para conclusões quanto as quantidades de ocorrências é necessária exclusão das duplicidades por meio dos campos: NOME_DELEGACIA, ANO_BO, NUM_BO."
   ]
  },
  {
   "cell_type": "code",
   "execution_count": 116,
   "id": "d5ea6979",
   "metadata": {
    "collapsed": true
   },
   "outputs": [
    {
     "data": {
      "text/html": [
       "<div>\n",
       "<style scoped>\n",
       "    .dataframe tbody tr th:only-of-type {\n",
       "        vertical-align: middle;\n",
       "    }\n",
       "\n",
       "    .dataframe tbody tr th {\n",
       "        vertical-align: top;\n",
       "    }\n",
       "\n",
       "    .dataframe thead th {\n",
       "        text-align: right;\n",
       "    }\n",
       "</style>\n",
       "<table border=\"1\" class=\"dataframe\">\n",
       "  <thead>\n",
       "    <tr style=\"text-align: right;\">\n",
       "      <th></th>\n",
       "      <th>ID_DELEGACIA</th>\n",
       "      <th>NOME_DEPARTAMENTO</th>\n",
       "      <th>NOME_SECCIONAL</th>\n",
       "      <th>NOME_DELEGACIA</th>\n",
       "      <th>CIDADE</th>\n",
       "      <th>ANO_BO</th>\n",
       "      <th>NUM_BO</th>\n",
       "      <th>DESCR_SOLUCAO</th>\n",
       "      <th>DESCR_PROVIDENCIA</th>\n",
       "      <th>NOME_DEPARTAMENTO_CIRC</th>\n",
       "      <th>...</th>\n",
       "      <th>DESCRICAO_DEFICIENCIA</th>\n",
       "      <th>DESCR_RELACIONAMENTO</th>\n",
       "      <th>FLAG_VITIMA_FATAL</th>\n",
       "      <th>SEXO_PESSOA</th>\n",
       "      <th>IDADE_PESSOA</th>\n",
       "      <th>COR_CUTIS</th>\n",
       "      <th>DESCR_PROFISSAO</th>\n",
       "      <th>DESCR_GRAU_INSTRUCAO</th>\n",
       "      <th>NACIONALIDADE_PESSOA</th>\n",
       "      <th>NATURALIDADE_PESSOA</th>\n",
       "    </tr>\n",
       "  </thead>\n",
       "  <tbody>\n",
       "    <tr>\n",
       "      <th>0</th>\n",
       "      <td>10216</td>\n",
       "      <td>DECAP</td>\n",
       "      <td>DEL.SEC.2º SUL</td>\n",
       "      <td>16º D.P. VILA CLEMENTINO</td>\n",
       "      <td>S.PAULO</td>\n",
       "      <td>2019</td>\n",
       "      <td>7354</td>\n",
       "      <td>AG. REPRESENTAÇÃO/REQUERIMENTO</td>\n",
       "      <td>NaN</td>\n",
       "      <td>DECAP</td>\n",
       "      <td>...</td>\n",
       "      <td>NaN</td>\n",
       "      <td>NaN</td>\n",
       "      <td>NaN</td>\n",
       "      <td>F</td>\n",
       "      <td>NaN</td>\n",
       "      <td>Branca</td>\n",
       "      <td>NaN</td>\n",
       "      <td>NaN</td>\n",
       "      <td>NaN</td>\n",
       "      <td>NaN</td>\n",
       "    </tr>\n",
       "    <tr>\n",
       "      <th>1</th>\n",
       "      <td>10236</td>\n",
       "      <td>DECAP</td>\n",
       "      <td>DEL.SEC.2º SUL</td>\n",
       "      <td>36º D.P.  VILA MARIANA</td>\n",
       "      <td>S.PAULO</td>\n",
       "      <td>2020</td>\n",
       "      <td>312</td>\n",
       "      <td>ENCAMINHAMENTO DP ÁREA DO FATO</td>\n",
       "      <td>NaN</td>\n",
       "      <td>DECAP</td>\n",
       "      <td>...</td>\n",
       "      <td>NaN</td>\n",
       "      <td>NaN</td>\n",
       "      <td>NaN</td>\n",
       "      <td>M</td>\n",
       "      <td>45.0</td>\n",
       "      <td>Branca</td>\n",
       "      <td>AUTONOMO(A)</td>\n",
       "      <td>NaN</td>\n",
       "      <td>BRASILEIRA</td>\n",
       "      <td>NAO INFORMADA(MOT=ACERVO)</td>\n",
       "    </tr>\n",
       "    <tr>\n",
       "      <th>2</th>\n",
       "      <td>10247</td>\n",
       "      <td>DECAP</td>\n",
       "      <td>DEL.SEC.6º SANTO AMARO</td>\n",
       "      <td>47º D.P.  CAPAO REDONDO</td>\n",
       "      <td>S.PAULO</td>\n",
       "      <td>2019</td>\n",
       "      <td>8122</td>\n",
       "      <td>AG. REPRESENTAÇÃO/REQUERIMENTO</td>\n",
       "      <td>NaN</td>\n",
       "      <td>DECAP</td>\n",
       "      <td>...</td>\n",
       "      <td>NaN</td>\n",
       "      <td>NaN</td>\n",
       "      <td>NaN</td>\n",
       "      <td>M</td>\n",
       "      <td>42.0</td>\n",
       "      <td>Parda</td>\n",
       "      <td>NaN</td>\n",
       "      <td>NaN</td>\n",
       "      <td>NaN</td>\n",
       "      <td>BRASILEIRO</td>\n",
       "    </tr>\n",
       "    <tr>\n",
       "      <th>3</th>\n",
       "      <td>10248</td>\n",
       "      <td>DECAP</td>\n",
       "      <td>DEL.SEC.6º SANTO AMARO</td>\n",
       "      <td>48º D.P.  CIDADE DUTRA</td>\n",
       "      <td>S.PAULO</td>\n",
       "      <td>2020</td>\n",
       "      <td>2553</td>\n",
       "      <td>AG. REPRESENTAÇÃO/REQUERIMENTO</td>\n",
       "      <td>NaN</td>\n",
       "      <td>DECAP</td>\n",
       "      <td>...</td>\n",
       "      <td>NaN</td>\n",
       "      <td>NaN</td>\n",
       "      <td>NaN</td>\n",
       "      <td>F</td>\n",
       "      <td>51.0</td>\n",
       "      <td>Branca</td>\n",
       "      <td>AUTONOMO(A)</td>\n",
       "      <td>NaN</td>\n",
       "      <td>NaN</td>\n",
       "      <td>BEZERROS PE</td>\n",
       "    </tr>\n",
       "    <tr>\n",
       "      <th>4</th>\n",
       "      <td>10248</td>\n",
       "      <td>DECAP</td>\n",
       "      <td>DEL.SEC.6º SANTO AMARO</td>\n",
       "      <td>48º D.P.  CIDADE DUTRA</td>\n",
       "      <td>S.PAULO</td>\n",
       "      <td>2020</td>\n",
       "      <td>2553</td>\n",
       "      <td>AG. REPRESENTAÇÃO/REQUERIMENTO</td>\n",
       "      <td>NaN</td>\n",
       "      <td>DECAP</td>\n",
       "      <td>...</td>\n",
       "      <td>NaN</td>\n",
       "      <td>NaN</td>\n",
       "      <td>NaN</td>\n",
       "      <td>M</td>\n",
       "      <td>NaN</td>\n",
       "      <td>NaN</td>\n",
       "      <td>NaN</td>\n",
       "      <td>NaN</td>\n",
       "      <td>NaN</td>\n",
       "      <td>NaN</td>\n",
       "    </tr>\n",
       "  </tbody>\n",
       "</table>\n",
       "<p>5 rows × 52 columns</p>\n",
       "</div>"
      ],
      "text/plain": [
       "   ID_DELEGACIA                         NOME_DEPARTAMENTO  \\\n",
       "0         10216  DECAP                                      \n",
       "1         10236  DECAP                                      \n",
       "2         10247  DECAP                                      \n",
       "3         10248  DECAP                                      \n",
       "4         10248  DECAP                                      \n",
       "\n",
       "                             NOME_SECCIONAL                  NOME_DELEGACIA  \\\n",
       "0  DEL.SEC.2º SUL                            16º D.P. VILA CLEMENTINO         \n",
       "1  DEL.SEC.2º SUL                            36º D.P.  VILA MARIANA           \n",
       "2  DEL.SEC.6º SANTO AMARO                    47º D.P.  CAPAO REDONDO          \n",
       "3  DEL.SEC.6º SANTO AMARO                    48º D.P.  CIDADE DUTRA           \n",
       "4  DEL.SEC.6º SANTO AMARO                    48º D.P.  CIDADE DUTRA           \n",
       "\n",
       "                                     CIDADE  ANO_BO  NUM_BO  \\\n",
       "0  S.PAULO                                     2019    7354   \n",
       "1  S.PAULO                                     2020     312   \n",
       "2  S.PAULO                                     2019    8122   \n",
       "3  S.PAULO                                     2020    2553   \n",
       "4  S.PAULO                                     2020    2553   \n",
       "\n",
       "                    DESCR_SOLUCAO DESCR_PROVIDENCIA  \\\n",
       "0  AG. REPRESENTAÇÃO/REQUERIMENTO               NaN   \n",
       "1  ENCAMINHAMENTO DP ÁREA DO FATO               NaN   \n",
       "2  AG. REPRESENTAÇÃO/REQUERIMENTO               NaN   \n",
       "3  AG. REPRESENTAÇÃO/REQUERIMENTO               NaN   \n",
       "4  AG. REPRESENTAÇÃO/REQUERIMENTO               NaN   \n",
       "\n",
       "                     NOME_DEPARTAMENTO_CIRC  ... DESCRICAO_DEFICIENCIA  \\\n",
       "0  DECAP                                     ...                   NaN   \n",
       "1  DECAP                                     ...                   NaN   \n",
       "2  DECAP                                     ...                   NaN   \n",
       "3  DECAP                                     ...                   NaN   \n",
       "4  DECAP                                     ...                   NaN   \n",
       "\n",
       "  DESCR_RELACIONAMENTO FLAG_VITIMA_FATAL SEXO_PESSOA IDADE_PESSOA  \\\n",
       "0                  NaN               NaN           F          NaN   \n",
       "1                  NaN               NaN           M         45.0   \n",
       "2                  NaN               NaN           M         42.0   \n",
       "3                  NaN               NaN           F         51.0   \n",
       "4                  NaN               NaN           M          NaN   \n",
       "\n",
       "              COR_CUTIS                 DESCR_PROFISSAO DESCR_GRAU_INSTRUCAO  \\\n",
       "0  Branca                                           NaN                  NaN   \n",
       "1  Branca                AUTONOMO(A)                                     NaN   \n",
       "2  Parda                                            NaN                  NaN   \n",
       "3  Branca                AUTONOMO(A)                                     NaN   \n",
       "4                   NaN                             NaN                  NaN   \n",
       "\n",
       "  NACIONALIDADE_PESSOA        NATURALIDADE_PESSOA  \n",
       "0                  NaN                        NaN  \n",
       "1           BRASILEIRA  NAO INFORMADA(MOT=ACERVO)  \n",
       "2                  NaN                 BRASILEIRO  \n",
       "3                  NaN                BEZERROS PE  \n",
       "4                  NaN                        NaN  \n",
       "\n",
       "[5 rows x 52 columns]"
      ]
     },
     "execution_count": 116,
     "metadata": {},
     "output_type": "execute_result"
    }
   ],
   "source": [
    "dados.head()"
   ]
  },
  {
   "cell_type": "code",
   "execution_count": 117,
   "id": "f24b9cc0",
   "metadata": {
    "collapsed": true
   },
   "outputs": [
    {
     "name": "stdout",
     "output_type": "stream",
     "text": [
      "<class 'pandas.core.frame.DataFrame'>\n",
      "RangeIndex: 41788 entries, 0 to 41787\n",
      "Data columns (total 52 columns):\n",
      " #   Column                  Non-Null Count  Dtype  \n",
      "---  ------                  --------------  -----  \n",
      " 0   ID_DELEGACIA            41788 non-null  int64  \n",
      " 1   NOME_DEPARTAMENTO       41788 non-null  object \n",
      " 2   NOME_SECCIONAL          41788 non-null  object \n",
      " 3   NOME_DELEGACIA          41788 non-null  object \n",
      " 4   CIDADE                  41788 non-null  object \n",
      " 5   ANO_BO                  41788 non-null  int64  \n",
      " 6   NUM_BO                  41788 non-null  int64  \n",
      " 7   DESCR_SOLUCAO           41788 non-null  object \n",
      " 8   DESCR_PROVIDENCIA       62 non-null     object \n",
      " 9   NOME_DEPARTAMENTO_CIRC  41788 non-null  object \n",
      " 10  NOME_SECCIONAL_CIRC     41788 non-null  object \n",
      " 11  NOME_DELEGACIA_CIRC     41788 non-null  object \n",
      " 12  NOME_MUNICIPIO_CIRC     41788 non-null  object \n",
      " 13  DESCR_TIPO_BO           41788 non-null  object \n",
      " 14  DATA_OCORRENCIA_BO      41788 non-null  object \n",
      " 15  HORA_OCORRENCIA_BO      41572 non-null  object \n",
      " 16  DESCRICAO_APRESENTACAO  6864 non-null   object \n",
      " 17  DATAHORA_REGISTRO_BO    41788 non-null  object \n",
      " 18  DATA_COMUNICACAO_BO     41788 non-null  object \n",
      " 19  DATAHORA_IMPRESSAO_BO   41788 non-null  object \n",
      " 20  DESCR_PERIODO           41788 non-null  object \n",
      " 21  AUTORIA_BO              41755 non-null  object \n",
      " 22  FLAG_INTOLERANCIA       41788 non-null  object \n",
      " 23  TIPO_INTOLERANCIA       41788 non-null  object \n",
      " 24  FLAG_FLAGRANTE          41788 non-null  object \n",
      " 25  FLAG_STATUS             41788 non-null  object \n",
      " 26  RUBRICA                 41788 non-null  object \n",
      " 27  DESCR_CONDUTA           105 non-null    object \n",
      " 28  DESDOBRAMENTO           124 non-null    object \n",
      " 29  BAIRRO                  41337 non-null  object \n",
      " 30  DESCR_TIPOLOCAL         41788 non-null  object \n",
      " 31  DESCR_SUBTIPOLOCAL      41788 non-null  object \n",
      " 32  CEP                     36871 non-null  float64\n",
      " 33  LOGRADOURO              37080 non-null  object \n",
      " 34  NUMERO_LOGRADOURO       41788 non-null  int64  \n",
      " 35  LATITUDE                29208 non-null  object \n",
      " 36  LONGITUDE               29208 non-null  object \n",
      " 37  DESCR_EXAME             250 non-null    object \n",
      " 38  CONT_PESSOA             41788 non-null  int64  \n",
      " 39  DESCR_TIPO_PESSOA       41788 non-null  object \n",
      " 40  FLAG_DEFICIENCIA        40283 non-null  object \n",
      " 41  DESCR_PATOLOGIA         0 non-null      float64\n",
      " 42  DESCRICAO_DEFICIENCIA   8 non-null      object \n",
      " 43  DESCR_RELACIONAMENTO    15 non-null     object \n",
      " 44  FLAG_VITIMA_FATAL       39 non-null     object \n",
      " 45  SEXO_PESSOA             41788 non-null  object \n",
      " 46  IDADE_PESSOA            28134 non-null  float64\n",
      " 47  COR_CUTIS               566 non-null    object \n",
      " 48  DESCR_PROFISSAO         27689 non-null  object \n",
      " 49  DESCR_GRAU_INSTRUCAO    250 non-null    object \n",
      " 50  NACIONALIDADE_PESSOA    307 non-null    object \n",
      " 51  NATURALIDADE_PESSOA     28017 non-null  object \n",
      "dtypes: float64(3), int64(5), object(44)\n",
      "memory usage: 16.6+ MB\n"
     ]
    }
   ],
   "source": [
    "dados.info()"
   ]
  },
  {
   "cell_type": "markdown",
   "id": "6d0023e3",
   "metadata": {},
   "source": [
    "Então nos dados há 41788 linhas"
   ]
  },
  {
   "cell_type": "code",
   "execution_count": 118,
   "id": "8c84e057",
   "metadata": {},
   "outputs": [],
   "source": [
    "dados.drop_duplicates(subset ='NUM_BO',\n",
    "                     keep = False, inplace = True)"
   ]
  },
  {
   "cell_type": "code",
   "execution_count": 119,
   "id": "e11c4f8c",
   "metadata": {
    "collapsed": true
   },
   "outputs": [
    {
     "name": "stdout",
     "output_type": "stream",
     "text": [
      "<class 'pandas.core.frame.DataFrame'>\n",
      "Int64Index: 11580 entries, 19 to 41787\n",
      "Data columns (total 52 columns):\n",
      " #   Column                  Non-Null Count  Dtype  \n",
      "---  ------                  --------------  -----  \n",
      " 0   ID_DELEGACIA            11580 non-null  int64  \n",
      " 1   NOME_DEPARTAMENTO       11580 non-null  object \n",
      " 2   NOME_SECCIONAL          11580 non-null  object \n",
      " 3   NOME_DELEGACIA          11580 non-null  object \n",
      " 4   CIDADE                  11580 non-null  object \n",
      " 5   ANO_BO                  11580 non-null  int64  \n",
      " 6   NUM_BO                  11580 non-null  int64  \n",
      " 7   DESCR_SOLUCAO           11580 non-null  object \n",
      " 8   DESCR_PROVIDENCIA       0 non-null      object \n",
      " 9   NOME_DEPARTAMENTO_CIRC  11580 non-null  object \n",
      " 10  NOME_SECCIONAL_CIRC     11580 non-null  object \n",
      " 11  NOME_DELEGACIA_CIRC     11580 non-null  object \n",
      " 12  NOME_MUNICIPIO_CIRC     11580 non-null  object \n",
      " 13  DESCR_TIPO_BO           11580 non-null  object \n",
      " 14  DATA_OCORRENCIA_BO      11580 non-null  object \n",
      " 15  HORA_OCORRENCIA_BO      11571 non-null  object \n",
      " 16  DESCRICAO_APRESENTACAO  3379 non-null   object \n",
      " 17  DATAHORA_REGISTRO_BO    11580 non-null  object \n",
      " 18  DATA_COMUNICACAO_BO     11580 non-null  object \n",
      " 19  DATAHORA_IMPRESSAO_BO   11580 non-null  object \n",
      " 20  DESCR_PERIODO           11580 non-null  object \n",
      " 21  AUTORIA_BO              11547 non-null  object \n",
      " 22  FLAG_INTOLERANCIA       11580 non-null  object \n",
      " 23  TIPO_INTOLERANCIA       11580 non-null  object \n",
      " 24  FLAG_FLAGRANTE          11580 non-null  object \n",
      " 25  FLAG_STATUS             11580 non-null  object \n",
      " 26  RUBRICA                 11580 non-null  object \n",
      " 27  DESCR_CONDUTA           53 non-null     object \n",
      " 28  DESDOBRAMENTO           2 non-null      object \n",
      " 29  BAIRRO                  11501 non-null  object \n",
      " 30  DESCR_TIPOLOCAL         11580 non-null  object \n",
      " 31  DESCR_SUBTIPOLOCAL      11580 non-null  object \n",
      " 32  CEP                     9411 non-null   float64\n",
      " 33  LOGRADOURO              9512 non-null   object \n",
      " 34  NUMERO_LOGRADOURO       11580 non-null  int64  \n",
      " 35  LATITUDE                5221 non-null   object \n",
      " 36  LONGITUDE               5221 non-null   object \n",
      " 37  DESCR_EXAME             12 non-null     object \n",
      " 38  CONT_PESSOA             11580 non-null  int64  \n",
      " 39  DESCR_TIPO_PESSOA       11580 non-null  object \n",
      " 40  FLAG_DEFICIENCIA        11557 non-null  object \n",
      " 41  DESCR_PATOLOGIA         0 non-null      float64\n",
      " 42  DESCRICAO_DEFICIENCIA   0 non-null      object \n",
      " 43  DESCR_RELACIONAMENTO    0 non-null      object \n",
      " 44  FLAG_VITIMA_FATAL       0 non-null      object \n",
      " 45  SEXO_PESSOA             11580 non-null  object \n",
      " 46  IDADE_PESSOA            11565 non-null  float64\n",
      " 47  COR_CUTIS               10 non-null     object \n",
      " 48  DESCR_PROFISSAO         11544 non-null  object \n",
      " 49  DESCR_GRAU_INSTRUCAO    5 non-null      object \n",
      " 50  NACIONALIDADE_PESSOA    8 non-null      object \n",
      " 51  NATURALIDADE_PESSOA     11565 non-null  object \n",
      "dtypes: float64(3), int64(5), object(44)\n",
      "memory usage: 4.7+ MB\n"
     ]
    }
   ],
   "source": [
    "dados.info()"
   ]
  },
  {
   "cell_type": "markdown",
   "id": "27e9ae01",
   "metadata": {},
   "source": [
    "    Retirando os registros duplicados temos um total de 11580 denúncias entre 2019 e 2021. Com aproximdamente 91% dos           registros de BO feitos em 2021, confofrme tabela abaixo."
   ]
  },
  {
   "cell_type": "code",
   "execution_count": 121,
   "id": "3ff0313f",
   "metadata": {
    "collapsed": true
   },
   "outputs": [
    {
     "data": {
      "text/plain": [
       "2021    90.906736\n",
       "2020     9.050086\n",
       "2019     0.043178\n",
       "Name: ANO_BO, dtype: float64"
      ]
     },
     "execution_count": 121,
     "metadata": {},
     "output_type": "execute_result"
    }
   ],
   "source": [
    "dados['ANO_BO'].value_counts()*100/11580"
   ]
  },
  {
   "cell_type": "code",
   "execution_count": 114,
   "id": "f6074a5b",
   "metadata": {
    "collapsed": true
   },
   "outputs": [
    {
     "data": {
      "text/plain": [
       "S    11483\n",
       "N       83\n",
       "X       14\n",
       "Name: FLAG_INTOLERANCIA, dtype: int64"
      ]
     },
     "execution_count": 114,
     "metadata": {},
     "output_type": "execute_result"
    }
   ],
   "source": [
    "# Essa variavel indica se houve intolerância ou não. Assim foram excluídos para a análise os que receberam N e X\n",
    "dados['FLAG_INTOLERANCIA'].value_counts()"
   ]
  },
  {
   "cell_type": "code",
   "execution_count": 122,
   "id": "37209c87",
   "metadata": {},
   "outputs": [],
   "source": [
    "dados_ = pd.DataFrame(dados.loc[dados['FLAG_INTOLERANCIA'] == 'S'])"
   ]
  },
  {
   "cell_type": "code",
   "execution_count": 123,
   "id": "1e67c305",
   "metadata": {
    "collapsed": true
   },
   "outputs": [
    {
     "data": {
      "text/plain": [
       "Religioso    11483\n",
       "Name: TIPO_INTOLERANCIA, dtype: int64"
      ]
     },
     "execution_count": 123,
     "metadata": {},
     "output_type": "execute_result"
    }
   ],
   "source": [
    "dados_['TIPO_INTOLERANCIA'].value_counts()"
   ]
  },
  {
   "cell_type": "code",
   "execution_count": 124,
   "id": "6a98873c",
   "metadata": {
    "collapsed": true
   },
   "outputs": [
    {
     "data": {
      "text/plain": [
       "CONSUMADO    11419\n",
       "TENTADO         64\n",
       "Name: FLAG_STATUS, dtype: int64"
      ]
     },
     "execution_count": 124,
     "metadata": {},
     "output_type": "execute_result"
    }
   ],
   "source": [
    "dados_['FLAG_STATUS'].value_counts()"
   ]
  },
  {
   "cell_type": "code",
   "execution_count": 125,
   "id": "43b0b373",
   "metadata": {
    "collapsed": true
   },
   "outputs": [
    {
     "name": "stdout",
     "output_type": "stream",
     "text": [
      "<class 'pandas.core.frame.DataFrame'>\n",
      "Int64Index: 11483 entries, 19 to 41787\n",
      "Data columns (total 52 columns):\n",
      " #   Column                  Non-Null Count  Dtype  \n",
      "---  ------                  --------------  -----  \n",
      " 0   ID_DELEGACIA            11483 non-null  int64  \n",
      " 1   NOME_DEPARTAMENTO       11483 non-null  object \n",
      " 2   NOME_SECCIONAL          11483 non-null  object \n",
      " 3   NOME_DELEGACIA          11483 non-null  object \n",
      " 4   CIDADE                  11483 non-null  object \n",
      " 5   ANO_BO                  11483 non-null  int64  \n",
      " 6   NUM_BO                  11483 non-null  int64  \n",
      " 7   DESCR_SOLUCAO           11483 non-null  object \n",
      " 8   DESCR_PROVIDENCIA       0 non-null      object \n",
      " 9   NOME_DEPARTAMENTO_CIRC  11483 non-null  object \n",
      " 10  NOME_SECCIONAL_CIRC     11483 non-null  object \n",
      " 11  NOME_DELEGACIA_CIRC     11483 non-null  object \n",
      " 12  NOME_MUNICIPIO_CIRC     11483 non-null  object \n",
      " 13  DESCR_TIPO_BO           11483 non-null  object \n",
      " 14  DATA_OCORRENCIA_BO      11483 non-null  object \n",
      " 15  HORA_OCORRENCIA_BO      11474 non-null  object \n",
      " 16  DESCRICAO_APRESENTACAO  3282 non-null   object \n",
      " 17  DATAHORA_REGISTRO_BO    11483 non-null  object \n",
      " 18  DATA_COMUNICACAO_BO     11483 non-null  object \n",
      " 19  DATAHORA_IMPRESSAO_BO   11483 non-null  object \n",
      " 20  DESCR_PERIODO           11483 non-null  object \n",
      " 21  AUTORIA_BO              11451 non-null  object \n",
      " 22  FLAG_INTOLERANCIA       11483 non-null  object \n",
      " 23  TIPO_INTOLERANCIA       11483 non-null  object \n",
      " 24  FLAG_FLAGRANTE          11483 non-null  object \n",
      " 25  FLAG_STATUS             11483 non-null  object \n",
      " 26  RUBRICA                 11483 non-null  object \n",
      " 27  DESCR_CONDUTA           53 non-null     object \n",
      " 28  DESDOBRAMENTO           2 non-null      object \n",
      " 29  BAIRRO                  11404 non-null  object \n",
      " 30  DESCR_TIPOLOCAL         11483 non-null  object \n",
      " 31  DESCR_SUBTIPOLOCAL      11483 non-null  object \n",
      " 32  CEP                     9375 non-null   float64\n",
      " 33  LOGRADOURO              9472 non-null   object \n",
      " 34  NUMERO_LOGRADOURO       11483 non-null  int64  \n",
      " 35  LATITUDE                5126 non-null   object \n",
      " 36  LONGITUDE               5126 non-null   object \n",
      " 37  DESCR_EXAME             12 non-null     object \n",
      " 38  CONT_PESSOA             11483 non-null  int64  \n",
      " 39  DESCR_TIPO_PESSOA       11483 non-null  object \n",
      " 40  FLAG_DEFICIENCIA        11460 non-null  object \n",
      " 41  DESCR_PATOLOGIA         0 non-null      float64\n",
      " 42  DESCRICAO_DEFICIENCIA   0 non-null      object \n",
      " 43  DESCR_RELACIONAMENTO    0 non-null      object \n",
      " 44  FLAG_VITIMA_FATAL       0 non-null      object \n",
      " 45  SEXO_PESSOA             11483 non-null  object \n",
      " 46  IDADE_PESSOA            11468 non-null  float64\n",
      " 47  COR_CUTIS               10 non-null     object \n",
      " 48  DESCR_PROFISSAO         11447 non-null  object \n",
      " 49  DESCR_GRAU_INSTRUCAO    5 non-null      object \n",
      " 50  NACIONALIDADE_PESSOA    8 non-null      object \n",
      " 51  NATURALIDADE_PESSOA     11468 non-null  object \n",
      "dtypes: float64(3), int64(5), object(44)\n",
      "memory usage: 4.6+ MB\n"
     ]
    }
   ],
   "source": [
    "dados_.info()"
   ]
  },
  {
   "cell_type": "code",
   "execution_count": 126,
   "id": "49b394be",
   "metadata": {
    "collapsed": true
   },
   "outputs": [
    {
     "data": {
      "text/plain": [
       "2021    91.099887\n",
       "2020     8.856571\n",
       "2019     0.043543\n",
       "Name: ANO_BO, dtype: float64"
      ]
     },
     "execution_count": 126,
     "metadata": {},
     "output_type": "execute_result"
    }
   ],
   "source": [
    "dados_['ANO_BO'].value_counts()*100/11483"
   ]
  },
  {
   "cell_type": "markdown",
   "id": "5c07af4e",
   "metadata": {},
   "source": [
    "Então houve 11483 registros unicos de boletim de ocorrência com intolerância religiosa"
   ]
  },
  {
   "cell_type": "markdown",
   "id": "e98e91a5",
   "metadata": {},
   "source": [
    "Fazendo recorte para o ano de 2020, focando as análises para o segundo semestre."
   ]
  },
  {
   "cell_type": "code",
   "execution_count": 128,
   "id": "2b44fcab",
   "metadata": {},
   "outputs": [],
   "source": [
    "dados_2020 = pd.DataFrame(dados_.loc[dados_['ANO_BO'] == 2020])"
   ]
  },
  {
   "cell_type": "code",
   "execution_count": 129,
   "id": "ed7041f1",
   "metadata": {
    "collapsed": true
   },
   "outputs": [
    {
     "name": "stdout",
     "output_type": "stream",
     "text": [
      "<class 'pandas.core.frame.DataFrame'>\n",
      "Int64Index: 1017 entries, 228 to 39475\n",
      "Data columns (total 52 columns):\n",
      " #   Column                  Non-Null Count  Dtype  \n",
      "---  ------                  --------------  -----  \n",
      " 0   ID_DELEGACIA            1017 non-null   int64  \n",
      " 1   NOME_DEPARTAMENTO       1017 non-null   object \n",
      " 2   NOME_SECCIONAL          1017 non-null   object \n",
      " 3   NOME_DELEGACIA          1017 non-null   object \n",
      " 4   CIDADE                  1017 non-null   object \n",
      " 5   ANO_BO                  1017 non-null   int64  \n",
      " 6   NUM_BO                  1017 non-null   int64  \n",
      " 7   DESCR_SOLUCAO           1017 non-null   object \n",
      " 8   DESCR_PROVIDENCIA       0 non-null      object \n",
      " 9   NOME_DEPARTAMENTO_CIRC  1017 non-null   object \n",
      " 10  NOME_SECCIONAL_CIRC     1017 non-null   object \n",
      " 11  NOME_DELEGACIA_CIRC     1017 non-null   object \n",
      " 12  NOME_MUNICIPIO_CIRC     1017 non-null   object \n",
      " 13  DESCR_TIPO_BO           1017 non-null   object \n",
      " 14  DATA_OCORRENCIA_BO      1017 non-null   object \n",
      " 15  HORA_OCORRENCIA_BO      1016 non-null   object \n",
      " 16  DESCRICAO_APRESENTACAO  393 non-null    object \n",
      " 17  DATAHORA_REGISTRO_BO    1017 non-null   object \n",
      " 18  DATA_COMUNICACAO_BO     1017 non-null   object \n",
      " 19  DATAHORA_IMPRESSAO_BO   1017 non-null   object \n",
      " 20  DESCR_PERIODO           1017 non-null   object \n",
      " 21  AUTORIA_BO              1009 non-null   object \n",
      " 22  FLAG_INTOLERANCIA       1017 non-null   object \n",
      " 23  TIPO_INTOLERANCIA       1017 non-null   object \n",
      " 24  FLAG_FLAGRANTE          1017 non-null   object \n",
      " 25  FLAG_STATUS             1017 non-null   object \n",
      " 26  RUBRICA                 1017 non-null   object \n",
      " 27  DESCR_CONDUTA           4 non-null      object \n",
      " 28  DESDOBRAMENTO           0 non-null      object \n",
      " 29  BAIRRO                  1014 non-null   object \n",
      " 30  DESCR_TIPOLOCAL         1017 non-null   object \n",
      " 31  DESCR_SUBTIPOLOCAL      1017 non-null   object \n",
      " 32  CEP                     722 non-null    float64\n",
      " 33  LOGRADOURO              736 non-null    object \n",
      " 34  NUMERO_LOGRADOURO       1017 non-null   int64  \n",
      " 35  LATITUDE                947 non-null    object \n",
      " 36  LONGITUDE               947 non-null    object \n",
      " 37  DESCR_EXAME             0 non-null      object \n",
      " 38  CONT_PESSOA             1017 non-null   int64  \n",
      " 39  DESCR_TIPO_PESSOA       1017 non-null   object \n",
      " 40  FLAG_DEFICIENCIA        1015 non-null   object \n",
      " 41  DESCR_PATOLOGIA         0 non-null      float64\n",
      " 42  DESCRICAO_DEFICIENCIA   0 non-null      object \n",
      " 43  DESCR_RELACIONAMENTO    0 non-null      object \n",
      " 44  FLAG_VITIMA_FATAL       0 non-null      object \n",
      " 45  SEXO_PESSOA             1017 non-null   object \n",
      " 46  IDADE_PESSOA            1006 non-null   float64\n",
      " 47  COR_CUTIS               4 non-null      object \n",
      " 48  DESCR_PROFISSAO         1006 non-null   object \n",
      " 49  DESCR_GRAU_INSTRUCAO    2 non-null      object \n",
      " 50  NACIONALIDADE_PESSOA    2 non-null      object \n",
      " 51  NATURALIDADE_PESSOA     1006 non-null   object \n",
      "dtypes: float64(3), int64(5), object(44)\n",
      "memory usage: 421.1+ KB\n"
     ]
    }
   ],
   "source": [
    "dados_2020.info()"
   ]
  },
  {
   "cell_type": "code",
   "execution_count": 131,
   "id": "5f634f1d",
   "metadata": {},
   "outputs": [],
   "source": [
    "# Transformando o tipo da variavel em data\n",
    "dados_2020['DATA_OCORRENCIA_BO'] = pd.to_datetime(dados_2020['DATA_OCORRENCIA_BO'])"
   ]
  },
  {
   "cell_type": "code",
   "execution_count": 132,
   "id": "c253a35c",
   "metadata": {},
   "outputs": [],
   "source": [
    "# Transformando o tipo da variavel em data\n",
    "dados_2020['DATA_COMUNICACAO_BO'] = pd.to_datetime(dados_2020['DATA_COMUNICACAO_BO'])"
   ]
  },
  {
   "cell_type": "markdown",
   "id": "7b595445",
   "metadata": {},
   "source": [
    "Como descrito na metodologia a ocorrência e o boletim podem ter datas diferentes pq fica facultado por parte do denunciante o momento do registro. Assim ocorrência realizada de 2002 a 2020, com a maioria sendo em 2020"
   ]
  },
  {
   "cell_type": "code",
   "execution_count": 133,
   "id": "3f0a5cdc",
   "metadata": {
    "collapsed": true
   },
   "outputs": [
    {
     "data": {
      "text/plain": [
       "2020    993\n",
       "2019     15\n",
       "2012      2\n",
       "2018      2\n",
       "2010      2\n",
       "2002      1\n",
       "2017      1\n",
       "2014      1\n",
       "Name: DATA_OCORRENCIA_BO, dtype: int64"
      ]
     },
     "execution_count": 133,
     "metadata": {},
     "output_type": "execute_result"
    }
   ],
   "source": [
    "dados_2020['DATA_OCORRENCIA_BO'].dt.year.value_counts()"
   ]
  },
  {
   "cell_type": "code",
   "execution_count": 135,
   "id": "fef724e4",
   "metadata": {
    "collapsed": true
   },
   "outputs": [
    {
     "data": {
      "text/plain": [
       "7/4/20 23:10      2\n",
       "6/12/20 22:25     2\n",
       "12/2/20 14:38     2\n",
       "7/6/20 14:32      2\n",
       "12/14/20 16:43    2\n",
       "                 ..\n",
       "11/16/20 18:53    1\n",
       "11/17/20 10:02    1\n",
       "11/17/20 13:35    1\n",
       "11/17/20 18:33    1\n",
       "12/31/20 20:49    1\n",
       "Name: DATAHORA_REGISTRO_BO, Length: 1007, dtype: int64"
      ]
     },
     "execution_count": 135,
     "metadata": {},
     "output_type": "execute_result"
    }
   ],
   "source": [
    "dados_2020['DATAHORA_REGISTRO_BO'].value_counts()"
   ]
  },
  {
   "cell_type": "code",
   "execution_count": 136,
   "id": "a34814bf",
   "metadata": {
    "collapsed": true
   },
   "outputs": [
    {
     "data": {
      "text/plain": [
       "dtype('O')"
      ]
     },
     "execution_count": 136,
     "metadata": {},
     "output_type": "execute_result"
    }
   ],
   "source": [
    "dados_2020['DATAHORA_REGISTRO_BO'].dtype"
   ]
  },
  {
   "cell_type": "code",
   "execution_count": 138,
   "id": "063edd07",
   "metadata": {},
   "outputs": [],
   "source": [
    "# criando nova variável data a partir  da variavel datahora do registro do boletim\n",
    "dados_2020['DATA_REGISTRO_BO'] = pd.to_datetime(dados_2020['DATAHORA_REGISTRO_BO']).dt.date"
   ]
  },
  {
   "cell_type": "code",
   "execution_count": 139,
   "id": "97a45a9b",
   "metadata": {},
   "outputs": [],
   "source": [
    "# Mudadndo o tipo da variavel para data\n",
    "dados_2020['DATA_REGISTRO_BO'] = pd.to_datetime(dados_2020['DATA_REGISTRO_BO'])"
   ]
  },
  {
   "cell_type": "code",
   "execution_count": 140,
   "id": "e080e85a",
   "metadata": {
    "collapsed": true
   },
   "outputs": [
    {
     "data": {
      "text/plain": [
       "6     276\n",
       "12    259\n",
       "7     235\n",
       "11    223\n",
       "10     11\n",
       "5       6\n",
       "8       5\n",
       "3       1\n",
       "4       1\n",
       "Name: DATA_REGISTRO_BO, dtype: int64"
      ]
     },
     "execution_count": 140,
     "metadata": {},
     "output_type": "execute_result"
    }
   ],
   "source": [
    "# Quantidade de registros por mês\n",
    "dados_2020['DATA_REGISTRO_BO'].dt.month.value_counts()"
   ]
  },
  {
   "cell_type": "markdown",
   "id": "063ecf74",
   "metadata": {},
   "source": [
    "Em 2020 obteve-se 1017 ocorrências com junho sendo o mês com maior concentração de registros,276, seguido de dezembro(259) e julho(235). O segundo semestre concentra apenas 72%  das denúncias."
   ]
  },
  {
   "cell_type": "code",
   "execution_count": 141,
   "id": "45f5e382",
   "metadata": {},
   "outputs": [
    {
     "data": {
      "text/plain": [
       "Series([], Name: DESDOBRAMENTO, dtype: int64)"
      ]
     },
     "execution_count": 141,
     "metadata": {},
     "output_type": "execute_result"
    }
   ],
   "source": [
    "dados_2020['DESDOBRAMENTO'].value_counts()"
   ]
  },
  {
   "cell_type": "code",
   "execution_count": 150,
   "id": "cdc79e43",
   "metadata": {
    "collapsed": true
   },
   "outputs": [
    {
     "data": {
      "text/plain": [
       "Outros não criminal                                                                 26.647001\n",
       "Injúria (art. 140)                                                                  23.598820\n",
       "Difamação (art. 139)                                                                14.454277\n",
       "Indeferido                                                                          13.470993\n",
       "Ameaça (art. 147)                                                                    9.341200\n",
       "Calúnia (art. 138)                                                                   5.998033\n",
       "Invasão de dispositivo informático                                                   1.376598\n",
       "Estelionato (art. 171)                                                               0.983284\n",
       "Perturbação da tranqüilidade (art. 65)                                               0.491642\n",
       "Perturbação do trabalho ou do sossego alheios (art. 42)                              0.491642\n",
       "Dano (art. 163)                                                                      0.393314\n",
       "Lesão corporal (art. 129)                                                            0.393314\n",
       "Praticar a discriminação (Art. 20)                                                   0.294985\n",
       "Vias de fato (art. 21)                                                               0.196657\n",
       "Delitos de Informática                                                               0.196657\n",
       "Constrangimento ilegal (art. 146)                                                    0.196657\n",
       "A.I.-Difamação (art. 139)                                                            0.098328\n",
       "Descumprimento de medida protetiva de urgência (art. 24-A)                           0.098328\n",
       "Art. 215A - Importunação Sexual                                                      0.098328\n",
       "Furto (art. 155)                                                                     0.098328\n",
       "Desacato (art. 331)                                                                  0.098328\n",
       "Deixar de prestar assitência ao idoso (Art. 97)                                      0.098328\n",
       "Dano qualificado (art. 163, par.único, I)                                            0.098328\n",
       "Art.216B -Produzir, fotografar, filmar ou registrar, por qualquer meio, conteúdo     0.098328\n",
       "Caput-Oferecer, trocar, disponibilizar, transmitir, distribuir, publicar (241A)      0.098328\n",
       "Divulgação de cena de estupro e imagens de nudez, sexo ou pornografia(Art.218-C)     0.098328\n",
       "Falsidade ideológica (art. 299)                                                      0.098328\n",
       "Exercício arbitrário das próprias razões (art. 345)                                  0.098328\n",
       "Desobediência (art. 330)                                                             0.098328\n",
       "Violação de domicílio (art. 150)                                                     0.098328\n",
       "Falsificação de documento particular ou falsificação de cartão                       0.098328\n",
       "Name: RUBRICA, dtype: float64"
      ]
     },
     "execution_count": 150,
     "metadata": {},
     "output_type": "execute_result"
    }
   ],
   "source": [
    "dados_2020['RUBRICA'].value_counts()*100/1017 "
   ]
  },
  {
   "cell_type": "code",
   "execution_count": 151,
   "id": "05deb5e2",
   "metadata": {
    "collapsed": true
   },
   "outputs": [
    {
     "data": {
      "text/plain": [
       "Religião                    2\n",
       "Cor                         1\n",
       "INTERIOR ESTABELECIMENTO    1\n",
       "Name: DESCR_CONDUTA, dtype: int64"
      ]
     },
     "execution_count": 151,
     "metadata": {},
     "output_type": "execute_result"
    }
   ],
   "source": [
    "dados_2020['DESCR_CONDUTA'].value_counts()"
   ]
  },
  {
   "cell_type": "markdown",
   "id": "ea99f4dd",
   "metadata": {},
   "source": [
    "26% das natureza juridica das ocorrências são denominadas como Outros não criminal, seguido de 24% injuria e 14% difamação.\n",
    "\n",
    "Em 2020 não há dados de desdobramentos juridicos envolvidos na ocorrencia. e Apenas 4 boletins tem circunstancia que qualifica a ocorrencia, dentre elas apenas 2 qualifica religião."
   ]
  },
  {
   "cell_type": "code",
   "execution_count": 160,
   "id": "8fbd0b18",
   "metadata": {
    "collapsed": true
   },
   "outputs": [
    {
     "data": {
      "text/plain": [
       "CENTRO            63\n",
       "AREA RURAL        15\n",
       "RURAL             11\n",
       "SACOMA            10\n",
       "CAPAO REDONDO      8\n",
       "                  ..\n",
       "VILA AMORIM        1\n",
       "JD BOTANICO I      1\n",
       "ITAGUASSU          1\n",
       "ELVIO LUPO         1\n",
       "JARDIM DO VALE     1\n",
       "Name: BAIRRO, Length: 614, dtype: int64"
      ]
     },
     "execution_count": 160,
     "metadata": {},
     "output_type": "execute_result"
    }
   ],
   "source": [
    "dados_2020['BAIRRO'].value_counts()"
   ]
  },
  {
   "cell_type": "code",
   "execution_count": 161,
   "id": "cbac7dcc",
   "metadata": {
    "collapsed": true
   },
   "outputs": [
    {
     "data": {
      "text/plain": [
       "S.PAULO                                     33.923304\n",
       "SOROCABA                                     3.244838\n",
       "S.JOSE DOS CAMPOS                            3.244838\n",
       "GUARULHOS                                    3.244838\n",
       "CAMPINAS                                     2.851524\n",
       "                                              ...    \n",
       "ITAQUAQUECETUBA                              0.098328\n",
       "S.SEBASTIAO                                  0.098328\n",
       "HORTOLANDIA                                  0.098328\n",
       "ORINDIUVA                                    0.098328\n",
       "DUMONT                                       0.098328\n",
       "Name: CIDADE, Length: 164, dtype: float64"
      ]
     },
     "execution_count": 161,
     "metadata": {},
     "output_type": "execute_result"
    }
   ],
   "source": [
    "dados_2020['CIDADE'].value_counts()*100/1017"
   ]
  },
  {
   "cell_type": "code",
   "execution_count": 162,
   "id": "7f762e75",
   "metadata": {
    "collapsed": true
   },
   "outputs": [
    {
     "data": {
      "text/plain": [
       "Via pública                   66.175025\n",
       "Residência                    16.715831\n",
       "Internet                       8.259587\n",
       "Comércio e serviços            2.753196\n",
       "Condominio Residencial         1.868240\n",
       "Saúde                          1.278269\n",
       "Terminal/Estação               0.688299\n",
       "Escritório                     0.393314\n",
       "Centro Comerc./Empresarial     0.294985\n",
       "Estabelecimento de ensino      0.294985\n",
       "Templo e afins                 0.196657\n",
       "Unidade rural                  0.196657\n",
       "Repartição Pública             0.196657\n",
       "Rodovia/Estrada                0.098328\n",
       "Serviços e bens públicos       0.098328\n",
       "Estabelecimento industrial     0.098328\n",
       "Entidade assistencial          0.098328\n",
       "Estabelecimento bancário       0.098328\n",
       "Lazer e recreação              0.098328\n",
       "Shopping Center                0.098328\n",
       "Name: DESCR_TIPOLOCAL, dtype: float64"
      ]
     },
     "execution_count": 162,
     "metadata": {},
     "output_type": "execute_result"
    }
   ],
   "source": [
    "#Descreve grupo de tipos de locais onde se deu o fato\n",
    "dados_2020['DESCR_TIPOLOCAL'].value_counts()*100/1017"
   ]
  },
  {
   "cell_type": "code",
   "execution_count": 157,
   "id": "84faea31",
   "metadata": {},
   "outputs": [],
   "source": [
    "dados_2020['DESCR_TIPOLOCAL'] = dados_2020['DESCR_TIPOLOCAL'].str.replace('Via Pública', 'Via pública', regex=True)"
   ]
  },
  {
   "cell_type": "code",
   "execution_count": 156,
   "id": "ff71bded",
   "metadata": {
    "collapsed": true
   },
   "outputs": [
    {
     "data": {
      "text/plain": [
       "Outros                                         721\n",
       "Casa                                           132\n",
       "Via pública                                     52\n",
       "Pela Internet                                   27\n",
       "Whatsapp                                        18\n",
       "Apartamentos                                    10\n",
       "Facebook                                         9\n",
       "Apartamento                                      6\n",
       "Hospital-Outros                                  5\n",
       "Instagram                                        4\n",
       "Pet-Shop                                         3\n",
       "Aplicativos de Mensagens                         3\n",
       "Mercado                                          2\n",
       "Area comum-                                      2\n",
       "Posto de Saúde                                   2\n",
       "Via pública-Defrente a residência da vítima      2\n",
       "Rodoviário-Outros                                1\n",
       "Chácara-Casa                                     1\n",
       "Via pública-Transeunte                           1\n",
       "Interior de veículo particular                   1\n",
       "Sitio-Casa                                       1\n",
       "Ensino fundamental                               1\n",
       "Casa de repouso-Outros                           1\n",
       "Site de Relacionamento                           1\n",
       "Clínica-Outros                                   1\n",
       "Albergue-Quarto                                  1\n",
       "Armazém/Empório                                  1\n",
       "Agência-Outros                                   1\n",
       "Oficina                                          1\n",
       "Consultório-Médico                               1\n",
       "Aplicativos de Relacionamento                    1\n",
       "Casa-Jardim/quintal                              1\n",
       "Casas                                            1\n",
       "Sinagoga                                         1\n",
       "Farmácia/Drogaria                                1\n",
       "Name: DESCR_SUBTIPOLOCAL, dtype: int64"
      ]
     },
     "execution_count": 156,
     "metadata": {},
     "output_type": "execute_result"
    }
   ],
   "source": [
    "#Descreve subgrupo de tipos de locais, vinculado ao tipo de local,  onde se deu o fato\n",
    "dados_2020['DESCR_SUBTIPOLOCAL'].value_counts()"
   ]
  },
  {
   "cell_type": "markdown",
   "id": "688111cf",
   "metadata": {},
   "source": [
    "As ocorrências acontecem mais no centro que em outros bairros e a cidade de São Paulo concentra 34% das denúncias.\n",
    "\n",
    "66% dos crimes acontecem em via pública, seguido da residência da vítma, 17%,  e 8% na internet."
   ]
  },
  {
   "cell_type": "markdown",
   "id": "61526034",
   "metadata": {},
   "source": [
    " - Criando dataframe segundo semestre 2020"
   ]
  },
  {
   "cell_type": "code",
   "execution_count": 183,
   "id": "6f7dffb2",
   "metadata": {
    "scrolled": true
   },
   "outputs": [],
   "source": [
    "# Ordenando os dados pela data de registro do boletim\n",
    "dados_2020 = dados_2020.sort_values(by=['DATA_REGISTRO_BO'])"
   ]
  },
  {
   "cell_type": "code",
   "execution_count": 204,
   "id": "00758f70",
   "metadata": {},
   "outputs": [],
   "source": [
    "# Criando dataframe para o segundo semestre\n",
    "dados_2020_2 = pd.DataFrame(dados_2020.iloc[284:])"
   ]
  },
  {
   "cell_type": "code",
   "execution_count": 207,
   "id": "0489be33",
   "metadata": {
    "collapsed": true
   },
   "outputs": [
    {
     "data": {
      "text/plain": [
       "12    259\n",
       "7     235\n",
       "11    223\n",
       "10     11\n",
       "8       5\n",
       "Name: DATA_REGISTRO_BO, dtype: int64"
      ]
     },
     "execution_count": 207,
     "metadata": {},
     "output_type": "execute_result"
    }
   ],
   "source": [
    "#mostrando os meses\n",
    "dados_2020_2['DATA_REGISTRO_BO'].dt.month.value_counts()"
   ]
  },
  {
   "cell_type": "code",
   "execution_count": 210,
   "id": "e2f3017a",
   "metadata": {
    "collapsed": true
   },
   "outputs": [
    {
     "data": {
      "text/plain": [
       "Outros não criminal                                                                 27.694407\n",
       "Injúria (art. 140)                                                                  23.328786\n",
       "Difamação (art. 139)                                                                14.597544\n",
       "Indeferido                                                                          14.051842\n",
       "Ameaça (art. 147)                                                                    8.458390\n",
       "Calúnia (art. 138)                                                                   5.320600\n",
       "Estelionato (art. 171)                                                               1.227831\n",
       "Invasão de dispositivo informático                                                   1.091405\n",
       "Perturbação da tranqüilidade (art. 65)                                               0.682128\n",
       "Perturbação do trabalho ou do sossego alheios (art. 42)                              0.545703\n",
       "Praticar a discriminação (Art. 20)                                                   0.409277\n",
       "Lesão corporal (art. 129)                                                            0.409277\n",
       "Dano (art. 163)                                                                      0.272851\n",
       "Delitos de Informática                                                               0.272851\n",
       "Art.216B -Produzir, fotografar, filmar ou registrar, por qualquer meio, conteúdo     0.136426\n",
       "Vias de fato (art. 21)                                                               0.136426\n",
       "Furto (art. 155)                                                                     0.136426\n",
       "Desacato (art. 331)                                                                  0.136426\n",
       "Desobediência (art. 330)                                                             0.136426\n",
       "Dano qualificado (art. 163, par.único, I)                                            0.136426\n",
       "Art. 215A - Importunação Sexual                                                      0.136426\n",
       "Exercício arbitrário das próprias razões (art. 345)                                  0.136426\n",
       "Deixar de prestar assitência ao idoso (Art. 97)                                      0.136426\n",
       "Caput-Oferecer, trocar, disponibilizar, transmitir, distribuir, publicar (241A)      0.136426\n",
       "Descumprimento de medida protetiva de urgência (art. 24-A)                           0.136426\n",
       "Falsificação de documento particular ou falsificação de cartão                       0.136426\n",
       "Name: RUBRICA, dtype: float64"
      ]
     },
     "execution_count": 210,
     "metadata": {},
     "output_type": "execute_result"
    }
   ],
   "source": [
    "dados_2020_2['RUBRICA'].value_counts()*100/733"
   ]
  },
  {
   "cell_type": "code",
   "execution_count": 211,
   "id": "a550fa89",
   "metadata": {
    "collapsed": true
   },
   "outputs": [
    {
     "data": {
      "text/plain": [
       "Religião                    2\n",
       "Cor                         1\n",
       "INTERIOR ESTABELECIMENTO    1\n",
       "Name: DESCR_CONDUTA, dtype: int64"
      ]
     },
     "execution_count": 211,
     "metadata": {},
     "output_type": "execute_result"
    }
   ],
   "source": [
    "dados_2020_2['DESCR_CONDUTA'].value_counts()"
   ]
  },
  {
   "cell_type": "markdown",
   "id": "ced20f2c",
   "metadata": {},
   "source": [
    "No segundo semestre os dados de natureza juridica das ocorrências se dão da mesma forma que em todo 2020 a maioria são denominadas como Outros não criminal, seguido de 23% injuria e 14% difamação.\n",
    "\n",
    "Em 2020/2 não há dados de desdobramentos juridicos envolvidos na ocorrencia. E todos os 4 boletins que possui circunstancia que qualifica a ocorrencia são referentes a esse semestre."
   ]
  },
  {
   "cell_type": "code",
   "execution_count": 212,
   "id": "5689dc55",
   "metadata": {
    "collapsed": true
   },
   "outputs": [
    {
     "data": {
      "text/plain": [
       "CENTRO            43\n",
       "RURAL              9\n",
       "AREA RURAL         9\n",
       "BELA VISTA         7\n",
       "FREGUESIA DO O     6\n",
       "                  ..\n",
       "JD GABRIELA        1\n",
       "CENTO E VINTE      1\n",
       "TAMBORE            1\n",
       "BARCELONA          1\n",
       "CONSOLACAO         1\n",
       "Name: BAIRRO, Length: 478, dtype: int64"
      ]
     },
     "execution_count": 212,
     "metadata": {},
     "output_type": "execute_result"
    }
   ],
   "source": [
    "dados_2020_2['BAIRRO'].value_counts()"
   ]
  },
  {
   "cell_type": "code",
   "execution_count": 213,
   "id": "4b2b961d",
   "metadata": {
    "collapsed": true
   },
   "outputs": [
    {
     "data": {
      "text/plain": [
       "S.PAULO                                     33.560709\n",
       "S.JOSE DOS CAMPOS                            3.956344\n",
       "GUARULHOS                                    3.410641\n",
       "SOROCABA                                     3.274216\n",
       "CAMPINAS                                     2.728513\n",
       "                                              ...    \n",
       "PIRASSUNUNGA                                 0.136426\n",
       "CATANDUVA                                    0.136426\n",
       "ITAQUAQUECETUBA                              0.136426\n",
       "CESARIO LANGE                                0.136426\n",
       "BOTUCATU                                     0.136426\n",
       "Name: CIDADE, Length: 138, dtype: float64"
      ]
     },
     "execution_count": 213,
     "metadata": {},
     "output_type": "execute_result"
    }
   ],
   "source": [
    "dados_2020_2['CIDADE'].value_counts()*100/733"
   ]
  },
  {
   "cell_type": "code",
   "execution_count": 214,
   "id": "2d53787d",
   "metadata": {
    "collapsed": true
   },
   "outputs": [
    {
     "data": {
      "text/plain": [
       "Via pública                   67.530696\n",
       "Residência                    16.371078\n",
       "Internet                       7.230559\n",
       "Comércio e serviços            3.137790\n",
       "Condominio Residencial         1.909959\n",
       "Saúde                          1.227831\n",
       "Terminal/Estação               0.545703\n",
       "Escritório                     0.409277\n",
       "Rodovia/Estrada                0.136426\n",
       "Shopping Center                0.136426\n",
       "Unidade rural                  0.136426\n",
       "Estabelecimento bancário       0.136426\n",
       "Centro Comerc./Empresarial     0.136426\n",
       "Templo e afins                 0.136426\n",
       "Estabelecimento de ensino      0.136426\n",
       "Repartição Pública             0.136426\n",
       "Lazer e recreação              0.136426\n",
       "Serviços e bens públicos       0.136426\n",
       "Entidade assistencial          0.136426\n",
       "Estabelecimento industrial     0.136426\n",
       "Name: DESCR_TIPOLOCAL, dtype: float64"
      ]
     },
     "execution_count": 214,
     "metadata": {},
     "output_type": "execute_result"
    }
   ],
   "source": [
    "#Descreve grupo de tipos de locais onde se deu o fato\n",
    "dados_2020_2['DESCR_TIPOLOCAL'].value_counts()*100/733"
   ]
  },
  {
   "cell_type": "code",
   "execution_count": 215,
   "id": "5096e02e",
   "metadata": {
    "collapsed": true
   },
   "outputs": [
    {
     "data": {
      "text/plain": [
       "Outros                                         538\n",
       "Casa                                            90\n",
       "Via pública                                     29\n",
       "Pela Internet                                   15\n",
       "Whatsapp                                        14\n",
       "Apartamentos                                     6\n",
       "Facebook                                         6\n",
       "Apartamento                                      4\n",
       "Instagram                                        3\n",
       "Mercado                                          2\n",
       "Hospital-Outros                                  2\n",
       "Pet-Shop                                         2\n",
       "Area comum-                                      2\n",
       "Posto de Saúde                                   2\n",
       "Consultório-Médico                               1\n",
       "Site de Relacionamento                           1\n",
       "Chácara-Casa                                     1\n",
       "Agência-Outros                                   1\n",
       "Via pública-Transeunte                           1\n",
       "Interior de veículo particular                   1\n",
       "Ensino fundamental                               1\n",
       "Oficina                                          1\n",
       "Casa de repouso-Outros                           1\n",
       "Via pública-Defrente a residência da vítima      1\n",
       "Rodoviário-Outros                                1\n",
       "Casa-Jardim/quintal                              1\n",
       "Aplicativos de Mensagens                         1\n",
       "Sinagoga                                         1\n",
       "Clínica-Outros                                   1\n",
       "Albergue-Quarto                                  1\n",
       "Aplicativos de Relacionamento                    1\n",
       "Farmácia/Drogaria                                1\n",
       "Name: DESCR_SUBTIPOLOCAL, dtype: int64"
      ]
     },
     "execution_count": 215,
     "metadata": {},
     "output_type": "execute_result"
    }
   ],
   "source": [
    "#Descreve subgrupo de tipos de locais, vinculado ao tipo de local,  onde se deu o fato\n",
    "dados_2020_2['DESCR_SUBTIPOLOCAL'].value_counts()"
   ]
  },
  {
   "cell_type": "markdown",
   "id": "6a862d62",
   "metadata": {},
   "source": [
    "As localidades das ocorrências para o segundo semestre segue o padrão de todo o 2020"
   ]
  },
  {
   "cell_type": "markdown",
   "id": "fe17d238",
   "metadata": {},
   "source": [
    " #### Vítimas e Autor\n",
    " \n",
    " Aqui foram considerados todas as linhas já que estamos olhando para o universo das vítimas e agressor. Foram excluido dados da variavel Flag_intolerancia quando N e X, alaém de dados fora da janela temporal analisada."
   ]
  },
  {
   "cell_type": "code",
   "execution_count": 217,
   "id": "0816edce",
   "metadata": {},
   "outputs": [],
   "source": [
    "dados2 = pd.read_csv('bases/dados_sp.csv')"
   ]
  },
  {
   "cell_type": "code",
   "execution_count": 219,
   "id": "6d3a2c81",
   "metadata": {},
   "outputs": [],
   "source": [
    "dados2_ = pd.DataFrame(dados2.loc[dados2['FLAG_INTOLERANCIA'] == 'S'])"
   ]
  },
  {
   "cell_type": "code",
   "execution_count": 220,
   "id": "a02c8e20",
   "metadata": {},
   "outputs": [
    {
     "data": {
      "text/plain": [
       "2021    18912\n",
       "2020    14636\n",
       "2019     8062\n",
       "2018       10\n",
       "Name: ANO_BO, dtype: int64"
      ]
     },
     "execution_count": 220,
     "metadata": {},
     "output_type": "execute_result"
    }
   ],
   "source": [
    "dados2_['ANO_BO'].value_counts()"
   ]
  },
  {
   "cell_type": "code",
   "execution_count": 221,
   "id": "a0a8dfd6",
   "metadata": {},
   "outputs": [],
   "source": [
    "dados2_ = pd.DataFrame(dados2_.loc[dados2_['ANO_BO'] != 2018])"
   ]
  },
  {
   "cell_type": "code",
   "execution_count": 222,
   "id": "eaa0fb74",
   "metadata": {},
   "outputs": [
    {
     "data": {
      "text/plain": [
       "2021    18912\n",
       "2020    14636\n",
       "2019     8062\n",
       "Name: ANO_BO, dtype: int64"
      ]
     },
     "execution_count": 222,
     "metadata": {},
     "output_type": "execute_result"
    }
   ],
   "source": [
    "dados2_['ANO_BO'].value_counts()"
   ]
  },
  {
   "cell_type": "markdown",
   "id": "ddd82682",
   "metadata": {},
   "source": [
    "Analisando os dados apenas para o ano de 2020"
   ]
  },
  {
   "cell_type": "code",
   "execution_count": 223,
   "id": "22a25715",
   "metadata": {},
   "outputs": [],
   "source": [
    "dados2_2020 = pd.DataFrame(dados2_.loc[dados2_['ANO_BO'] == 2020])"
   ]
  },
  {
   "cell_type": "code",
   "execution_count": 231,
   "id": "349cab47",
   "metadata": {},
   "outputs": [
    {
     "data": {
      "text/plain": [
       "Vítima                  7951\n",
       "Autor                   6680\n",
       "Autor/Vitima               5\n",
       "Name: DESCR_TIPO_PESSOA, dtype: int64"
      ]
     },
     "execution_count": 231,
     "metadata": {},
     "output_type": "execute_result"
    }
   ],
   "source": [
    "dados2_2020['DESCR_TIPO_PESSOA'].value_counts()"
   ]
  },
  {
   "cell_type": "code",
   "execution_count": 233,
   "id": "04d8f4be",
   "metadata": {},
   "outputs": [
    {
     "data": {
      "text/plain": [
       "['Autor               ', 'Vítima              ', 'Autor/Vitima        ']"
      ]
     },
     "execution_count": 233,
     "metadata": {},
     "output_type": "execute_result"
    }
   ],
   "source": [
    "dados2_2020['DESCR_TIPO_PESSOA'].unique().tolist()"
   ]
  },
  {
   "cell_type": "code",
   "execution_count": 235,
   "id": "cc198ad8",
   "metadata": {},
   "outputs": [],
   "source": [
    "for (row, col) in dados2_2020.iterrows():\n",
    "    if col.DESCR_TIPO_PESSOA == 'Vítima              ':\n",
    "        dados2_2020['DESCR_TIPO_PESSOA'].replace(to_replace=col.DESCR_TIPO_PESSOA, value='Vítima', inplace=True)\n",
    "    if col.DESCR_TIPO_PESSOA == 'Autor               ':\n",
    "        dados2_2020['DESCR_TIPO_PESSOA'].replace(to_replace=col.DESCR_TIPO_PESSOA, value='Autor', inplace=True)\n",
    "    if col.DESCR_TIPO_PESSOA == 'Autor/Vitima        ':\n",
    "        dados2_2020['DESCR_TIPO_PESSOA'].replace(to_replace=col.DESCR_TIPO_PESSOA, value='Autor/Vitima', inplace=True)"
   ]
  },
  {
   "cell_type": "markdown",
   "id": "2bb294d0",
   "metadata": {},
   "source": [
    "Foram registrados 7951 vítimas e 6680 autores, com 5 enquadramentos como Autor/Vitima em 2020 para as 1017 denúncias realizadas."
   ]
  },
  {
   "cell_type": "markdown",
   "id": "6df8766b",
   "metadata": {},
   "source": [
    "- Vitimas"
   ]
  },
  {
   "cell_type": "code",
   "execution_count": 236,
   "id": "64e17d7a",
   "metadata": {},
   "outputs": [],
   "source": [
    "dados_vit_2020 = pd.DataFrame(dados2_2020.loc[dados2_2020['DESCR_TIPO_PESSOA'] == 'Vítima'])"
   ]
  },
  {
   "cell_type": "code",
   "execution_count": 239,
   "id": "fe107ccd",
   "metadata": {
    "collapsed": true
   },
   "outputs": [
    {
     "data": {
      "text/plain": [
       "F    64.432147\n",
       "M    35.379198\n",
       "I     0.188656\n",
       "Name: SEXO_PESSOA, dtype: float64"
      ]
     },
     "execution_count": 239,
     "metadata": {},
     "output_type": "execute_result"
    }
   ],
   "source": [
    "dados_vit_2020['SEXO_PESSOA'].value_counts()*100/7951"
   ]
  },
  {
   "cell_type": "code",
   "execution_count": 238,
   "id": "3e6b4816",
   "metadata": {
    "collapsed": true
   },
   "outputs": [
    {
     "data": {
      "text/plain": [
       "<AxesSubplot:>"
      ]
     },
     "execution_count": 238,
     "metadata": {},
     "output_type": "execute_result"
    },
    {
     "data": {
      "image/png": "[encoded data removed]",
      "text/plain": [
       "<Figure size 432x288 with 1 Axes>"
      ]
     },
     "metadata": {
      "needs_background": "light"
     },
     "output_type": "display_data"
    }
   ],
   "source": [
    "dados_vit_2020['SEXO_PESSOA'].value_counts().plot(kind='barh')"
   ]
  },
  {
   "cell_type": "code",
   "execution_count": 240,
   "id": "00ce806d",
   "metadata": {
    "collapsed": true
   },
   "outputs": [
    {
     "data": {
      "text/plain": [
       "Branca                  49\n",
       "Parda                    9\n",
       "Preta                    7\n",
       "Outros                   2\n",
       "Name: COR_CUTIS, dtype: int64"
      ]
     },
     "execution_count": 240,
     "metadata": {},
     "output_type": "execute_result"
    }
   ],
   "source": [
    "dados_vit_2020['COR_CUTIS'].value_counts()"
   ]
  },
  {
   "cell_type": "code",
   "execution_count": 241,
   "id": "966efb2d",
   "metadata": {},
   "outputs": [
    {
     "data": {
      "text/plain": [
       "True     7884\n",
       "False      67\n",
       "Name: COR_CUTIS, dtype: int64"
      ]
     },
     "execution_count": 241,
     "metadata": {},
     "output_type": "execute_result"
    }
   ],
   "source": [
    "dados_vit_2020['COR_CUTIS'].isnull().value_counts()"
   ]
  },
  {
   "cell_type": "code",
   "execution_count": 244,
   "id": "11112a3d",
   "metadata": {
    "collapsed": true
   },
   "outputs": [
    {
     "data": {
      "text/plain": [
       "<AxesSubplot:>"
      ]
     },
     "execution_count": 244,
     "metadata": {},
     "output_type": "execute_result"
    },
    {
     "data": {
      "image/png": "[encoded data removed]",
      "text/plain": [
       "<Figure size 432x288 with 1 Axes>"
      ]
     },
     "metadata": {
      "needs_background": "light"
     },
     "output_type": "display_data"
    }
   ],
   "source": [
    "dados_vit_2020['IDADE_PESSOA'].hist()"
   ]
  },
  {
   "cell_type": "code",
   "execution_count": 250,
   "id": "39b7116e",
   "metadata": {
    "collapsed": true
   },
   "outputs": [
    {
     "data": {
      "text/plain": [
       "count    7933.000000\n",
       "mean       37.121644\n",
       "std        11.872875\n",
       "min        10.000000\n",
       "25%        28.000000\n",
       "50%        36.000000\n",
       "75%        44.000000\n",
       "max       133.000000\n",
       "Name: IDADE_PESSOA, dtype: float64"
      ]
     },
     "execution_count": 250,
     "metadata": {},
     "output_type": "execute_result"
    }
   ],
   "source": [
    "dados_vit_2020['IDADE_PESSOA'].describe()"
   ]
  },
  {
   "cell_type": "code",
   "execution_count": 251,
   "id": "07d473b9",
   "metadata": {
    "collapsed": true
   },
   "outputs": [
    {
     "data": {
      "text/html": [
       "<div>\n",
       "<style scoped>\n",
       "    .dataframe tbody tr th:only-of-type {\n",
       "        vertical-align: middle;\n",
       "    }\n",
       "\n",
       "    .dataframe tbody tr th {\n",
       "        vertical-align: top;\n",
       "    }\n",
       "\n",
       "    .dataframe thead tr th {\n",
       "        text-align: left;\n",
       "    }\n",
       "\n",
       "    .dataframe thead tr:last-of-type th {\n",
       "        text-align: right;\n",
       "    }\n",
       "</style>\n",
       "<table border=\"1\" class=\"dataframe\">\n",
       "  <thead>\n",
       "    <tr>\n",
       "      <th></th>\n",
       "      <th colspan=\"8\" halign=\"left\">IDADE_PESSOA</th>\n",
       "    </tr>\n",
       "    <tr>\n",
       "      <th></th>\n",
       "      <th>count</th>\n",
       "      <th>mean</th>\n",
       "      <th>std</th>\n",
       "      <th>min</th>\n",
       "      <th>25%</th>\n",
       "      <th>50%</th>\n",
       "      <th>75%</th>\n",
       "      <th>max</th>\n",
       "    </tr>\n",
       "    <tr>\n",
       "      <th>SEXO_PESSOA</th>\n",
       "      <th></th>\n",
       "      <th></th>\n",
       "      <th></th>\n",
       "      <th></th>\n",
       "      <th></th>\n",
       "      <th></th>\n",
       "      <th></th>\n",
       "      <th></th>\n",
       "    </tr>\n",
       "  </thead>\n",
       "  <tbody>\n",
       "    <tr>\n",
       "      <th>F</th>\n",
       "      <td>5122.0</td>\n",
       "      <td>36.409215</td>\n",
       "      <td>11.617482</td>\n",
       "      <td>17.0</td>\n",
       "      <td>27.0</td>\n",
       "      <td>35.0</td>\n",
       "      <td>43.0</td>\n",
       "      <td>89.0</td>\n",
       "    </tr>\n",
       "    <tr>\n",
       "      <th>I</th>\n",
       "      <td>1.0</td>\n",
       "      <td>10.000000</td>\n",
       "      <td>NaN</td>\n",
       "      <td>10.0</td>\n",
       "      <td>10.0</td>\n",
       "      <td>10.0</td>\n",
       "      <td>10.0</td>\n",
       "      <td>10.0</td>\n",
       "    </tr>\n",
       "    <tr>\n",
       "      <th>M</th>\n",
       "      <td>2810.0</td>\n",
       "      <td>38.429893</td>\n",
       "      <td>12.210779</td>\n",
       "      <td>18.0</td>\n",
       "      <td>30.0</td>\n",
       "      <td>37.0</td>\n",
       "      <td>45.0</td>\n",
       "      <td>133.0</td>\n",
       "    </tr>\n",
       "  </tbody>\n",
       "</table>\n",
       "</div>"
      ],
      "text/plain": [
       "            IDADE_PESSOA                                                     \n",
       "                   count       mean        std   min   25%   50%   75%    max\n",
       "SEXO_PESSOA                                                                  \n",
       "F                 5122.0  36.409215  11.617482  17.0  27.0  35.0  43.0   89.0\n",
       "I                    1.0  10.000000        NaN  10.0  10.0  10.0  10.0   10.0\n",
       "M                 2810.0  38.429893  12.210779  18.0  30.0  37.0  45.0  133.0"
      ]
     },
     "execution_count": 251,
     "metadata": {},
     "output_type": "execute_result"
    }
   ],
   "source": [
    "dados_vit_2020.filter(items=['IDADE_PESSOA']).groupby(dados_vit_2020['SEXO_PESSOA']).describe()"
   ]
  },
  {
   "cell_type": "code",
   "execution_count": 245,
   "id": "2c298fe0",
   "metadata": {
    "collapsed": true
   },
   "outputs": [
    {
     "data": {
      "text/plain": [
       "2 Grau completo                             14\n",
       "Superior completo                           14\n",
       "1 Grau incompleto                            8\n",
       "Superior incompleto                          5\n",
       "1 Grau completo                              2\n",
       "2 Grau incompleto                            1\n",
       "Name: DESCR_GRAU_INSTRUCAO, dtype: int64"
      ]
     },
     "execution_count": 245,
     "metadata": {},
     "output_type": "execute_result"
    }
   ],
   "source": [
    "dados_vit_2020['DESCR_GRAU_INSTRUCAO'].value_counts()"
   ]
  },
  {
   "cell_type": "code",
   "execution_count": 246,
   "id": "d78afe65",
   "metadata": {
    "collapsed": true
   },
   "outputs": [
    {
     "data": {
      "text/plain": [
       "True     7907\n",
       "False      44\n",
       "Name: DESCR_GRAU_INSTRUCAO, dtype: int64"
      ]
     },
     "execution_count": 246,
     "metadata": {},
     "output_type": "execute_result"
    }
   ],
   "source": [
    "dados_vit_2020['DESCR_GRAU_INSTRUCAO'].isnull().value_counts()"
   ]
  },
  {
   "cell_type": "code",
   "execution_count": 247,
   "id": "efc012cc",
   "metadata": {
    "collapsed": true
   },
   "outputs": [
    {
     "data": {
      "text/plain": [
       "AUTONOMO(A)                       587\n",
       "DO LAR                            534\n",
       "PROFESSOR(A)                      284\n",
       "DESEMPREGADO(A)                   247\n",
       "VENDEDOR(A)                       226\n",
       "                                 ... \n",
       "TECNICO(A) TELEFONIA                1\n",
       "BARMAN                              1\n",
       "ATENDENTE PORTARIA HOTEL            1\n",
       "BORRACHEIRO(A)                      1\n",
       "ROTEIRISTA                          1\n",
       "Name: DESCR_PROFISSAO, Length: 451, dtype: int64"
      ]
     },
     "execution_count": 247,
     "metadata": {},
     "output_type": "execute_result"
    }
   ],
   "source": [
    "dados_vit_2020['DESCR_PROFISSAO'].value_counts()"
   ]
  },
  {
   "cell_type": "code",
   "execution_count": 248,
   "id": "9970b292",
   "metadata": {
    "scrolled": false
   },
   "outputs": [
    {
     "data": {
      "text/plain": [
       "False    7925\n",
       "True       26\n",
       "Name: DESCR_PROFISSAO, dtype: int64"
      ]
     },
     "execution_count": 248,
     "metadata": {},
     "output_type": "execute_result"
    }
   ],
   "source": [
    "dados_vit_2020['DESCR_PROFISSAO'].isnull().value_counts()"
   ]
  },
  {
   "cell_type": "code",
   "execution_count": 252,
   "id": "e52188e6",
   "metadata": {
    "collapsed": true
   },
   "outputs": [
    {
     "data": {
      "text/html": [
       "<div>\n",
       "<style scoped>\n",
       "    .dataframe tbody tr th:only-of-type {\n",
       "        vertical-align: middle;\n",
       "    }\n",
       "\n",
       "    .dataframe tbody tr th {\n",
       "        vertical-align: top;\n",
       "    }\n",
       "\n",
       "    .dataframe thead tr th {\n",
       "        text-align: left;\n",
       "    }\n",
       "\n",
       "    .dataframe thead tr:last-of-type th {\n",
       "        text-align: right;\n",
       "    }\n",
       "</style>\n",
       "<table border=\"1\" class=\"dataframe\">\n",
       "  <thead>\n",
       "    <tr>\n",
       "      <th></th>\n",
       "      <th colspan=\"4\" halign=\"left\">DESCR_PROFISSAO</th>\n",
       "    </tr>\n",
       "    <tr>\n",
       "      <th></th>\n",
       "      <th>count</th>\n",
       "      <th>unique</th>\n",
       "      <th>top</th>\n",
       "      <th>freq</th>\n",
       "    </tr>\n",
       "    <tr>\n",
       "      <th>SEXO_PESSOA</th>\n",
       "      <th></th>\n",
       "      <th></th>\n",
       "      <th></th>\n",
       "      <th></th>\n",
       "    </tr>\n",
       "  </thead>\n",
       "  <tbody>\n",
       "    <tr>\n",
       "      <th>F</th>\n",
       "      <td>5115</td>\n",
       "      <td>316</td>\n",
       "      <td>DO LAR</td>\n",
       "      <td>531</td>\n",
       "    </tr>\n",
       "    <tr>\n",
       "      <th>I</th>\n",
       "      <td>0</td>\n",
       "      <td>0</td>\n",
       "      <td>NaN</td>\n",
       "      <td>NaN</td>\n",
       "    </tr>\n",
       "    <tr>\n",
       "      <th>M</th>\n",
       "      <td>2810</td>\n",
       "      <td>366</td>\n",
       "      <td>AUTONOMO(A)</td>\n",
       "      <td>227</td>\n",
       "    </tr>\n",
       "  </tbody>\n",
       "</table>\n",
       "</div>"
      ],
      "text/plain": [
       "            DESCR_PROFISSAO                                            \n",
       "                      count unique                             top freq\n",
       "SEXO_PESSOA                                                            \n",
       "F                      5115    316  DO LAR                          531\n",
       "I                         0      0                             NaN  NaN\n",
       "M                      2810    366  AUTONOMO(A)                     227"
      ]
     },
     "execution_count": 252,
     "metadata": {},
     "output_type": "execute_result"
    }
   ],
   "source": [
    "dados_vit_2020.filter(items=['DESCR_PROFISSAO']).groupby(dados_vit_2020['SEXO_PESSOA']).describe()"
   ]
  },
  {
   "cell_type": "code",
   "execution_count": 249,
   "id": "c4ad4e6f",
   "metadata": {
    "collapsed": true
   },
   "outputs": [
    {
     "data": {
      "text/plain": [
       "SÃO PAULO                   1211\n",
       "SAO PAULO                    328\n",
       "SP                           288\n",
       "SÃO PAULO - SP               269\n",
       "BRASILEIRA                   132\n",
       "                            ... \n",
       "MAIRINQUE                      1\n",
       "SAO BERNARDO DO CAMPO SP       1\n",
       "MARINGÁ PR                     1\n",
       "PAULÍNIA/SP                    1\n",
       "EUNÁPOLIS- BA                  1\n",
       "Name: NATURALIDADE_PESSOA, Length: 2215, dtype: int64"
      ]
     },
     "execution_count": 249,
     "metadata": {},
     "output_type": "execute_result"
    }
   ],
   "source": [
    "dados_vit_2020['NATURALIDADE_PESSOA'].value_counts()"
   ]
  },
  {
   "cell_type": "markdown",
   "id": "8aaadadc",
   "metadata": {},
   "source": [
    "64% das vítimas são mulheres com média de 36 anos, sendo sua maioria mulheres do lar e naturalizadas de São Paulo."
   ]
  },
  {
   "cell_type": "markdown",
   "id": "dcf9ccd0",
   "metadata": {},
   "source": [
    " - Autor"
   ]
  },
  {
   "cell_type": "code",
   "execution_count": 253,
   "id": "eac9f22c",
   "metadata": {},
   "outputs": [],
   "source": [
    "dados_aut_2020 = pd.DataFrame(dados2_2020.loc[dados2_2020['DESCR_TIPO_PESSOA'] == 'Autor'])"
   ]
  },
  {
   "cell_type": "code",
   "execution_count": 254,
   "id": "b356ceff",
   "metadata": {
    "scrolled": true
   },
   "outputs": [
    {
     "data": {
      "text/plain": [
       "I    97.529940\n",
       "M     1.497006\n",
       "F     0.973054\n",
       "Name: SEXO_PESSOA, dtype: float64"
      ]
     },
     "execution_count": 254,
     "metadata": {},
     "output_type": "execute_result"
    }
   ],
   "source": [
    "dados_aut_2020['SEXO_PESSOA'].value_counts()*100/6680"
   ]
  },
  {
   "cell_type": "code",
   "execution_count": 255,
   "id": "ebe68475",
   "metadata": {
    "collapsed": true
   },
   "outputs": [
    {
     "data": {
      "text/plain": [
       "<AxesSubplot:>"
      ]
     },
     "execution_count": 255,
     "metadata": {},
     "output_type": "execute_result"
    },
    {
     "data": {
      "image/png": "[encoded data removed]",
      "text/plain": [
       "<Figure size 432x288 with 1 Axes>"
      ]
     },
     "metadata": {
      "needs_background": "light"
     },
     "output_type": "display_data"
    }
   ],
   "source": [
    "dados_aut_2020['SEXO_PESSOA'].value_counts().plot(kind='barh')"
   ]
  },
  {
   "cell_type": "code",
   "execution_count": 256,
   "id": "69dfc862",
   "metadata": {},
   "outputs": [
    {
     "data": {
      "text/plain": [
       "Branca                  40\n",
       "Preta                    8\n",
       "Parda                    6\n",
       "Não informada            3\n",
       "Outros                   3\n",
       "Name: COR_CUTIS, dtype: int64"
      ]
     },
     "execution_count": 256,
     "metadata": {},
     "output_type": "execute_result"
    }
   ],
   "source": [
    "dados_aut_2020['COR_CUTIS'].value_counts()"
   ]
  },
  {
   "cell_type": "code",
   "execution_count": 257,
   "id": "4ea330d5",
   "metadata": {},
   "outputs": [
    {
     "data": {
      "text/plain": [
       "True     6620\n",
       "False      60\n",
       "Name: COR_CUTIS, dtype: int64"
      ]
     },
     "execution_count": 257,
     "metadata": {},
     "output_type": "execute_result"
    }
   ],
   "source": [
    "dados_aut_2020['COR_CUTIS'].isnull().value_counts()"
   ]
  },
  {
   "cell_type": "code",
   "execution_count": 258,
   "id": "2e31c5ed",
   "metadata": {
    "collapsed": true
   },
   "outputs": [
    {
     "data": {
      "text/plain": [
       "<AxesSubplot:>"
      ]
     },
     "execution_count": 258,
     "metadata": {},
     "output_type": "execute_result"
    },
    {
     "data": {
      "image/png": "[encoded data removed]",
      "text/plain": [
       "<Figure size 432x288 with 1 Axes>"
      ]
     },
     "metadata": {
      "needs_background": "light"
     },
     "output_type": "display_data"
    }
   ],
   "source": [
    "dados_aut_2020['IDADE_PESSOA'].hist()"
   ]
  },
  {
   "cell_type": "code",
   "execution_count": 259,
   "id": "3d89ba8b",
   "metadata": {
    "collapsed": true
   },
   "outputs": [
    {
     "data": {
      "text/plain": [
       "count    80.000000\n",
       "mean     40.900000\n",
       "std      10.491226\n",
       "min      25.000000\n",
       "25%      34.000000\n",
       "50%      38.000000\n",
       "75%      45.000000\n",
       "max      73.000000\n",
       "Name: IDADE_PESSOA, dtype: float64"
      ]
     },
     "execution_count": 259,
     "metadata": {},
     "output_type": "execute_result"
    }
   ],
   "source": [
    "dados_aut_2020['IDADE_PESSOA'].describe()"
   ]
  },
  {
   "cell_type": "code",
   "execution_count": 261,
   "id": "37cad155",
   "metadata": {},
   "outputs": [
    {
     "data": {
      "text/plain": [
       "True     6600\n",
       "False      80\n",
       "Name: IDADE_PESSOA, dtype: int64"
      ]
     },
     "execution_count": 261,
     "metadata": {},
     "output_type": "execute_result"
    }
   ],
   "source": [
    "dados_aut_2020['IDADE_PESSOA'].isnull().value_counts()"
   ]
  },
  {
   "cell_type": "code",
   "execution_count": 260,
   "id": "0309a8e8",
   "metadata": {
    "collapsed": true
   },
   "outputs": [
    {
     "data": {
      "text/html": [
       "<div>\n",
       "<style scoped>\n",
       "    .dataframe tbody tr th:only-of-type {\n",
       "        vertical-align: middle;\n",
       "    }\n",
       "\n",
       "    .dataframe tbody tr th {\n",
       "        vertical-align: top;\n",
       "    }\n",
       "\n",
       "    .dataframe thead tr th {\n",
       "        text-align: left;\n",
       "    }\n",
       "\n",
       "    .dataframe thead tr:last-of-type th {\n",
       "        text-align: right;\n",
       "    }\n",
       "</style>\n",
       "<table border=\"1\" class=\"dataframe\">\n",
       "  <thead>\n",
       "    <tr>\n",
       "      <th></th>\n",
       "      <th colspan=\"8\" halign=\"left\">IDADE_PESSOA</th>\n",
       "    </tr>\n",
       "    <tr>\n",
       "      <th></th>\n",
       "      <th>count</th>\n",
       "      <th>mean</th>\n",
       "      <th>std</th>\n",
       "      <th>min</th>\n",
       "      <th>25%</th>\n",
       "      <th>50%</th>\n",
       "      <th>75%</th>\n",
       "      <th>max</th>\n",
       "    </tr>\n",
       "    <tr>\n",
       "      <th>SEXO_PESSOA</th>\n",
       "      <th></th>\n",
       "      <th></th>\n",
       "      <th></th>\n",
       "      <th></th>\n",
       "      <th></th>\n",
       "      <th></th>\n",
       "      <th></th>\n",
       "      <th></th>\n",
       "    </tr>\n",
       "  </thead>\n",
       "  <tbody>\n",
       "    <tr>\n",
       "      <th>F</th>\n",
       "      <td>23.0</td>\n",
       "      <td>39.739130</td>\n",
       "      <td>10.480360</td>\n",
       "      <td>25.0</td>\n",
       "      <td>34.0</td>\n",
       "      <td>36.0</td>\n",
       "      <td>44.0</td>\n",
       "      <td>63.0</td>\n",
       "    </tr>\n",
       "    <tr>\n",
       "      <th>I</th>\n",
       "      <td>0.0</td>\n",
       "      <td>NaN</td>\n",
       "      <td>NaN</td>\n",
       "      <td>NaN</td>\n",
       "      <td>NaN</td>\n",
       "      <td>NaN</td>\n",
       "      <td>NaN</td>\n",
       "      <td>NaN</td>\n",
       "    </tr>\n",
       "    <tr>\n",
       "      <th>M</th>\n",
       "      <td>57.0</td>\n",
       "      <td>41.368421</td>\n",
       "      <td>10.551966</td>\n",
       "      <td>26.0</td>\n",
       "      <td>34.0</td>\n",
       "      <td>40.0</td>\n",
       "      <td>45.0</td>\n",
       "      <td>73.0</td>\n",
       "    </tr>\n",
       "  </tbody>\n",
       "</table>\n",
       "</div>"
      ],
      "text/plain": [
       "            IDADE_PESSOA                                                    \n",
       "                   count       mean        std   min   25%   50%   75%   max\n",
       "SEXO_PESSOA                                                                 \n",
       "F                   23.0  39.739130  10.480360  25.0  34.0  36.0  44.0  63.0\n",
       "I                    0.0        NaN        NaN   NaN   NaN   NaN   NaN   NaN\n",
       "M                   57.0  41.368421  10.551966  26.0  34.0  40.0  45.0  73.0"
      ]
     },
     "execution_count": 260,
     "metadata": {},
     "output_type": "execute_result"
    }
   ],
   "source": [
    "dados_aut_2020.filter(items=['IDADE_PESSOA']).groupby(dados_aut_2020['SEXO_PESSOA']).describe()"
   ]
  },
  {
   "cell_type": "code",
   "execution_count": 262,
   "id": "cce07727",
   "metadata": {
    "collapsed": true
   },
   "outputs": [
    {
     "data": {
      "text/plain": [
       "2 Grau completo                             3\n",
       "Superior completo                           2\n",
       "1 Grau completo                             2\n",
       "1 Grau incompleto                           1\n",
       "Name: DESCR_GRAU_INSTRUCAO, dtype: int64"
      ]
     },
     "execution_count": 262,
     "metadata": {},
     "output_type": "execute_result"
    }
   ],
   "source": [
    "dados_aut_2020['DESCR_GRAU_INSTRUCAO'].value_counts()"
   ]
  },
  {
   "cell_type": "code",
   "execution_count": 263,
   "id": "7d9e0e1d",
   "metadata": {
    "collapsed": true
   },
   "outputs": [
    {
     "data": {
      "text/plain": [
       "True     6672\n",
       "False       8\n",
       "Name: DESCR_GRAU_INSTRUCAO, dtype: int64"
      ]
     },
     "execution_count": 263,
     "metadata": {},
     "output_type": "execute_result"
    }
   ],
   "source": [
    "dados_aut_2020['DESCR_GRAU_INSTRUCAO'].isnull().value_counts()"
   ]
  },
  {
   "cell_type": "code",
   "execution_count": 264,
   "id": "24e0f153",
   "metadata": {
    "collapsed": true
   },
   "outputs": [
    {
     "data": {
      "text/plain": [
       "AUXILIAR DE LIMPEZA               6\n",
       "VIGILANTE                         5\n",
       "ENGENHEIRO ELETRICISTA            5\n",
       "DESEMPREGADO(A)                   5\n",
       "DESEMPREGADO                      4\n",
       "AJUDANTE                          4\n",
       "COMERCIANTE                       3\n",
       "TECNICO(A) EM INFORMATICA         3\n",
       "SERVIDOR PUBLICO ESTADUAL         3\n",
       "AGENTE ADMINISTRATIVO             3\n",
       "MOTORISTA                         3\n",
       "MECANICO DE AUTOMOVEL             2\n",
       "VENDEDOR(A)                       2\n",
       "AUXILIAR DE ALMOXARIFADO          2\n",
       "SUPERVISOR(A)                     2\n",
       "REPRESENTANTE COMERCIAL           2\n",
       "AUTONOMO(A)                       2\n",
       "DENTISTA                          2\n",
       "FAXINEIRO(A)                      2\n",
       "ENCARREGADO                       2\n",
       "CABELEIREIRO(A)                   1\n",
       "MICRO-EMPRESARIO                  1\n",
       "MOTORISTA DE ONIBUS URBANO        1\n",
       "PSICOLOGO(A)                      1\n",
       "PRENDAS DOMESTICAS                1\n",
       "NAO INFORMADA                     1\n",
       "ADVOGADO(A)                       1\n",
       "APOSENTADO(A)                     1\n",
       "Name: DESCR_PROFISSAO, dtype: int64"
      ]
     },
     "execution_count": 264,
     "metadata": {},
     "output_type": "execute_result"
    }
   ],
   "source": [
    "dados_aut_2020['DESCR_PROFISSAO'].value_counts()"
   ]
  },
  {
   "cell_type": "code",
   "execution_count": 265,
   "id": "3b564e71",
   "metadata": {
    "scrolled": false
   },
   "outputs": [
    {
     "data": {
      "text/plain": [
       "True     6610\n",
       "False      70\n",
       "Name: DESCR_PROFISSAO, dtype: int64"
      ]
     },
     "execution_count": 265,
     "metadata": {},
     "output_type": "execute_result"
    }
   ],
   "source": [
    "dados_aut_2020['DESCR_PROFISSAO'].isnull().value_counts()"
   ]
  },
  {
   "cell_type": "code",
   "execution_count": 266,
   "id": "d521da66",
   "metadata": {
    "collapsed": true
   },
   "outputs": [
    {
     "data": {
      "text/html": [
       "<div>\n",
       "<style scoped>\n",
       "    .dataframe tbody tr th:only-of-type {\n",
       "        vertical-align: middle;\n",
       "    }\n",
       "\n",
       "    .dataframe tbody tr th {\n",
       "        vertical-align: top;\n",
       "    }\n",
       "\n",
       "    .dataframe thead tr th {\n",
       "        text-align: left;\n",
       "    }\n",
       "\n",
       "    .dataframe thead tr:last-of-type th {\n",
       "        text-align: right;\n",
       "    }\n",
       "</style>\n",
       "<table border=\"1\" class=\"dataframe\">\n",
       "  <thead>\n",
       "    <tr>\n",
       "      <th></th>\n",
       "      <th colspan=\"4\" halign=\"left\">DESCR_PROFISSAO</th>\n",
       "    </tr>\n",
       "    <tr>\n",
       "      <th></th>\n",
       "      <th>count</th>\n",
       "      <th>unique</th>\n",
       "      <th>top</th>\n",
       "      <th>freq</th>\n",
       "    </tr>\n",
       "    <tr>\n",
       "      <th>SEXO_PESSOA</th>\n",
       "      <th></th>\n",
       "      <th></th>\n",
       "      <th></th>\n",
       "      <th></th>\n",
       "    </tr>\n",
       "  </thead>\n",
       "  <tbody>\n",
       "    <tr>\n",
       "      <th>F</th>\n",
       "      <td>23</td>\n",
       "      <td>12</td>\n",
       "      <td>AUXILIAR DE LIMPEZA</td>\n",
       "      <td>6</td>\n",
       "    </tr>\n",
       "    <tr>\n",
       "      <th>I</th>\n",
       "      <td>0</td>\n",
       "      <td>0</td>\n",
       "      <td>NaN</td>\n",
       "      <td>NaN</td>\n",
       "    </tr>\n",
       "    <tr>\n",
       "      <th>M</th>\n",
       "      <td>47</td>\n",
       "      <td>19</td>\n",
       "      <td>ENGENHEIRO ELETRICISTA</td>\n",
       "      <td>5</td>\n",
       "    </tr>\n",
       "  </tbody>\n",
       "</table>\n",
       "</div>"
      ],
      "text/plain": [
       "            DESCR_PROFISSAO                                            \n",
       "                      count unique                             top freq\n",
       "SEXO_PESSOA                                                            \n",
       "F                        23     12  AUXILIAR DE LIMPEZA               6\n",
       "I                         0      0                             NaN  NaN\n",
       "M                        47     19  ENGENHEIRO ELETRICISTA            5"
      ]
     },
     "execution_count": 266,
     "metadata": {},
     "output_type": "execute_result"
    }
   ],
   "source": [
    "dados_aut_2020.filter(items=['DESCR_PROFISSAO']).groupby(dados_aut_2020['SEXO_PESSOA']).describe()"
   ]
  },
  {
   "cell_type": "code",
   "execution_count": 267,
   "id": "52c3b56d",
   "metadata": {
    "collapsed": true
   },
   "outputs": [
    {
     "data": {
      "text/plain": [
       "SÃO PAULO                    13\n",
       "S.PAULO -SP                   8\n",
       "SÃO PAULO  - SP               5\n",
       "CAMPINAS                      5\n",
       "DIADEMA -SP                   4\n",
       "OSASCO                        4\n",
       "ABATIA                        3\n",
       "RJ                            3\n",
       "CACAPAVA SP                   2\n",
       "JANDIRA                       2\n",
       "ALAGOAS                       2\n",
       "BRASILEIRA                    2\n",
       "OSASCO SP                     2\n",
       "CAJAZEIRAS PB                 2\n",
       "SÃO PAULO - SP                2\n",
       "S.BERNARDO DO CAMPO -SP       2\n",
       "EGITO                         2\n",
       "BOQUIRA - BAHIA               2\n",
       "SP                            2\n",
       "DIADEMA                       2\n",
       "NAO INFORMADA(MOT=ACERVO)     1\n",
       "SOROCABA                      1\n",
       "ASSIS                         1\n",
       "ITIRUCU -BA                   1\n",
       "RESENDE -RJ                   1\n",
       "RIO BOM -PR                   1\n",
       "IVINHEMA -MS                  1\n",
       "ARACATUBA                     1\n",
       "Name: NATURALIDADE_PESSOA, dtype: int64"
      ]
     },
     "execution_count": 267,
     "metadata": {},
     "output_type": "execute_result"
    }
   ],
   "source": [
    "dados_aut_2020['NATURALIDADE_PESSOA'].value_counts()"
   ]
  },
  {
   "cell_type": "markdown",
   "id": "5962b1dc",
   "metadata": {},
   "source": [
    "Os dados de autores a maioria são nulos, não informados."
   ]
  }
 ],
 "metadata": {
  "kernelspec": {
   "display_name": "Python 3",
   "language": "python",
   "name": "python3"
  },
  "language_info": {
   "codemirror_mode": {
    "name": "ipython",
    "version": 3
   },
   "file_extension": ".py",
   "mimetype": "text/x-python",
   "name": "python",
   "nbconvert_exporter": "python",
   "pygments_lexer": "ipython3",
   "version": "3.8.10"
  }
 },
 "nbformat": 4,
 "nbformat_minor": 5
}
