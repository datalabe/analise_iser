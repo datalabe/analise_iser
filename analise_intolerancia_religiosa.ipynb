{
 "cells": [
  {
   "cell_type": "markdown",
   "id": "e1afdc96",
   "metadata": {},
   "source": [
    "<h1> <center> Análise dados Intolerância Religiosa </center><h1>"
   ]
  },
  {
   "cell_type": "code",
   "execution_count": 25,
   "id": "cdf6cc95",
   "metadata": {
    "slideshow": {
     "slide_type": "skip"
    }
   },
   "outputs": [],
   "source": [
    "import pandas as pd\n",
    "\n",
    "import matplotlib.pyplot as plt\n",
    "\n",
    "plt.style.use(\"ggplot\")\n",
    "%matplotlib inline"
   ]
  },
  {
   "cell_type": "code",
   "execution_count": 26,
   "id": "83938543",
   "metadata": {
    "scrolled": true
   },
   "outputs": [],
   "source": [
    "dados = pd.read_csv('dados_intolerancia_limpo.csv', low_memory=False)"
   ]
  },
  {
   "cell_type": "code",
   "execution_count": 27,
   "id": "c3e57019",
   "metadata": {
    "collapsed": true
   },
   "outputs": [
    {
     "name": "stdout",
     "output_type": "stream",
     "text": [
      "<class 'pandas.core.frame.DataFrame'>\n",
      "RangeIndex: 27447 entries, 0 to 27446\n",
      "Data columns (total 49 columns):\n",
      " #   Column                           Non-Null Count  Dtype \n",
      "---  ------                           --------------  ----- \n",
      " 0   Submission Date                  27447 non-null  object\n",
      " 1   UF                               27447 non-null  object\n",
      " 2   Cidade                           27447 non-null  object\n",
      " 3   Dano                             27447 non-null  object\n",
      " 4   Violência                        27447 non-null  object\n",
      " 5   Tipificação                      27447 non-null  object\n",
      " 6   Vítima                           27447 non-null  object\n",
      " 7   Gênero da vítima 1               27447 non-null  object\n",
      " 8   Gênero da vítima 2               27447 non-null  object\n",
      " 9   Gênero da vítima 3               27447 non-null  object\n",
      " 10  Escolaridade da vítima 3         27447 non-null  object\n",
      " 11  Escolaridade da vítima 2         27447 non-null  object\n",
      " 12  Escolaridade da vítima 1         27447 non-null  object\n",
      " 13  Escolaridade do agressor 3       27447 non-null  object\n",
      " 14  Escolaridade do agressor 2       27447 non-null  object\n",
      " 15  Escolaridade do agressor 1       27447 non-null  object\n",
      " 16  Data da denúncia                 27447 non-null  object\n",
      " 17  Orientação sexual da vítima 1    27447 non-null  object\n",
      " 18  Orientação sexual da vítima 2    27447 non-null  object\n",
      " 19  Orientação sexual da vítima 3    27447 non-null  object\n",
      " 20  Idade da vítima 1                27447 non-null  object\n",
      " 21  Idade da vítima 2                27447 non-null  object\n",
      " 22  Idade da vítima 3                27447 non-null  object\n",
      " 23  Raça/cor da vítima 1             27447 non-null  object\n",
      " 24  Raça/cor da vítima 2             27447 non-null  object\n",
      " 25  Raça/cor da vítima 3             27447 non-null  object\n",
      " 26  Religião da vítima 1             27447 non-null  object\n",
      " 27  Religião da vítima 2             27447 non-null  object\n",
      " 28  Religião da vítima 3             27447 non-null  object\n",
      " 29  Agressor 1                       27447 non-null  object\n",
      " 30  Gênero do agressor 1             27447 non-null  object\n",
      " 31  Gênero do agressor 2             27447 non-null  object\n",
      " 32  Gênero do agressor 3             27447 non-null  object\n",
      " 33  Orientação sexual do agressor 1  27447 non-null  object\n",
      " 34  Orientação sexual do agressor 2  27447 non-null  object\n",
      " 35  Orientação sexual do agressor 3  27447 non-null  object\n",
      " 36  Idade do agressor 1              27447 non-null  object\n",
      " 37  Idade do agressor 2              27447 non-null  object\n",
      " 38  Idade do agressor 3              27447 non-null  object\n",
      " 39  Raça/cor do agressor 1           27447 non-null  object\n",
      " 40  Raça/cor do agressor 2           27447 non-null  object\n",
      " 41  Raça/cor do agressor 3           27447 non-null  object\n",
      " 42  Religião do agressor 1           27447 non-null  object\n",
      " 43  Religião do agressor 2           27447 non-null  object\n",
      " 44  Religião do agressor 3           27447 non-null  object\n",
      " 45  Encaminhamentos                  27447 non-null  object\n",
      " 46  Resumo                           27447 non-null  object\n",
      " 47  Observações                      27447 non-null  object\n",
      " 48  Mês                              27447 non-null  int64 \n",
      "dtypes: int64(1), object(48)\n",
      "memory usage: 10.3+ MB\n"
     ]
    }
   ],
   "source": [
    "dados.info()"
   ]
  },
  {
   "cell_type": "code",
   "execution_count": 28,
   "id": "f486f651",
   "metadata": {
    "collapsed": true
   },
   "outputs": [
    {
     "data": {
      "text/html": [
       "<div>\n",
       "<style scoped>\n",
       "    .dataframe tbody tr th:only-of-type {\n",
       "        vertical-align: middle;\n",
       "    }\n",
       "\n",
       "    .dataframe tbody tr th {\n",
       "        vertical-align: top;\n",
       "    }\n",
       "\n",
       "    .dataframe thead th {\n",
       "        text-align: right;\n",
       "    }\n",
       "</style>\n",
       "<table border=\"1\" class=\"dataframe\">\n",
       "  <thead>\n",
       "    <tr style=\"text-align: right;\">\n",
       "      <th></th>\n",
       "      <th>Submission Date</th>\n",
       "      <th>UF</th>\n",
       "      <th>Cidade</th>\n",
       "      <th>Dano</th>\n",
       "      <th>Violência</th>\n",
       "      <th>Tipificação</th>\n",
       "      <th>Vítima</th>\n",
       "      <th>Gênero da vítima 1</th>\n",
       "      <th>Gênero da vítima 2</th>\n",
       "      <th>Gênero da vítima 3</th>\n",
       "      <th>...</th>\n",
       "      <th>Raça/cor do agressor 1</th>\n",
       "      <th>Raça/cor do agressor 2</th>\n",
       "      <th>Raça/cor do agressor 3</th>\n",
       "      <th>Religião do agressor 1</th>\n",
       "      <th>Religião do agressor 2</th>\n",
       "      <th>Religião do agressor 3</th>\n",
       "      <th>Encaminhamentos</th>\n",
       "      <th>Resumo</th>\n",
       "      <th>Observações</th>\n",
       "      <th>Mês</th>\n",
       "    </tr>\n",
       "  </thead>\n",
       "  <tbody>\n",
       "    <tr>\n",
       "      <th>0</th>\n",
       "      <td>2022/03/16 11:03:13</td>\n",
       "      <td>Pernambuco</td>\n",
       "      <td>santa cruz do capibaribe</td>\n",
       "      <td>Ignorado</td>\n",
       "      <td>Ignorado</td>\n",
       "      <td>Ignorado</td>\n",
       "      <td>Individual ou até 3 pessoas</td>\n",
       "      <td>Ignorado</td>\n",
       "      <td>Ignorado</td>\n",
       "      <td>Ignorado</td>\n",
       "      <td>...</td>\n",
       "      <td>Ignorado</td>\n",
       "      <td>Ignorado</td>\n",
       "      <td>Ignorado</td>\n",
       "      <td>Ignorado</td>\n",
       "      <td>Ignorado</td>\n",
       "      <td>Ignorado</td>\n",
       "      <td>Ignorado</td>\n",
       "      <td>Ignorado</td>\n",
       "      <td>Ignorado</td>\n",
       "      <td>9</td>\n",
       "    </tr>\n",
       "    <tr>\n",
       "      <th>1</th>\n",
       "      <td>2022/03/16 11:02:02</td>\n",
       "      <td>Pernambuco</td>\n",
       "      <td>recife</td>\n",
       "      <td>Ignorado</td>\n",
       "      <td>Ignorado</td>\n",
       "      <td>Ignorado</td>\n",
       "      <td>Individual ou até 3 pessoas</td>\n",
       "      <td>Feminino</td>\n",
       "      <td>Ignorado</td>\n",
       "      <td>Ignorado</td>\n",
       "      <td>...</td>\n",
       "      <td>Ignorado</td>\n",
       "      <td>Ignorado</td>\n",
       "      <td>Ignorado</td>\n",
       "      <td>Ignorado</td>\n",
       "      <td>Ignorado</td>\n",
       "      <td>Ignorado</td>\n",
       "      <td>Ignorado</td>\n",
       "      <td>Ignorado</td>\n",
       "      <td>Ignorado</td>\n",
       "      <td>10</td>\n",
       "    </tr>\n",
       "    <tr>\n",
       "      <th>2</th>\n",
       "      <td>2022/03/16 11:00:42</td>\n",
       "      <td>Pernambuco</td>\n",
       "      <td>buique</td>\n",
       "      <td>Ignorado</td>\n",
       "      <td>Ignorado</td>\n",
       "      <td>Ignorado</td>\n",
       "      <td>Individual ou até 3 pessoas</td>\n",
       "      <td>Masculino</td>\n",
       "      <td>Ignorado</td>\n",
       "      <td>Ignorado</td>\n",
       "      <td>...</td>\n",
       "      <td>Ignorado</td>\n",
       "      <td>Ignorado</td>\n",
       "      <td>Ignorado</td>\n",
       "      <td>Ignorado</td>\n",
       "      <td>Ignorado</td>\n",
       "      <td>Ignorado</td>\n",
       "      <td>Ignorado</td>\n",
       "      <td>Ignorado</td>\n",
       "      <td>Ignorado</td>\n",
       "      <td>11</td>\n",
       "    </tr>\n",
       "    <tr>\n",
       "      <th>3</th>\n",
       "      <td>2022/03/16 10:58:20</td>\n",
       "      <td>Pernambuco</td>\n",
       "      <td>recife</td>\n",
       "      <td>Ignorado</td>\n",
       "      <td>Ignorado</td>\n",
       "      <td>Ignorado</td>\n",
       "      <td>Individual ou até 3 pessoas</td>\n",
       "      <td>Feminino</td>\n",
       "      <td>Ignorado</td>\n",
       "      <td>Ignorado</td>\n",
       "      <td>...</td>\n",
       "      <td>Ignorado</td>\n",
       "      <td>Ignorado</td>\n",
       "      <td>Ignorado</td>\n",
       "      <td>Ignorado</td>\n",
       "      <td>Ignorado</td>\n",
       "      <td>Ignorado</td>\n",
       "      <td>Ignorado</td>\n",
       "      <td>Ignorado</td>\n",
       "      <td>Ignorado</td>\n",
       "      <td>11</td>\n",
       "    </tr>\n",
       "    <tr>\n",
       "      <th>4</th>\n",
       "      <td>2022/03/16 10:56:04</td>\n",
       "      <td>Pernambuco</td>\n",
       "      <td>buique</td>\n",
       "      <td>Ignorado</td>\n",
       "      <td>Ignorado</td>\n",
       "      <td>Ignorado</td>\n",
       "      <td>Individual ou até 3 pessoas</td>\n",
       "      <td>Feminino</td>\n",
       "      <td>Ignorado</td>\n",
       "      <td>Ignorado</td>\n",
       "      <td>...</td>\n",
       "      <td>Ignorado</td>\n",
       "      <td>Ignorado</td>\n",
       "      <td>Ignorado</td>\n",
       "      <td>Ignorado</td>\n",
       "      <td>Ignorado</td>\n",
       "      <td>Ignorado</td>\n",
       "      <td>Ignorado</td>\n",
       "      <td>Ignorado</td>\n",
       "      <td>Ignorado</td>\n",
       "      <td>11</td>\n",
       "    </tr>\n",
       "  </tbody>\n",
       "</table>\n",
       "<p>5 rows × 49 columns</p>\n",
       "</div>"
      ],
      "text/plain": [
       "       Submission Date          UF                    Cidade      Dano  \\\n",
       "0  2022/03/16 11:03:13  Pernambuco  santa cruz do capibaribe  Ignorado   \n",
       "1  2022/03/16 11:02:02  Pernambuco                    recife  Ignorado   \n",
       "2  2022/03/16 11:00:42  Pernambuco                    buique  Ignorado   \n",
       "3  2022/03/16 10:58:20  Pernambuco                    recife  Ignorado   \n",
       "4  2022/03/16 10:56:04  Pernambuco                    buique  Ignorado   \n",
       "\n",
       "  Violência Tipificação                       Vítima Gênero da vítima 1  \\\n",
       "0  Ignorado    Ignorado  Individual ou até 3 pessoas           Ignorado   \n",
       "1  Ignorado    Ignorado  Individual ou até 3 pessoas           Feminino   \n",
       "2  Ignorado    Ignorado  Individual ou até 3 pessoas          Masculino   \n",
       "3  Ignorado    Ignorado  Individual ou até 3 pessoas           Feminino   \n",
       "4  Ignorado    Ignorado  Individual ou até 3 pessoas           Feminino   \n",
       "\n",
       "  Gênero da vítima 2 Gênero da vítima 3  ... Raça/cor do agressor 1  \\\n",
       "0           Ignorado           Ignorado  ...               Ignorado   \n",
       "1           Ignorado           Ignorado  ...               Ignorado   \n",
       "2           Ignorado           Ignorado  ...               Ignorado   \n",
       "3           Ignorado           Ignorado  ...               Ignorado   \n",
       "4           Ignorado           Ignorado  ...               Ignorado   \n",
       "\n",
       "  Raça/cor do agressor 2 Raça/cor do agressor 3 Religião do agressor 1  \\\n",
       "0               Ignorado               Ignorado               Ignorado   \n",
       "1               Ignorado               Ignorado               Ignorado   \n",
       "2               Ignorado               Ignorado               Ignorado   \n",
       "3               Ignorado               Ignorado               Ignorado   \n",
       "4               Ignorado               Ignorado               Ignorado   \n",
       "\n",
       "  Religião do agressor 2 Religião do agressor 3 Encaminhamentos    Resumo  \\\n",
       "0               Ignorado               Ignorado        Ignorado  Ignorado   \n",
       "1               Ignorado               Ignorado        Ignorado  Ignorado   \n",
       "2               Ignorado               Ignorado        Ignorado  Ignorado   \n",
       "3               Ignorado               Ignorado        Ignorado  Ignorado   \n",
       "4               Ignorado               Ignorado        Ignorado  Ignorado   \n",
       "\n",
       "  Observações Mês  \n",
       "0    Ignorado   9  \n",
       "1    Ignorado  10  \n",
       "2    Ignorado  11  \n",
       "3    Ignorado  11  \n",
       "4    Ignorado  11  \n",
       "\n",
       "[5 rows x 49 columns]"
      ]
     },
     "execution_count": 28,
     "metadata": {},
     "output_type": "execute_result"
    }
   ],
   "source": [
    "dados.head()"
   ]
  },
  {
   "cell_type": "markdown",
   "id": "a990dbc8",
   "metadata": {},
   "source": [
    " ### Análise"
   ]
  },
  {
   "cell_type": "markdown",
   "id": "501fe8ed",
   "metadata": {},
   "source": [
    "Em todas as bases que coletamos via LAI foram registrados 36235 denúnicas de 14 estados conforme tabela 1 abaixo, foram excluídos dados fora da janela temporal (2019-2021), excluido os dados nulos em data,475 linhas, dados nulos de UF e também 7775 dados indeferidos da variável Tipificação.  \n",
    "\n",
    "Assim analisamos  27447 denúncias, com 2021 concentrando 45%. São Paulo é o estado com maior número de denúnicas, aproximadamente 75%, seguido do Rio de Janeiro, com 12%, e Espiríto Santo é o estado com menor número contabilizando apenas 2 denúncias.\n"
   ]
  },
  {
   "cell_type": "markdown",
   "id": "416e274e",
   "metadata": {},
   "source": [
    " - Existem algum pico de denuncia por data/mês?"
   ]
  },
  {
   "cell_type": "code",
   "execution_count": 30,
   "id": "52eabd79",
   "metadata": {},
   "outputs": [],
   "source": [
    "dados['Data da denúncia'] = pd.to_datetime(dados['Data da denúncia'])"
   ]
  },
  {
   "cell_type": "code",
   "execution_count": 31,
   "id": "5bf5b615",
   "metadata": {
    "collapsed": true
   },
   "outputs": [
    {
     "data": {
      "text/plain": [
       "2021    12469\n",
       "2020     8681\n",
       "2019     6297\n",
       "Name: Data da denúncia, dtype: int64"
      ]
     },
     "execution_count": 31,
     "metadata": {},
     "output_type": "execute_result"
    }
   ],
   "source": [
    "dados['Data da denúncia'].dt.year.value_counts()"
   ]
  },
  {
   "cell_type": "code",
   "execution_count": 32,
   "id": "7ceccada",
   "metadata": {
    "collapsed": true
   },
   "outputs": [
    {
     "data": {
      "text/plain": [
       "(array([0, 1, 2]),\n",
       " [Text(0, 0, '2021'), Text(1, 0, '2020'), Text(2, 0, '2019')])"
      ]
     },
     "execution_count": 32,
     "metadata": {},
     "output_type": "execute_result"
    },
    {
     "data": {
      "image/png": "[encoded data removed]",
      "text/plain": [
       "<Figure size 432x288 with 1 Axes>"
      ]
     },
     "metadata": {
      "needs_background": "light"
     },
     "output_type": "display_data"
    }
   ],
   "source": [
    "dados['Data da denúncia'].dt.year.value_counts().plot(kind='bar', color='blue', title='Quantidade de denúncia por ano')\n",
    "plt.xticks(rotation=45)"
   ]
  },
  {
   "cell_type": "code",
   "execution_count": 34,
   "id": "5c2557b7",
   "metadata": {
    "collapsed": true
   },
   "outputs": [
    {
     "data": {
      "text/plain": [
       "2021    45.0\n",
       "2020    32.0\n",
       "2019    23.0\n",
       "Name: Data da denúncia, dtype: float64"
      ]
     },
     "execution_count": 34,
     "metadata": {},
     "output_type": "execute_result"
    }
   ],
   "source": [
    "round(dados['Data da denúncia'].dt.year.value_counts()*100/ 27447)"
   ]
  },
  {
   "cell_type": "code",
   "execution_count": 36,
   "id": "7769000e",
   "metadata": {},
   "outputs": [
    {
     "data": {
      "text/plain": [
       "[2525, 2250, 2686, 2235, 2158, 2513, 2420, 2187, 2108, 2412, 2417, 1536]"
      ]
     },
     "execution_count": 36,
     "metadata": {},
     "output_type": "execute_result"
    }
   ],
   "source": [
    "dados['Data da denúncia'].dt.month.value_counts().sort_index().tolist()"
   ]
  },
  {
   "cell_type": "code",
   "execution_count": 37,
   "id": "3d3b3e18",
   "metadata": {
    "collapsed": true
   },
   "outputs": [
    {
     "data": {
      "image/png": "[encoded data removed]",
      "text/plain": [
       "<Figure size 864x576 with 1 Axes>"
      ]
     },
     "metadata": {
      "needs_background": "light"
     },
     "output_type": "display_data"
    }
   ],
   "source": [
    "mes = ['Janeiro','Fevereiro','Março','Abril','Maio',\"Junho\",\"Julho\", \"Agosto\", \"Setembro\",\"Outubro\",'Novembro','Dezembro']\n",
    "quant = dados['Data da denúncia'].dt.month.value_counts().sort_index().tolist()\n",
    "# gráfico\n",
    "x = mes\n",
    "y = quant\n",
    "plt.figure(figsize=(12,8))\n",
    "plt.bar(x,y, color='blue')\n",
    "plt.xlabel('Mês')\n",
    "plt.ylabel('Quatidade')\n",
    "plt.show()\n"
   ]
  },
  {
   "cell_type": "markdown",
   "id": "820a83fe",
   "metadata": {},
   "source": [
    "- Denúncias pos UFs\n"
   ]
  },
  {
   "cell_type": "code",
   "execution_count": 38,
   "id": "e4a2cabe",
   "metadata": {
    "collapsed": true
   },
   "outputs": [
    {
     "data": {
      "text/plain": [
       "São Paulo            20690\n",
       "Rio de Janeiro        3327\n",
       "PR                    2737\n",
       "MATO GROSSO            303\n",
       "Minas gerais           181\n",
       "Santa Catarina          62\n",
       "Goiás                   40\n",
       "Distrito Federal        34\n",
       "Pernambuco              29\n",
       "Rio Grande do Sul       18\n",
       "Sergipe                 12\n",
       "Alagoas                  6\n",
       "Ceará                    6\n",
       "Espírito Santo           2\n",
       "Name: UF, dtype: int64"
      ]
     },
     "execution_count": 38,
     "metadata": {},
     "output_type": "execute_result"
    }
   ],
   "source": [
    "# Quantidade por UF\n",
    "dados['UF'].value_counts()"
   ]
  },
  {
   "cell_type": "code",
   "execution_count": 40,
   "id": "7038452a",
   "metadata": {
    "collapsed": true
   },
   "outputs": [
    {
     "data": {
      "text/plain": [
       "São Paulo            75.0\n",
       "Rio de Janeiro       12.0\n",
       "PR                   10.0\n",
       "MATO GROSSO           1.0\n",
       "Minas gerais          1.0\n",
       "Santa Catarina        0.0\n",
       "Goiás                 0.0\n",
       "Distrito Federal      0.0\n",
       "Pernambuco            0.0\n",
       "Rio Grande do Sul     0.0\n",
       "Sergipe               0.0\n",
       "Alagoas               0.0\n",
       "Ceará                 0.0\n",
       "Espírito Santo        0.0\n",
       "Name: UF, dtype: float64"
      ]
     },
     "execution_count": 40,
     "metadata": {},
     "output_type": "execute_result"
    }
   ],
   "source": [
    "# Percentual de denuncias por UF\n",
    "(round(dados['UF'].value_counts()*100/27447))"
   ]
  },
  {
   "cell_type": "markdown",
   "id": "16c7e442",
   "metadata": {},
   "source": [
    " - Cidades por UFs\n",
    " \n",
    " Todas UF tem uma maior  prevalencia de denúncias por cidade específica, como visto na tabela abaixo. E dentre todas as cidades, São Paulo é a com maior número."
   ]
  },
  {
   "cell_type": "code",
   "execution_count": 41,
   "id": "0c6a7b2c",
   "metadata": {
    "collapsed": true
   },
   "outputs": [
    {
     "data": {
      "text/html": [
       "<div>\n",
       "<style scoped>\n",
       "    .dataframe tbody tr th:only-of-type {\n",
       "        vertical-align: middle;\n",
       "    }\n",
       "\n",
       "    .dataframe tbody tr th {\n",
       "        vertical-align: top;\n",
       "    }\n",
       "\n",
       "    .dataframe thead tr th {\n",
       "        text-align: left;\n",
       "    }\n",
       "\n",
       "    .dataframe thead tr:last-of-type th {\n",
       "        text-align: right;\n",
       "    }\n",
       "</style>\n",
       "<table border=\"1\" class=\"dataframe\">\n",
       "  <thead>\n",
       "    <tr>\n",
       "      <th></th>\n",
       "      <th colspan=\"4\" halign=\"left\">Cidade</th>\n",
       "    </tr>\n",
       "    <tr>\n",
       "      <th></th>\n",
       "      <th>count</th>\n",
       "      <th>unique</th>\n",
       "      <th>top</th>\n",
       "      <th>freq</th>\n",
       "    </tr>\n",
       "    <tr>\n",
       "      <th>UF</th>\n",
       "      <th></th>\n",
       "      <th></th>\n",
       "      <th></th>\n",
       "      <th></th>\n",
       "    </tr>\n",
       "  </thead>\n",
       "  <tbody>\n",
       "    <tr>\n",
       "      <th>Alagoas</th>\n",
       "      <td>6</td>\n",
       "      <td>4</td>\n",
       "      <td>maceió</td>\n",
       "      <td>3</td>\n",
       "    </tr>\n",
       "    <tr>\n",
       "      <th>Ceará</th>\n",
       "      <td>6</td>\n",
       "      <td>6</td>\n",
       "      <td>ais16 - municípios: ararendá, catunda, crateús...</td>\n",
       "      <td>1</td>\n",
       "    </tr>\n",
       "    <tr>\n",
       "      <th>Distrito Federal</th>\n",
       "      <td>34</td>\n",
       "      <td>15</td>\n",
       "      <td>ceilândia</td>\n",
       "      <td>5</td>\n",
       "    </tr>\n",
       "    <tr>\n",
       "      <th>Espírito Santo</th>\n",
       "      <td>2</td>\n",
       "      <td>2</td>\n",
       "      <td>vitória</td>\n",
       "      <td>1</td>\n",
       "    </tr>\n",
       "    <tr>\n",
       "      <th>Goiás</th>\n",
       "      <td>40</td>\n",
       "      <td>15</td>\n",
       "      <td>anápolis</td>\n",
       "      <td>6</td>\n",
       "    </tr>\n",
       "    <tr>\n",
       "      <th>MATO GROSSO</th>\n",
       "      <td>303</td>\n",
       "      <td>48</td>\n",
       "      <td>cuiaba</td>\n",
       "      <td>138</td>\n",
       "    </tr>\n",
       "    <tr>\n",
       "      <th>Minas gerais</th>\n",
       "      <td>181</td>\n",
       "      <td>102</td>\n",
       "      <td>belo horizonte</td>\n",
       "      <td>22</td>\n",
       "    </tr>\n",
       "    <tr>\n",
       "      <th>PR</th>\n",
       "      <td>2737</td>\n",
       "      <td>299</td>\n",
       "      <td>curitiba</td>\n",
       "      <td>499</td>\n",
       "    </tr>\n",
       "    <tr>\n",
       "      <th>Pernambuco</th>\n",
       "      <td>29</td>\n",
       "      <td>20</td>\n",
       "      <td>recife</td>\n",
       "      <td>4</td>\n",
       "    </tr>\n",
       "    <tr>\n",
       "      <th>Rio Grande do Sul</th>\n",
       "      <td>18</td>\n",
       "      <td>7</td>\n",
       "      <td>porto alegre</td>\n",
       "      <td>9</td>\n",
       "    </tr>\n",
       "    <tr>\n",
       "      <th>Rio de Janeiro</th>\n",
       "      <td>3327</td>\n",
       "      <td>90</td>\n",
       "      <td>rio de janeiro</td>\n",
       "      <td>1716</td>\n",
       "    </tr>\n",
       "    <tr>\n",
       "      <th>Santa Catarina</th>\n",
       "      <td>62</td>\n",
       "      <td>39</td>\n",
       "      <td>itajaí</td>\n",
       "      <td>6</td>\n",
       "    </tr>\n",
       "    <tr>\n",
       "      <th>Sergipe</th>\n",
       "      <td>12</td>\n",
       "      <td>4</td>\n",
       "      <td>aracaju</td>\n",
       "      <td>9</td>\n",
       "    </tr>\n",
       "    <tr>\n",
       "      <th>São Paulo</th>\n",
       "      <td>20690</td>\n",
       "      <td>464</td>\n",
       "      <td>s.paulo</td>\n",
       "      <td>7130</td>\n",
       "    </tr>\n",
       "  </tbody>\n",
       "</table>\n",
       "</div>"
      ],
      "text/plain": [
       "                  Cidade         \\\n",
       "                   count unique   \n",
       "UF                                \n",
       "Alagoas                6      4   \n",
       "Ceará                  6      6   \n",
       "Distrito Federal      34     15   \n",
       "Espírito Santo         2      2   \n",
       "Goiás                 40     15   \n",
       "MATO GROSSO          303     48   \n",
       "Minas gerais         181    102   \n",
       "PR                  2737    299   \n",
       "Pernambuco            29     20   \n",
       "Rio Grande do Sul     18      7   \n",
       "Rio de Janeiro      3327     90   \n",
       "Santa Catarina        62     39   \n",
       "Sergipe               12      4   \n",
       "São Paulo          20690    464   \n",
       "\n",
       "                                                                            \n",
       "                                                                 top  freq  \n",
       "UF                                                                          \n",
       "Alagoas                                                       maceió     3  \n",
       "Ceará              ais16 - municípios: ararendá, catunda, crateús...     1  \n",
       "Distrito Federal                                           ceilândia     5  \n",
       "Espírito Santo                                               vitória     1  \n",
       "Goiás                                                       anápolis     6  \n",
       "MATO GROSSO                                                   cuiaba   138  \n",
       "Minas gerais                                          belo horizonte    22  \n",
       "PR                                                          curitiba   499  \n",
       "Pernambuco                                                    recife     4  \n",
       "Rio Grande do Sul                                       porto alegre     9  \n",
       "Rio de Janeiro                                        rio de janeiro  1716  \n",
       "Santa Catarina                                                itajaí     6  \n",
       "Sergipe                                                      aracaju     9  \n",
       "São Paulo                                                    s.paulo  7130  "
      ]
     },
     "execution_count": 41,
     "metadata": {},
     "output_type": "execute_result"
    }
   ],
   "source": [
    "# Cidades com maior frequencia de denúncias por UF\n",
    "dados.filter(items=['Cidade']).groupby(dados['UF']).describe()"
   ]
  },
  {
   "cell_type": "code",
   "execution_count": 42,
   "id": "6a5f111b",
   "metadata": {
    "collapsed": true
   },
   "outputs": [
    {
     "data": {
      "text/plain": [
       "s.paulo           7130\n",
       "rio de janeiro    1716\n",
       "guarulhos          858\n",
       "campinas           671\n",
       "curitiba           499\n",
       "                  ... \n",
       "ituporanga           1\n",
       "porto vitoria        1\n",
       "lages                1\n",
       "paracatu             1\n",
       "anahy                1\n",
       "Name: Cidade, Length: 1104, dtype: int64"
      ]
     },
     "execution_count": 42,
     "metadata": {},
     "output_type": "execute_result"
    }
   ],
   "source": [
    "dados['Cidade'].value_counts()"
   ]
  },
  {
   "cell_type": "markdown",
   "id": "4189a55b",
   "metadata": {},
   "source": [
    " - Quais categorias em Dano mais ou menos predomina?\n",
    " \n",
    " O dano psicológico está presente em aproximadamente 94% das denúncias, apenas 1% são de dano material. 398 denúncias não declarou algum tipo de dano."
   ]
  },
  {
   "cell_type": "code",
   "execution_count": 45,
   "id": "1d666794",
   "metadata": {
    "collapsed": true
   },
   "outputs": [
    {
     "data": {
      "text/plain": [
       "Psicológico    19823\n",
       "Ignorado        6459\n",
       "Físico           958\n",
       "Material         207\n",
       "Name: Dano, dtype: int64"
      ]
     },
     "execution_count": 45,
     "metadata": {},
     "output_type": "execute_result"
    }
   ],
   "source": [
    "# 6619 denuncias não possui dados de dadnos\n",
    "dados['Dano'].value_counts()"
   ]
  },
  {
   "cell_type": "code",
   "execution_count": 47,
   "id": "8e9c3511",
   "metadata": {},
   "outputs": [
    {
     "data": {
      "text/plain": [
       "Psicológico    72.0\n",
       "Ignorado       24.0\n",
       "Físico          3.0\n",
       "Material        1.0\n",
       "Name: Dano, dtype: float64"
      ]
     },
     "execution_count": 47,
     "metadata": {},
     "output_type": "execute_result"
    }
   ],
   "source": [
    "round(dados['Dano'].value_counts()*100/27447)"
   ]
  },
  {
   "cell_type": "code",
   "execution_count": 48,
   "id": "880b4c7e",
   "metadata": {
    "collapsed": true
   },
   "outputs": [
    {
     "data": {
      "text/plain": [
       "<AxesSubplot:title={'center':'Quantidade de denúncias por dano'}>"
      ]
     },
     "execution_count": 48,
     "metadata": {},
     "output_type": "execute_result"
    },
    {
     "data": {
      "image/png": "[encoded data removed]",
      "text/plain": [
       "<Figure size 432x288 with 1 Axes>"
      ]
     },
     "metadata": {
      "needs_background": "light"
     },
     "output_type": "display_data"
    }
   ],
   "source": [
    "dados['Dano'].value_counts().plot(kind='barh', color='blue',  title = 'Quantidade de denúncias por dano')"
   ]
  },
  {
   "cell_type": "markdown",
   "id": "2aa5cc07",
   "metadata": {},
   "source": [
    " -  Tipificação\n",
    " \n",
    "  Injúria está presente em 37,6% da tipificação das denúncias, seguido de Calúnia (art. 138), aproximadamente 21%"
   ]
  },
  {
   "cell_type": "code",
   "execution_count": 51,
   "id": "7d89f3b5",
   "metadata": {
    "collapsed": true
   },
   "outputs": [
    {
     "data": {
      "text/plain": [
       "Injúria (art. 140)                                                                                                                                                                                                         29.285532\n",
       "Calúnia (art. 138)                                                                                                                                                                                                         16.191205\n",
       "Difamação (art. 139)                                                                                                                                                                                                       11.585966\n",
       "Injúria por preconceito                                                                                                                                                                                                    10.999381\n",
       "INJURIA REFERENTE A RACA/COR/ETNIA/RELIGIAO/ORIGEM                                                                                                                                                                          9.928225\n",
       "                                                                                                                                                                                                                             ...    \n",
       "Desobediência (art. 330)                                                                                                                                                                                                    0.003643\n",
       "Falsificação de documento particular ou falsificação de cartão                                                                                                                                                              0.003643\n",
       "784: PRATICAR A DISCRIMINAÇÃO OU PRECONCEITO DE RAÇA, COR, ETNIA, RELIGIÃO OU PROCEDÊNCIA NACIONAL-RACISMO  (ART. 20 DA LEI 7.716/1989), 53: INJÚRIA COMETIDA OFENDENDO A DIGNIDADE OU O DECORO (ART. 140 CAPUT DO CPB)     0.003643\n",
       "53: INJÚRIA COMETIDA OFENDENDO A DIGNIDADE OU O DECORO (ART. 140 CAPUT DO CPB)                                                                                                                                              0.003643\n",
       "Falsa identidade, usar, como próprio, documento de identidade alheia (art. 308)                                                                                                                                             0.003643\n",
       "Name: Tipificação, Length: 97, dtype: float64"
      ]
     },
     "execution_count": 51,
     "metadata": {},
     "output_type": "execute_result"
    }
   ],
   "source": [
    "dados['Tipificação'].value_counts()*100/27447"
   ]
  },
  {
   "cell_type": "code",
   "execution_count": 52,
   "id": "ede5966e",
   "metadata": {
    "collapsed": true
   },
   "outputs": [
    {
     "data": {
      "text/plain": [
       "<AxesSubplot:title={'center':'As 10 tipificações com maior frequência nas denúncias'}>"
      ]
     },
     "execution_count": 52,
     "metadata": {},
     "output_type": "execute_result"
    },
    {
     "data": {
      "image/png": "[encoded data removed]",
      "text/plain": [
       "<Figure size 432x288 with 1 Axes>"
      ]
     },
     "metadata": {
      "needs_background": "light"
     },
     "output_type": "display_data"
    }
   ],
   "source": [
    "dados['Tipificação'].value_counts().head(10).plot(kind='barh', color='blue', title= 'As 10 tipificações com maior frequência nas denúncias')"
   ]
  },
  {
   "cell_type": "code",
   "execution_count": 56,
   "id": "300c631e",
   "metadata": {
    "collapsed": true
   },
   "outputs": [
    {
     "data": {
      "text/plain": [
       "count                  27447\n",
       "unique                    97\n",
       "top       Injúria (art. 140)\n",
       "freq                    8038\n",
       "Name: Tipificação, dtype: object"
      ]
     },
     "execution_count": 56,
     "metadata": {},
     "output_type": "execute_result"
    }
   ],
   "source": [
    "dados['Tipificação'].describe()"
   ]
  },
  {
   "cell_type": "markdown",
   "id": "068fe997",
   "metadata": {},
   "source": [
    " - Vítimas\n",
    " \n",
    " 99% das vítimas se enquandram na categoria Individual ou até 3 pessoas, 0.9% em Grupo ou coletivo e 1 denúncia não tem categorização. Todos os ddos nulos, sem informações e não se aplica foram substituidos por ignorados.\n",
    " Quanto ao gênero mulheres são as que mais sofre por intolerância religiosa, mas quando observamos os dados como grupo ou coletivo o gênero da vítima 1  em sua grande maioria são ignorados, conforme mostra tabela abaixo.\n"
   ]
  },
  {
   "cell_type": "code",
   "execution_count": 57,
   "id": "0f772e84",
   "metadata": {
    "collapsed": true
   },
   "outputs": [
    {
     "data": {
      "text/plain": [
       "(array([0, 1, 2]),\n",
       " [Text(0, 0, 'Individual ou até 3 pessoas'),\n",
       "  Text(1, 0, 'Grupo ou coletivo'),\n",
       "  Text(2, 0, 'Ignorado')])"
      ]
     },
     "execution_count": 57,
     "metadata": {},
     "output_type": "execute_result"
    },
    {
     "data": {
      "image/png": "[encoded data removed]",
      "text/plain": [
       "<Figure size 432x288 with 1 Axes>"
      ]
     },
     "metadata": {
      "needs_background": "light"
     },
     "output_type": "display_data"
    }
   ],
   "source": [
    "dados['Vítima'].value_counts().plot(kind='bar',color='blue', title='Quantidade de denúncias por categoria de Vítimas')\n",
    "plt.xticks(rotation=360)\n"
   ]
  },
  {
   "cell_type": "code",
   "execution_count": 59,
   "id": "652cc5e9",
   "metadata": {
    "collapsed": true
   },
   "outputs": [
    {
     "data": {
      "text/plain": [
       "Individual ou até 3 pessoas    99.0\n",
       "Grupo ou coletivo               1.0\n",
       "Ignorado                        0.0\n",
       "Name: Vítima, dtype: float64"
      ]
     },
     "execution_count": 59,
     "metadata": {},
     "output_type": "execute_result"
    }
   ],
   "source": [
    "round(dados['Vítima'].value_counts()*100/27447)"
   ]
  },
  {
   "cell_type": "code",
   "execution_count": 60,
   "id": "4aa8906c",
   "metadata": {
    "collapsed": true
   },
   "outputs": [
    {
     "data": {
      "text/plain": [
       "Individual ou até 3 pessoas    27191\n",
       "Grupo ou coletivo                255\n",
       "Ignorado                           1\n",
       "Name: Vítima, dtype: int64"
      ]
     },
     "execution_count": 60,
     "metadata": {},
     "output_type": "execute_result"
    }
   ],
   "source": [
    "dados['Vítima'].value_counts()"
   ]
  },
  {
   "cell_type": "code",
   "execution_count": 65,
   "id": "4cae7034",
   "metadata": {},
   "outputs": [],
   "source": [
    "# subset individual\n",
    "df_vitimas_ind = pd.DataFrame(dados.where(dados['Vítima'] == 'Individual ou até 3 pessoas'))"
   ]
  },
  {
   "cell_type": "code",
   "execution_count": 66,
   "id": "fb113790",
   "metadata": {},
   "outputs": [],
   "source": [
    "# subset coletivo\n",
    "df_vitimas_col = pd.DataFrame(dados.where(dados['Vítima'] == 'Grupo ou coletivo'))"
   ]
  },
  {
   "cell_type": "code",
   "execution_count": 63,
   "id": "f445977d",
   "metadata": {},
   "outputs": [],
   "source": [
    "# colocar na limpeza dos dados\n",
    "dados['Gênero da vítima 1'] = dados['Gênero da vítima 1'].str.lower()"
   ]
  },
  {
   "cell_type": "code",
   "execution_count": 67,
   "id": "13c3e83e",
   "metadata": {
    "collapsed": true
   },
   "outputs": [
    {
     "data": {
      "text/plain": [
       "feminino     15575\n",
       "masculino     9190\n",
       "ignorado      2426\n",
       "Name: Gênero da vítima 1, dtype: int64"
      ]
     },
     "execution_count": 67,
     "metadata": {},
     "output_type": "execute_result"
    }
   ],
   "source": [
    "df_vitimas_ind['Gênero da vítima 1'].value_counts()"
   ]
  },
  {
   "cell_type": "code",
   "execution_count": 68,
   "id": "55079f0c",
   "metadata": {
    "collapsed": true
   },
   "outputs": [
    {
     "data": {
      "text/plain": [
       "ignorado     199\n",
       "feminino      32\n",
       "masculino     24\n",
       "Name: Gênero da vítima 1, dtype: int64"
      ]
     },
     "execution_count": 68,
     "metadata": {},
     "output_type": "execute_result"
    }
   ],
   "source": [
    "df_vitimas_col['Gênero da vítima 1'].value_counts()"
   ]
  },
  {
   "cell_type": "markdown",
   "id": "b4493b0c",
   "metadata": {},
   "source": [
    " - Escolaridade Agressor 1 e vítima 1"
   ]
  },
  {
   "cell_type": "markdown",
   "id": "45cb3275",
   "metadata": {},
   "source": [
    "Agressor"
   ]
  },
  {
   "cell_type": "code",
   "execution_count": 70,
   "id": "71ed8971",
   "metadata": {},
   "outputs": [
    {
     "data": {
      "text/plain": [
       "Individual ou até 3 pessoas    87.0\n",
       "Ignorado                       12.0\n",
       "Grupo ou coletivo               1.0\n",
       "Coletivo ou grupo               0.0\n",
       "Name: Agressor 1, dtype: float64"
      ]
     },
     "execution_count": 70,
     "metadata": {},
     "output_type": "execute_result"
    }
   ],
   "source": [
    "round(dados['Agressor 1'].value_counts()*100/27447)"
   ]
  },
  {
   "cell_type": "code",
   "execution_count": 73,
   "id": "4df80d01",
   "metadata": {
    "collapsed": true
   },
   "outputs": [
    {
     "data": {
      "text/plain": [
       "Ignorado     24570\n",
       "Masculino     1713\n",
       "Feminino       930\n",
       "MASCULINO      142\n",
       "FEMININO        91\n",
       "N,N              1\n",
       "Name: Gênero do agressor 1, dtype: int64"
      ]
     },
     "execution_count": 73,
     "metadata": {},
     "output_type": "execute_result"
    }
   ],
   "source": [
    "dados['Gênero do agressor 1'].value_counts()"
   ]
  },
  {
   "cell_type": "code",
   "execution_count": 74,
   "id": "fb146d94",
   "metadata": {
    "collapsed": true
   },
   "outputs": [
    {
     "data": {
      "text/plain": [
       "Ignorado         27432\n",
       "Não informado       14\n",
       "Não Informada        1\n",
       "Name: Religião do agressor 1, dtype: int64"
      ]
     },
     "execution_count": 74,
     "metadata": {},
     "output_type": "execute_result"
    }
   ],
   "source": [
    "dados['Religião do agressor 1'].value_counts()"
   ]
  },
  {
   "cell_type": "code",
   "execution_count": 76,
   "id": "f2ed63ad",
   "metadata": {
    "collapsed": true
   },
   "outputs": [
    {
     "data": {
      "text/plain": [
       "<AxesSubplot:>"
      ]
     },
     "execution_count": 76,
     "metadata": {},
     "output_type": "execute_result"
    },
    {
     "data": {
      "image/png": "[encoded data removed]",
      "text/plain": [
       "<Figure size 432x288 with 1 Axes>"
      ]
     },
     "metadata": {
      "needs_background": "light"
     },
     "output_type": "display_data"
    }
   ],
   "source": [
    "dados['Escolaridade do agressor 1'].value_counts().plot(kind='barh')"
   ]
  },
  {
   "cell_type": "markdown",
   "id": "92e3e790",
   "metadata": {},
   "source": [
    "Vítima"
   ]
  },
  {
   "cell_type": "code",
   "execution_count": 77,
   "id": "4fbc38ac",
   "metadata": {
    "collapsed": true
   },
   "outputs": [
    {
     "data": {
      "text/plain": [
       "ignorado                         24461\n",
       "ensino médio completo              852\n",
       "sem informação                     518\n",
       "1º grau incompleto                 439\n",
       "3º grau completo                   333\n",
       "2º grau incompleto                 234\n",
       "3º grau incompleto                 233\n",
       "ensino fundamental completo        201\n",
       "alfabetizado(a)                     32\n",
       "não alfabetizado(a)                 29\n",
       "não informado                       24\n",
       "especialização                      22\n",
       "superior completo                   19\n",
       "2 grau completo                      9\n",
       "superior incompleto                  9\n",
       "1 grau incompleto                    6\n",
       "2 grau incompleto                    5\n",
       "doutorado                            4\n",
       "mestrado                             4\n",
       "ensino superior completo             3\n",
       "alfabetizado                         2\n",
       "pós-graduado                         2\n",
       "ensino fundamental incompleto        1\n",
       "outros                               1\n",
       "ensino básico incompleto             1\n",
       "não alfabetizado                     1\n",
       "nível superior                       1\n",
       "ensino médio incompleto              1\n",
       "Name: Escolaridade da vítima 1, dtype: int64"
      ]
     },
     "execution_count": 77,
     "metadata": {},
     "output_type": "execute_result"
    }
   ],
   "source": [
    "dados['Escolaridade da vítima 1'].value_counts()"
   ]
  },
  {
   "cell_type": "code",
   "execution_count": 79,
   "id": "3cf59df6",
   "metadata": {
    "collapsed": true
   },
   "outputs": [
    {
     "data": {
      "text/plain": [
       "<AxesSubplot:>"
      ]
     },
     "execution_count": 79,
     "metadata": {},
     "output_type": "execute_result"
    },
    {
     "data": {
      "image/png": "[encoded data removed]",
      "text/plain": [
       "<Figure size 432x288 with 1 Axes>"
      ]
     },
     "metadata": {
      "needs_background": "light"
     },
     "output_type": "display_data"
    }
   ],
   "source": [
    "dados['Escolaridade da vítima 1'].value_counts().plot(kind='barh')"
   ]
  },
  {
   "cell_type": "code",
   "execution_count": 80,
   "id": "472da6b8",
   "metadata": {},
   "outputs": [],
   "source": [
    "idade_ag = pd.DataFrame(dados.loc[dados['Idade do agressor 1'] != 'Ignorado'])"
   ]
  },
  {
   "cell_type": "code",
   "execution_count": 81,
   "id": "4a53396f",
   "metadata": {},
   "outputs": [],
   "source": [
    "idade_ag = idade_ag.loc[idade_ag['Idade do agressor 1'] != '-']"
   ]
  },
  {
   "cell_type": "code",
   "execution_count": 82,
   "id": "1cb5cb12",
   "metadata": {},
   "outputs": [],
   "source": [
    "idade_ag = idade_ag.loc[idade_ag['Idade do agressor 1'] != 'nao informado']"
   ]
  },
  {
   "cell_type": "code",
   "execution_count": 83,
   "id": "d700f994",
   "metadata": {},
   "outputs": [],
   "source": [
    "idade_ag['Idade do agressor 1'] = idade_ag['Idade do agressor 1'].astype(float)"
   ]
  },
  {
   "cell_type": "code",
   "execution_count": 84,
   "id": "2d53ded9",
   "metadata": {
    "collapsed": true
   },
   "outputs": [
    {
     "data": {
      "text/plain": [
       "count    2250.000000\n",
       "mean       39.867111\n",
       "std        14.021061\n",
       "min         0.000000\n",
       "25%        30.000000\n",
       "50%        39.000000\n",
       "75%        49.000000\n",
       "max       151.000000\n",
       "Name: Idade do agressor 1, dtype: float64"
      ]
     },
     "execution_count": 84,
     "metadata": {},
     "output_type": "execute_result"
    }
   ],
   "source": [
    "idade_ag['Idade do agressor 1'].describe()"
   ]
  },
  {
   "cell_type": "markdown",
   "id": "febec15f",
   "metadata": {},
   "source": [
    " - Orientação Sexual, Raça/Cor e Religião (Vítima e Agressor)"
   ]
  },
  {
   "cell_type": "markdown",
   "id": "d9301fe3",
   "metadata": {},
   "source": [
    "Vitima \n"
   ]
  },
  {
   "cell_type": "code",
   "execution_count": 85,
   "id": "0b70e284",
   "metadata": {},
   "outputs": [],
   "source": [
    "dados['Orientação sexual da vítima 1'] = dados['Orientação sexual da vítima 1'].str.lower()"
   ]
  },
  {
   "cell_type": "code",
   "execution_count": 86,
   "id": "5c649a56",
   "metadata": {},
   "outputs": [],
   "source": [
    "dados['Orientação sexual da vítima 1'].replace('ni', 'ignorado', inplace=True)"
   ]
  },
  {
   "cell_type": "code",
   "execution_count": 87,
   "id": "acdae4db",
   "metadata": {
    "collapsed": true
   },
   "outputs": [
    {
     "data": {
      "text/plain": [
       "ignorado         27394\n",
       "heterossexual       36\n",
       "homossexual         13\n",
       "parda                3\n",
       "preta                1\n",
       "Name: Orientação sexual da vítima 1, dtype: int64"
      ]
     },
     "execution_count": 87,
     "metadata": {},
     "output_type": "execute_result"
    }
   ],
   "source": [
    "dados['Orientação sexual da vítima 1'].value_counts()"
   ]
  },
  {
   "cell_type": "code",
   "execution_count": 90,
   "id": "9528e764",
   "metadata": {
    "collapsed": true
   },
   "outputs": [
    {
     "data": {
      "text/plain": [
       "<AxesSubplot:>"
      ]
     },
     "execution_count": 90,
     "metadata": {},
     "output_type": "execute_result"
    },
    {
     "data": {
      "image/png": "[encoded data removed]",
      "text/plain": [
       "<Figure size 432x288 with 1 Axes>"
      ]
     },
     "metadata": {
      "needs_background": "light"
     },
     "output_type": "display_data"
    }
   ],
   "source": [
    "dados['Orientação sexual da vítima 1'].value_counts().plot(kind='barh')"
   ]
  },
  {
   "cell_type": "code",
   "execution_count": 93,
   "id": "e1115ca4",
   "metadata": {},
   "outputs": [
    {
     "data": {
      "text/plain": [
       "ignorado    86.0\n",
       "negra       11.0\n",
       "branca       3.0\n",
       "amarela      0.0\n",
       "índio        0.0\n",
       "Name: Raça/cor da vítima 1, dtype: float64"
      ]
     },
     "execution_count": 93,
     "metadata": {},
     "output_type": "execute_result"
    }
   ],
   "source": [
    "round(dados['Raça/cor da vítima 1'].value_counts()*100/27447)"
   ]
  },
  {
   "cell_type": "code",
   "execution_count": 94,
   "id": "6b0618b1",
   "metadata": {},
   "outputs": [
    {
     "data": {
      "image/png": "[encoded data removed]",
      "text/plain": [
       "<Figure size 864x576 with 1 Axes>"
      ]
     },
     "metadata": {
      "needs_background": "light"
     },
     "output_type": "display_data"
    }
   ],
   "source": [
    "raca = ['Ignorado','Negra','Branca']\n",
    "quant = [86, 11, 3]\n",
    "# gráfico\n",
    "x = raca\n",
    "y = quant\n",
    "plt.figure(figsize=(12,8))\n",
    "plt.bar(x,y, color='blue')\n",
    "plt.xlabel('Raça')\n",
    "plt.ylabel('Percentual')\n",
    "plt.show()\n"
   ]
  },
  {
   "cell_type": "code",
   "execution_count": 96,
   "id": "20706623",
   "metadata": {
    "scrolled": false
   },
   "outputs": [
    {
     "data": {
      "text/plain": [
       "Ignorado           27427\n",
       "Não informada         12\n",
       "Matriz Africana        5\n",
       "                       2\n",
       "Evangélica             1\n",
       "Name: Religião da vítima 1, dtype: int64"
      ]
     },
     "execution_count": 96,
     "metadata": {},
     "output_type": "execute_result"
    }
   ],
   "source": [
    "dados['Religião da vítima 1'].value_counts()"
   ]
  },
  {
   "cell_type": "markdown",
   "id": "694b231a",
   "metadata": {},
   "source": [
    "Agressor "
   ]
  },
  {
   "cell_type": "code",
   "execution_count": 99,
   "id": "50ca2c57",
   "metadata": {},
   "outputs": [
    {
     "data": {
      "text/plain": [
       "Ignorado         27138\n",
       "NI                 284\n",
       "HETEROSSEXUAL       19\n",
       "Heterossexual        3\n",
       "Não informada        2\n",
       "Homossexual          1\n",
       "Name: Orientação sexual do agressor 1, dtype: int64"
      ]
     },
     "execution_count": 99,
     "metadata": {},
     "output_type": "execute_result"
    }
   ],
   "source": [
    "dados['Orientação sexual do agressor 1'].value_counts()"
   ]
  },
  {
   "cell_type": "code",
   "execution_count": 101,
   "id": "cf6c5954",
   "metadata": {
    "collapsed": true
   },
   "outputs": [
    {
     "data": {
      "text/plain": [
       "<AxesSubplot:>"
      ]
     },
     "execution_count": 101,
     "metadata": {},
     "output_type": "execute_result"
    },
    {
     "data": {
      "image/png": "[encoded data removed]",
      "text/plain": [
       "<Figure size 432x288 with 1 Axes>"
      ]
     },
     "metadata": {
      "needs_background": "light"
     },
     "output_type": "display_data"
    }
   ],
   "source": [
    "dados['Orientação sexual do agressor 1'].value_counts().plot(kind='barh')"
   ]
  },
  {
   "cell_type": "code",
   "execution_count": 102,
   "id": "3697a06c",
   "metadata": {
    "collapsed": true
   },
   "outputs": [
    {
     "data": {
      "text/plain": [
       "Ignorado                   14783\n",
       "Não informada              12036\n",
       "Branca                       204\n",
       "NI                           190\n",
       "Parda (negra)                 83\n",
       "PARDA                         65\n",
       "BRANCO                        37\n",
       "Preta (negra)                 31\n",
       "PRETA                         11\n",
       "Outros                         4\n",
       "REDS 2021-024180805-001        1\n",
       "REDS 2021-036967929-001        1\n",
       "Amarela                        1\n",
       "Name: Raça/cor do agressor 1, dtype: int64"
      ]
     },
     "execution_count": 102,
     "metadata": {},
     "output_type": "execute_result"
    }
   ],
   "source": [
    "dados['Raça/cor do agressor 1'].value_counts()"
   ]
  },
  {
   "cell_type": "code",
   "execution_count": 103,
   "id": "47ebaa87",
   "metadata": {
    "collapsed": true
   },
   "outputs": [
    {
     "data": {
      "text/plain": [
       "<AxesSubplot:>"
      ]
     },
     "execution_count": 103,
     "metadata": {},
     "output_type": "execute_result"
    },
    {
     "data": {
      "image/png": "[encoded data removed]",
      "text/plain": [
       "<Figure size 432x288 with 1 Axes>"
      ]
     },
     "metadata": {
      "needs_background": "light"
     },
     "output_type": "display_data"
    }
   ],
   "source": [
    "dados['Raça/cor do agressor 1'].value_counts().plot(kind='barh')"
   ]
  },
  {
   "cell_type": "code",
   "execution_count": 105,
   "id": "8d0f1bec",
   "metadata": {},
   "outputs": [
    {
     "data": {
      "text/plain": [
       "Ignorado         27432\n",
       "Não informado       14\n",
       "Não Informada        1\n",
       "Name: Religião do agressor 1, dtype: int64"
      ]
     },
     "execution_count": 105,
     "metadata": {},
     "output_type": "execute_result"
    }
   ],
   "source": [
    "dados['Religião do agressor 1'].value_counts()"
   ]
  },
  {
   "cell_type": "markdown",
   "id": "cb316e2d",
   "metadata": {},
   "source": [
    "Idade"
   ]
  },
  {
   "cell_type": "code",
   "execution_count": 107,
   "id": "2c4aacb2",
   "metadata": {},
   "outputs": [],
   "source": [
    "idade_vit = pd.DataFrame(dados.loc[dados['Idade da vítima 1'] !='Ignorado'])"
   ]
  },
  {
   "cell_type": "code",
   "execution_count": 108,
   "id": "4e105c53",
   "metadata": {},
   "outputs": [],
   "source": [
    "idade_vit = pd.DataFrame(idade_vit.loc[idade_vit['Idade da vítima 1'] !='-'])"
   ]
  },
  {
   "cell_type": "code",
   "execution_count": 109,
   "id": "99ca72e3",
   "metadata": {},
   "outputs": [],
   "source": [
    "idade_vit = pd.DataFrame(idade_vit.loc[idade_vit['Idade da vítima 1'] != 'nao informado'])"
   ]
  },
  {
   "cell_type": "code",
   "execution_count": 112,
   "id": "7bc66059",
   "metadata": {},
   "outputs": [],
   "source": [
    "idade_vit['Idade da vítima 1'] = idade_vit['Idade da vítima 1'].astype(float)"
   ]
  },
  {
   "cell_type": "code",
   "execution_count": 113,
   "id": "119507a8",
   "metadata": {
    "collapsed": true
   },
   "outputs": [
    {
     "data": {
      "text/html": [
       "<div>\n",
       "<style scoped>\n",
       "    .dataframe tbody tr th:only-of-type {\n",
       "        vertical-align: middle;\n",
       "    }\n",
       "\n",
       "    .dataframe tbody tr th {\n",
       "        vertical-align: top;\n",
       "    }\n",
       "\n",
       "    .dataframe thead th {\n",
       "        text-align: right;\n",
       "    }\n",
       "</style>\n",
       "<table border=\"1\" class=\"dataframe\">\n",
       "  <thead>\n",
       "    <tr style=\"text-align: right;\">\n",
       "      <th></th>\n",
       "      <th>Submission Date</th>\n",
       "      <th>UF</th>\n",
       "      <th>Cidade</th>\n",
       "      <th>Dano</th>\n",
       "      <th>Violência</th>\n",
       "      <th>Tipificação</th>\n",
       "      <th>Vítima</th>\n",
       "      <th>Gênero da vítima 1</th>\n",
       "      <th>Gênero da vítima 2</th>\n",
       "      <th>Gênero da vítima 3</th>\n",
       "      <th>...</th>\n",
       "      <th>Raça/cor do agressor 1</th>\n",
       "      <th>Raça/cor do agressor 2</th>\n",
       "      <th>Raça/cor do agressor 3</th>\n",
       "      <th>Religião do agressor 1</th>\n",
       "      <th>Religião do agressor 2</th>\n",
       "      <th>Religião do agressor 3</th>\n",
       "      <th>Encaminhamentos</th>\n",
       "      <th>Resumo</th>\n",
       "      <th>Observações</th>\n",
       "      <th>Mês</th>\n",
       "    </tr>\n",
       "  </thead>\n",
       "  <tbody>\n",
       "    <tr>\n",
       "      <th>18</th>\n",
       "      <td>2022/03/16 09:39:46</td>\n",
       "      <td>Pernambuco</td>\n",
       "      <td>rio formoso</td>\n",
       "      <td>Ignorado</td>\n",
       "      <td>Ignorado</td>\n",
       "      <td>Ignorado</td>\n",
       "      <td>Individual ou até 3 pessoas</td>\n",
       "      <td>feminino</td>\n",
       "      <td>Ignorado</td>\n",
       "      <td>Ignorado</td>\n",
       "      <td>...</td>\n",
       "      <td>Ignorado</td>\n",
       "      <td>Ignorado</td>\n",
       "      <td>Ignorado</td>\n",
       "      <td>Ignorado</td>\n",
       "      <td>Ignorado</td>\n",
       "      <td>Ignorado</td>\n",
       "      <td>Ignorado</td>\n",
       "      <td>Ignorado</td>\n",
       "      <td>Ignorado</td>\n",
       "      <td>11</td>\n",
       "    </tr>\n",
       "    <tr>\n",
       "      <th>134</th>\n",
       "      <td>2022/03/11 12:11:32</td>\n",
       "      <td>São Paulo</td>\n",
       "      <td>s.paulo</td>\n",
       "      <td>Psicológico</td>\n",
       "      <td>Violência psicológica por motivação religiosa</td>\n",
       "      <td>Injúria (art. 140)</td>\n",
       "      <td>Individual ou até 3 pessoas</td>\n",
       "      <td>feminino</td>\n",
       "      <td>Ignorado</td>\n",
       "      <td>Ignorado</td>\n",
       "      <td>...</td>\n",
       "      <td>Ignorado</td>\n",
       "      <td>Ignorado</td>\n",
       "      <td>Ignorado</td>\n",
       "      <td>Ignorado</td>\n",
       "      <td>Ignorado</td>\n",
       "      <td>Ignorado</td>\n",
       "      <td>§3o. Se a injúria consiste em raça/cor/etnia/r...</td>\n",
       "      <td>Ignorado</td>\n",
       "      <td>10326-2021-5301</td>\n",
       "      <td>10</td>\n",
       "    </tr>\n",
       "    <tr>\n",
       "      <th>215</th>\n",
       "      <td>2022/03/11 12:11:32</td>\n",
       "      <td>São Paulo</td>\n",
       "      <td>s.paulo</td>\n",
       "      <td>Psicológico</td>\n",
       "      <td>Violência psicológica por motivação religiosa</td>\n",
       "      <td>Ameaça (art. 147)</td>\n",
       "      <td>Individual ou até 3 pessoas</td>\n",
       "      <td>masculino</td>\n",
       "      <td>Ignorado</td>\n",
       "      <td>Ignorado</td>\n",
       "      <td>...</td>\n",
       "      <td>Branca</td>\n",
       "      <td>Ignorado</td>\n",
       "      <td>Ignorado</td>\n",
       "      <td>Ignorado</td>\n",
       "      <td>Ignorado</td>\n",
       "      <td>Ignorado</td>\n",
       "      <td>Ignorado</td>\n",
       "      <td>Ignorado</td>\n",
       "      <td>20302-2021-1018</td>\n",
       "      <td>3</td>\n",
       "    </tr>\n",
       "    <tr>\n",
       "      <th>261</th>\n",
       "      <td>2022/03/11 12:11:32</td>\n",
       "      <td>São Paulo</td>\n",
       "      <td>pereira barreto</td>\n",
       "      <td>Material</td>\n",
       "      <td>Violência institucional por motivação religios...</td>\n",
       "      <td>Dano (art. 163)</td>\n",
       "      <td>Individual ou até 3 pessoas</td>\n",
       "      <td>feminino</td>\n",
       "      <td>Feminino</td>\n",
       "      <td>Ignorado</td>\n",
       "      <td>...</td>\n",
       "      <td>Branca</td>\n",
       "      <td>Parda (negra)</td>\n",
       "      <td>Ignorado</td>\n",
       "      <td>Ignorado</td>\n",
       "      <td>Ignorado</td>\n",
       "      <td>Ignorado</td>\n",
       "      <td>Ignorado</td>\n",
       "      <td>Ignorado</td>\n",
       "      <td>50116-2019-120</td>\n",
       "      <td>4</td>\n",
       "    </tr>\n",
       "    <tr>\n",
       "      <th>262</th>\n",
       "      <td>2022/03/11 12:11:32</td>\n",
       "      <td>São Paulo</td>\n",
       "      <td>pereira barreto</td>\n",
       "      <td>Material</td>\n",
       "      <td>Violência institucional por motivação religios...</td>\n",
       "      <td>Dano (art. 163)</td>\n",
       "      <td>Individual ou até 3 pessoas</td>\n",
       "      <td>feminino</td>\n",
       "      <td>Feminino</td>\n",
       "      <td>Ignorado</td>\n",
       "      <td>...</td>\n",
       "      <td>Ignorado</td>\n",
       "      <td>Ignorado</td>\n",
       "      <td>Parda (negra)</td>\n",
       "      <td>Ignorado</td>\n",
       "      <td>Ignorado</td>\n",
       "      <td>Ignorado</td>\n",
       "      <td>Ignorado</td>\n",
       "      <td>Ignorado</td>\n",
       "      <td>50116-2019-120</td>\n",
       "      <td>4</td>\n",
       "    </tr>\n",
       "    <tr>\n",
       "      <th>...</th>\n",
       "      <td>...</td>\n",
       "      <td>...</td>\n",
       "      <td>...</td>\n",
       "      <td>...</td>\n",
       "      <td>...</td>\n",
       "      <td>...</td>\n",
       "      <td>...</td>\n",
       "      <td>...</td>\n",
       "      <td>...</td>\n",
       "      <td>...</td>\n",
       "      <td>...</td>\n",
       "      <td>...</td>\n",
       "      <td>...</td>\n",
       "      <td>...</td>\n",
       "      <td>...</td>\n",
       "      <td>...</td>\n",
       "      <td>...</td>\n",
       "      <td>...</td>\n",
       "      <td>...</td>\n",
       "      <td>...</td>\n",
       "      <td>...</td>\n",
       "    </tr>\n",
       "    <tr>\n",
       "      <th>27365</th>\n",
       "      <td>2022/03/17 16:28:00</td>\n",
       "      <td>PR</td>\n",
       "      <td>sao miguel do iguacu</td>\n",
       "      <td>Ignorado</td>\n",
       "      <td>Ignorado</td>\n",
       "      <td>INJURIA REFERENTE A RACA/COR/ETNIA/RELIGIAO/OR...</td>\n",
       "      <td>Individual ou até 3 pessoas</td>\n",
       "      <td>masculino</td>\n",
       "      <td>Ignorado</td>\n",
       "      <td>Ignorado</td>\n",
       "      <td>...</td>\n",
       "      <td>Ignorado</td>\n",
       "      <td>Ignorado</td>\n",
       "      <td>Ignorado</td>\n",
       "      <td>Ignorado</td>\n",
       "      <td>Ignorado</td>\n",
       "      <td>Ignorado</td>\n",
       "      <td>Ignorado</td>\n",
       "      <td>Ignorado</td>\n",
       "      <td>2021922247 - Sem dados de raça (vieram como M/...</td>\n",
       "      <td>9</td>\n",
       "    </tr>\n",
       "    <tr>\n",
       "      <th>27369</th>\n",
       "      <td>2022/03/17 16:28:00</td>\n",
       "      <td>PR</td>\n",
       "      <td>mariluz</td>\n",
       "      <td>Ignorado</td>\n",
       "      <td>Ignorado</td>\n",
       "      <td>INJURIA REFERENTE A RACA/COR/ETNIA/RELIGIAO/OR...</td>\n",
       "      <td>Individual ou até 3 pessoas</td>\n",
       "      <td>feminino</td>\n",
       "      <td>Ignorado</td>\n",
       "      <td>Ignorado</td>\n",
       "      <td>...</td>\n",
       "      <td>Ignorado</td>\n",
       "      <td>Ignorado</td>\n",
       "      <td>Ignorado</td>\n",
       "      <td>Ignorado</td>\n",
       "      <td>Ignorado</td>\n",
       "      <td>Ignorado</td>\n",
       "      <td>Ignorado</td>\n",
       "      <td>Ignorado</td>\n",
       "      <td>2021923995 - Sem dados de raça (vieram como M/...</td>\n",
       "      <td>9</td>\n",
       "    </tr>\n",
       "    <tr>\n",
       "      <th>27371</th>\n",
       "      <td>2022/03/17 16:28:00</td>\n",
       "      <td>PR</td>\n",
       "      <td>curitiba</td>\n",
       "      <td>Ignorado</td>\n",
       "      <td>Ignorado</td>\n",
       "      <td>INJURIA REFERENTE A RACA/COR/ETNIA/RELIGIAO/OR...</td>\n",
       "      <td>Individual ou até 3 pessoas</td>\n",
       "      <td>feminino</td>\n",
       "      <td>Masculino</td>\n",
       "      <td>Ignorado</td>\n",
       "      <td>...</td>\n",
       "      <td>Ignorado</td>\n",
       "      <td>Ignorado</td>\n",
       "      <td>Ignorado</td>\n",
       "      <td>Ignorado</td>\n",
       "      <td>Ignorado</td>\n",
       "      <td>Ignorado</td>\n",
       "      <td>Ignorado</td>\n",
       "      <td>Ignorado</td>\n",
       "      <td>2021931215 - Sem dados de raça (vieram como M/...</td>\n",
       "      <td>9</td>\n",
       "    </tr>\n",
       "    <tr>\n",
       "      <th>27377</th>\n",
       "      <td>2022/03/17 16:28:00</td>\n",
       "      <td>PR</td>\n",
       "      <td>itapejara do oeste</td>\n",
       "      <td>Ignorado</td>\n",
       "      <td>Ignorado</td>\n",
       "      <td>INJURIA REFERENTE A RACA/COR/ETNIA/RELIGIAO/OR...</td>\n",
       "      <td>Individual ou até 3 pessoas</td>\n",
       "      <td>masculino</td>\n",
       "      <td>Ignorado</td>\n",
       "      <td>Ignorado</td>\n",
       "      <td>...</td>\n",
       "      <td>Ignorado</td>\n",
       "      <td>Ignorado</td>\n",
       "      <td>Ignorado</td>\n",
       "      <td>Ignorado</td>\n",
       "      <td>Ignorado</td>\n",
       "      <td>Ignorado</td>\n",
       "      <td>Ignorado</td>\n",
       "      <td>Ignorado</td>\n",
       "      <td>2021933311 - Sem dados de raça (vieram como M/...</td>\n",
       "      <td>9</td>\n",
       "    </tr>\n",
       "    <tr>\n",
       "      <th>27409</th>\n",
       "      <td>2022/03/17 16:28:00</td>\n",
       "      <td>PR</td>\n",
       "      <td>sao sebastiao da amoreira</td>\n",
       "      <td>Ignorado</td>\n",
       "      <td>Ignorado</td>\n",
       "      <td>INJURIA REFERENTE A RACA/COR/ETNIA/RELIGIAO/OR...</td>\n",
       "      <td>Individual ou até 3 pessoas</td>\n",
       "      <td>masculino</td>\n",
       "      <td>Ignorado</td>\n",
       "      <td>Ignorado</td>\n",
       "      <td>...</td>\n",
       "      <td>Ignorado</td>\n",
       "      <td>Ignorado</td>\n",
       "      <td>Ignorado</td>\n",
       "      <td>Ignorado</td>\n",
       "      <td>Ignorado</td>\n",
       "      <td>Ignorado</td>\n",
       "      <td>Ignorado</td>\n",
       "      <td>Ignorado</td>\n",
       "      <td>2021969529 - Sem dados de raça (vieram como M/...</td>\n",
       "      <td>9</td>\n",
       "    </tr>\n",
       "  </tbody>\n",
       "</table>\n",
       "<p>373 rows × 49 columns</p>\n",
       "</div>"
      ],
      "text/plain": [
       "           Submission Date          UF                     Cidade  \\\n",
       "18     2022/03/16 09:39:46  Pernambuco                rio formoso   \n",
       "134    2022/03/11 12:11:32   São Paulo                    s.paulo   \n",
       "215    2022/03/11 12:11:32   São Paulo                    s.paulo   \n",
       "261    2022/03/11 12:11:32   São Paulo            pereira barreto   \n",
       "262    2022/03/11 12:11:32   São Paulo            pereira barreto   \n",
       "...                    ...         ...                        ...   \n",
       "27365  2022/03/17 16:28:00          PR       sao miguel do iguacu   \n",
       "27369  2022/03/17 16:28:00          PR                    mariluz   \n",
       "27371  2022/03/17 16:28:00          PR                   curitiba   \n",
       "27377  2022/03/17 16:28:00          PR         itapejara do oeste   \n",
       "27409  2022/03/17 16:28:00          PR  sao sebastiao da amoreira   \n",
       "\n",
       "              Dano                                          Violência  \\\n",
       "18        Ignorado                                           Ignorado   \n",
       "134    Psicológico      Violência psicológica por motivação religiosa   \n",
       "215    Psicológico      Violência psicológica por motivação religiosa   \n",
       "261       Material  Violência institucional por motivação religios...   \n",
       "262       Material  Violência institucional por motivação religios...   \n",
       "...            ...                                                ...   \n",
       "27365     Ignorado                                           Ignorado   \n",
       "27369     Ignorado                                           Ignorado   \n",
       "27371     Ignorado                                           Ignorado   \n",
       "27377     Ignorado                                           Ignorado   \n",
       "27409     Ignorado                                           Ignorado   \n",
       "\n",
       "                                             Tipificação  \\\n",
       "18                                              Ignorado   \n",
       "134                                   Injúria (art. 140)   \n",
       "215                                    Ameaça (art. 147)   \n",
       "261                                      Dano (art. 163)   \n",
       "262                                      Dano (art. 163)   \n",
       "...                                                  ...   \n",
       "27365  INJURIA REFERENTE A RACA/COR/ETNIA/RELIGIAO/OR...   \n",
       "27369  INJURIA REFERENTE A RACA/COR/ETNIA/RELIGIAO/OR...   \n",
       "27371  INJURIA REFERENTE A RACA/COR/ETNIA/RELIGIAO/OR...   \n",
       "27377  INJURIA REFERENTE A RACA/COR/ETNIA/RELIGIAO/OR...   \n",
       "27409  INJURIA REFERENTE A RACA/COR/ETNIA/RELIGIAO/OR...   \n",
       "\n",
       "                            Vítima Gênero da vítima 1 Gênero da vítima 2  \\\n",
       "18     Individual ou até 3 pessoas           feminino           Ignorado   \n",
       "134    Individual ou até 3 pessoas           feminino           Ignorado   \n",
       "215    Individual ou até 3 pessoas          masculino           Ignorado   \n",
       "261    Individual ou até 3 pessoas           feminino           Feminino   \n",
       "262    Individual ou até 3 pessoas           feminino           Feminino   \n",
       "...                            ...                ...                ...   \n",
       "27365  Individual ou até 3 pessoas          masculino           Ignorado   \n",
       "27369  Individual ou até 3 pessoas           feminino           Ignorado   \n",
       "27371  Individual ou até 3 pessoas           feminino          Masculino   \n",
       "27377  Individual ou até 3 pessoas          masculino           Ignorado   \n",
       "27409  Individual ou até 3 pessoas          masculino           Ignorado   \n",
       "\n",
       "      Gênero da vítima 3  ... Raça/cor do agressor 1 Raça/cor do agressor 2  \\\n",
       "18              Ignorado  ...               Ignorado               Ignorado   \n",
       "134             Ignorado  ...               Ignorado               Ignorado   \n",
       "215             Ignorado  ...                 Branca               Ignorado   \n",
       "261             Ignorado  ...                 Branca          Parda (negra)   \n",
       "262             Ignorado  ...               Ignorado               Ignorado   \n",
       "...                  ...  ...                    ...                    ...   \n",
       "27365           Ignorado  ...               Ignorado               Ignorado   \n",
       "27369           Ignorado  ...               Ignorado               Ignorado   \n",
       "27371           Ignorado  ...               Ignorado               Ignorado   \n",
       "27377           Ignorado  ...               Ignorado               Ignorado   \n",
       "27409           Ignorado  ...               Ignorado               Ignorado   \n",
       "\n",
       "      Raça/cor do agressor 3 Religião do agressor 1 Religião do agressor 2  \\\n",
       "18                  Ignorado               Ignorado               Ignorado   \n",
       "134                 Ignorado               Ignorado               Ignorado   \n",
       "215                 Ignorado               Ignorado               Ignorado   \n",
       "261                 Ignorado               Ignorado               Ignorado   \n",
       "262            Parda (negra)               Ignorado               Ignorado   \n",
       "...                      ...                    ...                    ...   \n",
       "27365               Ignorado               Ignorado               Ignorado   \n",
       "27369               Ignorado               Ignorado               Ignorado   \n",
       "27371               Ignorado               Ignorado               Ignorado   \n",
       "27377               Ignorado               Ignorado               Ignorado   \n",
       "27409               Ignorado               Ignorado               Ignorado   \n",
       "\n",
       "      Religião do agressor 3  \\\n",
       "18                  Ignorado   \n",
       "134                 Ignorado   \n",
       "215                 Ignorado   \n",
       "261                 Ignorado   \n",
       "262                 Ignorado   \n",
       "...                      ...   \n",
       "27365               Ignorado   \n",
       "27369               Ignorado   \n",
       "27371               Ignorado   \n",
       "27377               Ignorado   \n",
       "27409               Ignorado   \n",
       "\n",
       "                                         Encaminhamentos    Resumo  \\\n",
       "18                                              Ignorado  Ignorado   \n",
       "134    §3o. Se a injúria consiste em raça/cor/etnia/r...  Ignorado   \n",
       "215                                             Ignorado  Ignorado   \n",
       "261                                             Ignorado  Ignorado   \n",
       "262                                             Ignorado  Ignorado   \n",
       "...                                                  ...       ...   \n",
       "27365                                           Ignorado  Ignorado   \n",
       "27369                                           Ignorado  Ignorado   \n",
       "27371                                           Ignorado  Ignorado   \n",
       "27377                                           Ignorado  Ignorado   \n",
       "27409                                           Ignorado  Ignorado   \n",
       "\n",
       "                                             Observações Mês  \n",
       "18                                              Ignorado  11  \n",
       "134                                      10326-2021-5301  10  \n",
       "215                                      20302-2021-1018   3  \n",
       "261                                       50116-2019-120   4  \n",
       "262                                       50116-2019-120   4  \n",
       "...                                                  ...  ..  \n",
       "27365  2021922247 - Sem dados de raça (vieram como M/...   9  \n",
       "27369  2021923995 - Sem dados de raça (vieram como M/...   9  \n",
       "27371  2021931215 - Sem dados de raça (vieram como M/...   9  \n",
       "27377  2021933311 - Sem dados de raça (vieram como M/...   9  \n",
       "27409  2021969529 - Sem dados de raça (vieram como M/...   9  \n",
       "\n",
       "[373 rows x 49 columns]"
      ]
     },
     "execution_count": 113,
     "metadata": {},
     "output_type": "execute_result"
    }
   ],
   "source": [
    "idade_vit.loc[idade_vit['Idade da vítima 1'] <= 15.0]"
   ]
  },
  {
   "cell_type": "code",
   "execution_count": 114,
   "id": "7d1a745a",
   "metadata": {
    "collapsed": true
   },
   "outputs": [
    {
     "data": {
      "text/plain": [
       "count    24703.000000\n",
       "mean        36.886775\n",
       "std         12.744054\n",
       "min          0.000000\n",
       "25%         28.000000\n",
       "50%         35.000000\n",
       "75%         44.000000\n",
       "max        126.000000\n",
       "Name: Idade da vítima 1, dtype: float64"
      ]
     },
     "execution_count": 114,
     "metadata": {},
     "output_type": "execute_result"
    }
   ],
   "source": [
    "idade_vit['Idade da vítima 1'].describe()"
   ]
  },
  {
   "cell_type": "code",
   "execution_count": 115,
   "id": "1f6c5371",
   "metadata": {
    "collapsed": true
   },
   "outputs": [
    {
     "data": {
      "text/plain": [
       "<AxesSubplot:>"
      ]
     },
     "execution_count": 115,
     "metadata": {},
     "output_type": "execute_result"
    },
    {
     "data": {
      "image/png": "[encoded data removed]",
      "text/plain": [
       "<Figure size 432x288 with 1 Axes>"
      ]
     },
     "metadata": {
      "needs_background": "light"
     },
     "output_type": "display_data"
    }
   ],
   "source": [
    "idade_vit['Idade da vítima 1'].hist(color='Blue')"
   ]
  }
 ],
 "metadata": {
  "celltoolbar": "Raw Cell Format",
  "kernelspec": {
   "display_name": "Python 3 (ipykernel)",
   "language": "python",
   "name": "python3"
  },
  "language_info": {
   "codemirror_mode": {
    "name": "ipython",
    "version": 3
   },
   "file_extension": ".py",
   "mimetype": "text/x-python",
   "name": "python",
   "nbconvert_exporter": "python",
   "pygments_lexer": "ipython3",
   "version": "3.10.4"
  },
  "varInspector": {
   "cols": {
    "lenName": 16,
    "lenType": 16,
    "lenVar": 40
   },
   "kernels_config": {
    "python": {
     "delete_cmd_postfix": "",
     "delete_cmd_prefix": "del ",
     "library": "var_list.py",
     "varRefreshCmd": "print(var_dic_list())"
    },
    "r": {
     "delete_cmd_postfix": ") ",
     "delete_cmd_prefix": "rm(",
     "library": "var_list.r",
     "varRefreshCmd": "cat(var_dic_list()) "
    }
   },
   "types_to_exclude": [
    "module",
    "function",
    "builtin_function_or_method",
    "instance",
    "_Feature"
   ],
   "window_display": false
  }
 },
 "nbformat": 4,
 "nbformat_minor": 5
}
